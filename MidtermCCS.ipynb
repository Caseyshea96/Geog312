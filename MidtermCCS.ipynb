{
  "nbformat": 4,
  "nbformat_minor": 0,
  "metadata": {
    "colab": {
      "provenance": [],
      "authorship_tag": "ABX9TyMDNQTxLujEnWTeCYa4MjMP",
      "include_colab_link": true
    },
    "kernelspec": {
      "name": "python3",
      "display_name": "Python 3"
    },
    "language_info": {
      "name": "python"
    }
  },
  "cells": [
    {
      "cell_type": "markdown",
      "metadata": {
        "id": "view-in-github",
        "colab_type": "text"
      },
      "source": [
        "<a href=\"https://colab.research.google.com/github/Caseyshea96/Lab01CCS/blob/main/MidtermCCS.ipynb\" target=\"_parent\"><img src=\"https://colab.research.google.com/assets/colab-badge.svg\" alt=\"Open In Colab\"/></a>"
      ]
    },
    {
      "cell_type": "markdown",
      "source": [
        "Question 1. Please write a python script that provides a printed output for the following\n",
        "arithmetic functions (you can use any numbers):\n",
        "Multiplication\n",
        "Division\n",
        "Addition\n",
        "Subtraction\n",
        "Modulo Operator"
      ],
      "metadata": {
        "id": "tOx5QMHXLdfE"
      }
    },
    {
      "cell_type": "code",
      "execution_count": null,
      "metadata": {
        "id": "m2EUR5suLOKI",
        "colab": {
          "base_uri": "https://localhost:8080/"
        },
        "outputId": "e19b2fd5-73bd-4dd1-8e39-6d1be35c8b05"
      },
      "outputs": [
        {
          "output_type": "stream",
          "name": "stdout",
          "text": [
            "10 * 20 = 200\n",
            "10 / 20 = 0.5\n",
            "10 + 20 = 30\n",
            "10 - 20 = -10\n",
            "10 % 20 = 10\n"
          ]
        }
      ],
      "source": [
        "num1 = 10\n",
        "num2 = 20\n",
        "\n",
        "multiply = num1 * num2\n",
        "divide = num1 / num2\n",
        "add = num1 + num2\n",
        "sub = num1 - num2\n",
        "modulo = num1 % num2\n",
        "\n",
        "\n",
        "print(f'10 * 20 = {multiply}')\n",
        "print(f'10 / 20 = {divide}')\n",
        "print(f'10 + 20 = {add}')\n",
        "print(f'10 - 20 = {sub}')\n",
        "print(f'10 % 20 = {modulo}')\n"
      ]
    },
    {
      "cell_type": "markdown",
      "source": [
        "Question 2. Create an array with at least one of each data type. Create an array with only one\n",
        "data type. Compare the data types using a logical expression (equals, greater than or equal, not\n",
        "equal). Please have these values printed out.\n"
      ],
      "metadata": {
        "id": "rZjYBoJTLa7r"
      }
    },
    {
      "cell_type": "code",
      "source": [
        "arraymix = [1,2,\"yes\", True]\n",
        "arraynum = [1,2,3,4]\n",
        "\n",
        "equal = arraymix[0] == arraynum[0]\n",
        "greater = (arraymix[0]) >= (arraynum[0])\n",
        "notequal = arraymix[0] != arraynum[0]\n",
        "\n",
        "\n",
        "print(\"Mixed array -\", arraymix)\n",
        "print(\"Integer array -\", arraynum)\n",
        "print(\"Check for equal-\", equal)\n",
        "print(\"Check for not equal-\", notequal)\n",
        "print(\"Check greater than or equal-\", greater)\n",
        "\n"
      ],
      "metadata": {
        "id": "ki-mIESJLtVB",
        "colab": {
          "base_uri": "https://localhost:8080/"
        },
        "outputId": "9d6b5b8c-22a4-40e7-91b5-157ac2717be5"
      },
      "execution_count": null,
      "outputs": [
        {
          "output_type": "stream",
          "name": "stdout",
          "text": [
            "Mixed array - [1, 2, 'yes', True]\n",
            "Integer array - [1, 2, 3, 4]\n",
            "Check for equal- True\n",
            "Check for not equal- False\n",
            "Check greater than or equal- True\n"
          ]
        }
      ]
    },
    {
      "cell_type": "markdown",
      "source": [
        "Question 3. Create a list and use a for loop to print out each element of that list.\n"
      ],
      "metadata": {
        "id": "J7U1_Z0OLjzQ"
      }
    },
    {
      "cell_type": "code",
      "source": [
        "food = ['Pizza', 'Hot dog', 'Nachos']\n",
        "\n",
        "for concessions in food:\n",
        "  print(concessions)"
      ],
      "metadata": {
        "id": "uYOVPLufLtxU",
        "colab": {
          "base_uri": "https://localhost:8080/"
        },
        "outputId": "a5fccea2-4013-4c4a-8b3e-bdd35e1ee711"
      },
      "execution_count": null,
      "outputs": [
        {
          "output_type": "stream",
          "name": "stdout",
          "text": [
            "Pizza\n",
            "Hot dog\n",
            "Nachos\n"
          ]
        }
      ]
    },
    {
      "cell_type": "markdown",
      "source": [
        "Question 4. Create an array with numbers ranging from 1 to 100. Using a for loop, change the\n",
        "value of each even number in the total range of values to be equal to 0 within the array. Print out\n",
        "the final results as a table.\n"
      ],
      "metadata": {
        "id": "uj3OsZDFLkid"
      }
    },
    {
      "cell_type": "code",
      "source": [
        "array = list(range(1,101))\n",
        "\n",
        "for i in range(len(array)):\n",
        "  if array[i] % 2 == 0:\n",
        "    array[i] = 0\n",
        "\n",
        "for i, number in enumerate(array):\n",
        "  print(f\"{i}\\t{number}\")\n"
      ],
      "metadata": {
        "id": "akfluftoLuTF",
        "colab": {
          "base_uri": "https://localhost:8080/"
        },
        "outputId": "9fbc4420-5bc1-4931-b4be-9c80b91ae11f"
      },
      "execution_count": null,
      "outputs": [
        {
          "output_type": "stream",
          "name": "stdout",
          "text": [
            "0\t1\n",
            "1\t0\n",
            "2\t3\n",
            "3\t0\n",
            "4\t5\n",
            "5\t0\n",
            "6\t7\n",
            "7\t0\n",
            "8\t9\n",
            "9\t0\n",
            "10\t11\n",
            "11\t0\n",
            "12\t13\n",
            "13\t0\n",
            "14\t15\n",
            "15\t0\n",
            "16\t17\n",
            "17\t0\n",
            "18\t19\n",
            "19\t0\n",
            "20\t21\n",
            "21\t0\n",
            "22\t23\n",
            "23\t0\n",
            "24\t25\n",
            "25\t0\n",
            "26\t27\n",
            "27\t0\n",
            "28\t29\n",
            "29\t0\n",
            "30\t31\n",
            "31\t0\n",
            "32\t33\n",
            "33\t0\n",
            "34\t35\n",
            "35\t0\n",
            "36\t37\n",
            "37\t0\n",
            "38\t39\n",
            "39\t0\n",
            "40\t41\n",
            "41\t0\n",
            "42\t43\n",
            "43\t0\n",
            "44\t45\n",
            "45\t0\n",
            "46\t47\n",
            "47\t0\n",
            "48\t49\n",
            "49\t0\n",
            "50\t51\n",
            "51\t0\n",
            "52\t53\n",
            "53\t0\n",
            "54\t55\n",
            "55\t0\n",
            "56\t57\n",
            "57\t0\n",
            "58\t59\n",
            "59\t0\n",
            "60\t61\n",
            "61\t0\n",
            "62\t63\n",
            "63\t0\n",
            "64\t65\n",
            "65\t0\n",
            "66\t67\n",
            "67\t0\n",
            "68\t69\n",
            "69\t0\n",
            "70\t71\n",
            "71\t0\n",
            "72\t73\n",
            "73\t0\n",
            "74\t75\n",
            "75\t0\n",
            "76\t77\n",
            "77\t0\n",
            "78\t79\n",
            "79\t0\n",
            "80\t81\n",
            "81\t0\n",
            "82\t83\n",
            "83\t0\n",
            "84\t85\n",
            "85\t0\n",
            "86\t87\n",
            "87\t0\n",
            "88\t89\n",
            "89\t0\n",
            "90\t91\n",
            "91\t0\n",
            "92\t93\n",
            "93\t0\n",
            "94\t95\n",
            "95\t0\n",
            "96\t97\n",
            "97\t0\n",
            "98\t99\n",
            "99\t0\n"
          ]
        }
      ]
    },
    {
      "cell_type": "markdown",
      "source": [
        "Question 5. Create a function that will print out a conversation between two people. Your\n",
        "function should accept two inputs: 1. The name of person A, and the name of Person B. Write\n",
        "your function so that if the name of Person A is less than 5 characters, Person B will reply with\n",
        "the line: “Wow, your name is so short!” (print the message to the console).\n",
        "Example:\n",
        "Person A: “Hi my name is ____”\n",
        "Person B: “Hello, person A name, my name is ____”\n",
        "Person B: “Wow, your name is so short!”\n"
      ],
      "metadata": {
        "id": "USfX1d0TLnTx"
      }
    },
    {
      "cell_type": "code",
      "source": [
        "def conversation(namea, nameb):\n",
        "  print(f\"Person A: 'Hi, my name is {namea}'\")\n",
        "  print(f\"Person B: 'Hi, {namea}, my name is {nameb}'\")\n",
        "  if len(namea) <5:\n",
        "        print(\"Person B: 'Wow your name is so short!'\")\n",
        "\n",
        "conversation(\"Joe\",\"Jennifer\")\n"
      ],
      "metadata": {
        "id": "dCmUjfAsLvub",
        "colab": {
          "base_uri": "https://localhost:8080/"
        },
        "outputId": "29ec8ed1-2b4e-45b9-ca6b-5e1e06b94e80"
      },
      "execution_count": null,
      "outputs": [
        {
          "output_type": "stream",
          "name": "stdout",
          "text": [
            "Person A: 'Hi, my name is Joe'\n",
            "Person B: 'Hi, Joe, my name is Jennifer'\n",
            "Person B: 'Wow your name is so short!'\n"
          ]
        }
      ]
    },
    {
      "cell_type": "markdown",
      "source": [
        "Question 6. Create two arrays that each have a random range of numbers from 1 to 50. Conduct\n",
        "the following arithmetic functions across the two arrays and print out the results:\n",
        "Multiplication\n",
        "Division\n",
        "Addition\n",
        "Subtraction\n",
        "Modulo Operator\n"
      ],
      "metadata": {
        "id": "p9amF1VCLw6g"
      }
    },
    {
      "cell_type": "code",
      "source": [
        "import random\n",
        "\n",
        "def create_random_array(size, lower, upper):\n",
        "    return [random.randint(lower, upper) for _ in range(size)]\n",
        "\n",
        "size = 5\n",
        "\n",
        "array1 = create_random_array(size, 1, 50)\n",
        "array2 = create_random_array(size, 1, 50)\n",
        "\n",
        "product = [a * b for a, b in zip(array1, array2)]\n",
        "division = [a / b for a, b in zip(array1, array2)]\n",
        "addition = [a + b for a, b in zip(array1, array2)]\n",
        "subtraction = [a - b for a, b in zip(array1, array2)]\n",
        "modulo = [a % b for a, b in zip(array1, array2)]\n",
        "\n",
        "print(\"Array 1:\", array1)\n",
        "print(\"Array 2:\", array2)\n",
        "print(\"Multiplication:\", product)\n",
        "print(\"Division:\", division)\n",
        "print(\"Addition:\", addition)\n",
        "print(\"Subtraction:\", subtraction)\n",
        "print(\"Modulo:\", modulo)\n"
      ],
      "metadata": {
        "id": "GbdJarJzL0nE",
        "colab": {
          "base_uri": "https://localhost:8080/"
        },
        "outputId": "cbe66f13-eb6f-4302-f04b-293d71999f0e"
      },
      "execution_count": 2,
      "outputs": [
        {
          "output_type": "stream",
          "name": "stdout",
          "text": [
            "Array 1: [19, 40, 6, 45, 1]\n",
            "Array 2: [11, 21, 26, 32, 8]\n",
            "Multiplication: [209, 840, 156, 1440, 8]\n",
            "Division: [1.7272727272727273, 1.9047619047619047, 0.23076923076923078, 1.40625, 0.125]\n",
            "Addition: [30, 61, 32, 77, 9]\n",
            "Subtraction: [8, 19, -20, 13, -7]\n",
            "Modulo: [8, 19, 6, 13, 1]\n"
          ]
        }
      ]
    },
    {
      "cell_type": "markdown",
      "source": [
        "Question 7. Create a dictionary that has key, value pairs for different types of foods. Create a\n",
        "similar function to Question 5’s function that prints out the value of a key based on input from a\n",
        "user.\n",
        "Example:\n",
        "“Please type your favorite food: “\n",
        "User types: Pizza\n",
        "Code response: “Ah, Pizza, we have pepperoni.”\n",
        "Where pepperoni is the value of the key.\n"
      ],
      "metadata": {
        "id": "qFcClH3CL1BO"
      }
    },
    {
      "cell_type": "code",
      "source": [
        "food = {\n",
        "    \"pizza\": \"We have pepperoni.\",\n",
        "    \"pasta\": \"We have rigatoni\",\n",
        "    \"sandwich\": \"We have an Italian\",\n",
        "    \"burger\": \"We have cheeseburgers\",\n",
        "}\n",
        "\n",
        "def food_response():\n",
        "  user_input = input(\"Please type your favorite food:\")\n",
        "  if user_input in food:\n",
        "    print(f\"Ah, {user_input}, {food[user_input]}.\")\n",
        "  else:\n",
        "    print(f\"Sorry, we don't have any {user_input}.\")\n",
        "\n",
        "food_response()"
      ],
      "metadata": {
        "id": "4NF25Gw9L4mL",
        "colab": {
          "base_uri": "https://localhost:8080/"
        },
        "outputId": "a797c1a4-cd89-4b9a-992c-93fac58dd23a"
      },
      "execution_count": 10,
      "outputs": [
        {
          "output_type": "stream",
          "name": "stdout",
          "text": [
            "Please type your favorite food:sushi\n",
            "Sorry, we don't have any sushi.\n"
          ]
        }
      ]
    },
    {
      "cell_type": "markdown",
      "source": [
        "Question 8. Create a while loop that will continuously print a message until a specified value is\n",
        "reached.\n"
      ],
      "metadata": {
        "id": "hk-4s2i7L5FE"
      }
    },
    {
      "cell_type": "code",
      "source": [
        "stop_at = 10\n",
        "counter = 0\n",
        "\n",
        "while counter < stop_at:\n",
        "  print(\"This message will appear until the program counts to 10.\")\n",
        "  counter +=1\n",
        "\n",
        "print(\"The count has reached 10. Ending loop.\")"
      ],
      "metadata": {
        "id": "wgkhgxbuL72m",
        "colab": {
          "base_uri": "https://localhost:8080/"
        },
        "outputId": "48d9c389-e12b-4d83-964f-efe96684802b"
      },
      "execution_count": 12,
      "outputs": [
        {
          "output_type": "stream",
          "name": "stdout",
          "text": [
            "This message will appear until the program counts to 10.\n",
            "This message will appear until the program counts to 10.\n",
            "This message will appear until the program counts to 10.\n",
            "This message will appear until the program counts to 10.\n",
            "This message will appear until the program counts to 10.\n",
            "This message will appear until the program counts to 10.\n",
            "This message will appear until the program counts to 10.\n",
            "This message will appear until the program counts to 10.\n",
            "This message will appear until the program counts to 10.\n",
            "This message will appear until the program counts to 10.\n",
            "The count has reached 10. Ending loop.\n"
          ]
        }
      ]
    },
    {
      "cell_type": "markdown",
      "source": [
        "Question 8b. Create a while loop that runs a calculation on an array of numbers until the last\n",
        "value within the array has been run.\n",
        "The array can contain any numerical values, and the calculation can be something as simple as\n",
        "multiplying the values by pi or something more complex"
      ],
      "metadata": {
        "id": "y5QlcjF9L8Mp"
      }
    },
    {
      "cell_type": "code",
      "source": [
        "numbers = [1,3,5,7]\n",
        "\n",
        "index = 0\n",
        "\n",
        "while index < len(numbers):\n",
        "  result = numbers[index] * 3.14\n",
        "  print(f\"Original: {numbers[index]}, Result: {result}\")\n",
        "  index += 1\n",
        "\n",
        "print(\"Calculations complete\")"
      ],
      "metadata": {
        "id": "W-jgGcsZL-7B",
        "colab": {
          "base_uri": "https://localhost:8080/"
        },
        "outputId": "90a65961-4b09-43e6-ae58-4834137cfe50"
      },
      "execution_count": 13,
      "outputs": [
        {
          "output_type": "stream",
          "name": "stdout",
          "text": [
            "Original: 1, Result: 3.14\n",
            "Original: 3, Result: 9.42\n",
            "Original: 5, Result: 15.700000000000001\n",
            "Original: 7, Result: 21.98\n",
            "Calculations complete\n"
          ]
        }
      ]
    },
    {
      "cell_type": "markdown",
      "source": [
        "Question 9. Please explain the difference between a list, an array, and a dictionary and when you\n",
        "would use each one. (Type your answer as a comment or within a text cell).\n"
      ],
      "metadata": {
        "id": "ez2tDI7zL_ST"
      }
    },
    {
      "cell_type": "markdown",
      "source": [
        "-A list in python is a collection of data that can be ordered and changed. They\n",
        "are stored using square brackets and can not contain duplicate items. You would use this to store any number of items that you may need to manipulate.\n",
        "\n",
        "-An array works almost identically to a list and is stored in the same manner. An array would be used rather than a list when all of the data being stored is the same type.\n",
        "\n",
        "-A dictionary is used to store key-value pairs as one variable. This means that each item in the dictionary will contain an entry paired with another one. This is useful when the variables being stored have additional data or descriptions that need to be included."
      ],
      "metadata": {
        "id": "lwi907T2a0JM"
      }
    },
    {
      "cell_type": "markdown",
      "source": [
        "Question 10. Please explain the difference between logical operators and comparison operators\n",
        "and describe one use case for when they would be used (do not use the description from the\n",
        "lecture/lab materials - think through it):\n",
        "\n",
        "\n",
        "-Comparison operators are used to evaluate two or more things against each other. This will return a true or false that can be used to continue the coding operation. Logical operators are used to combine expressions using \"&&\" or \"|\" to return a single output. Comparison operators are generally used for simple evaluations such as checking for equality or to see if one number is greater than the other. Logical operators are used when you want something to run only if both or one expression is returned as true.\n"
      ],
      "metadata": {
        "id": "9z4Q4-oNMC47"
      }
    }
  ]
}