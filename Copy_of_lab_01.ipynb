{
  "cells": [
    {
      "cell_type": "markdown",
      "metadata": {
        "id": "qgNV4flStaAU"
      },
      "source": [
        "[![image](https://colab.research.google.com/assets/colab-badge.svg)](https://colab.research.google.com/github/giswqs/geog-312/blob/master/labs/lab_01.ipynb)\n",
        "[![image](https://binder.pangeo.io/badge_logo.svg)](https://gishub.org/geog312-pangeo)"
      ]
    },
    {
      "cell_type": "code",
      "execution_count": null,
      "metadata": {
        "id": "e_h0fqpOtaAV",
        "colab": {
          "base_uri": "https://localhost:8080/"
        },
        "outputId": "d54f0ce7-ff57-445f-9f2d-58e07eae20b8"
      },
      "outputs": [
        {
          "output_type": "stream",
          "name": "stdout",
          "text": [
            "Submitted time: 2023-09-06 14:55:17.817914\n"
          ]
        }
      ],
      "source": [
        "from datetime import datetime\n",
        "\n",
        "now = datetime.now()\n",
        "print(f\"Submitted time: {now}\")"
      ]
    },
    {
      "cell_type": "markdown",
      "metadata": {
        "id": "qD4twyXPtaAW"
      },
      "source": [
        "## Question 1\n",
        "\n",
        "**Simple Message:** Assign a message to a variable, and then print that message."
      ]
    },
    {
      "cell_type": "code",
      "execution_count": null,
      "metadata": {
        "id": "6QMS9HbotaAW",
        "outputId": "f58b8d18-0543-4bff-ec6b-fe7728b505b1",
        "colab": {
          "base_uri": "https://localhost:8080/"
        }
      },
      "outputs": [
        {
          "output_type": "stream",
          "name": "stdout",
          "text": [
            "Hello Gis class!\n"
          ]
        }
      ],
      "source": [
        "message = \"Hello Gis class!\"\n",
        "print(message)"
      ]
    },
    {
      "cell_type": "markdown",
      "metadata": {
        "id": "8uHpS1v_taAW"
      },
      "source": [
        "## Question 2\n",
        "**Simple Messages:** Assign a message to a variable, and print that message. Then change the value of the variable to a new message, and print the new message."
      ]
    },
    {
      "cell_type": "code",
      "execution_count": null,
      "metadata": {
        "id": "l8YTKkkytaAW",
        "outputId": "81c68df5-0352-4148-c1ca-44e62bd419f4",
        "colab": {
          "base_uri": "https://localhost:8080/"
        }
      },
      "outputs": [
        {
          "output_type": "stream",
          "name": "stdout",
          "text": [
            "Hello Gis class!\n",
            "How are you today?\n"
          ]
        }
      ],
      "source": [
        "message = \"Hello Gis class!\"\n",
        "print(message)\n",
        "\n",
        "message = \"How are you today?\"\n",
        "print(message)"
      ]
    },
    {
      "cell_type": "markdown",
      "metadata": {
        "id": "YJ0YQZo5taAX"
      },
      "source": [
        "## Question 3\n",
        "**Personal Message:** Use a variable to represent a person’s name, and print a message to that person. Your message should be simple, such as, “Hello Eric, would you like to learn some Python today?”"
      ]
    },
    {
      "cell_type": "code",
      "execution_count": null,
      "metadata": {
        "id": "ZpLfMN3ttaAX",
        "outputId": "e386c635-49ab-4cc8-ef9a-0c8c3fb83831",
        "colab": {
          "base_uri": "https://localhost:8080/"
        }
      },
      "outputs": [
        {
          "output_type": "stream",
          "name": "stdout",
          "text": [
            "Hello Eric, would you like to learn some Python today?\n"
          ]
        }
      ],
      "source": [
        "Eric_variable = \"Hello Eric, would you like to learn some Python today?\"\n",
        "print(Eric_variable)"
      ]
    },
    {
      "cell_type": "markdown",
      "metadata": {
        "id": "zdyYgE6VtaAX"
      },
      "source": [
        "## Question 4\n",
        "**Name Cases:** Use a variable to represent a person’s name, and then print that person’s name in lowercase, uppercase, and title case."
      ]
    },
    {
      "cell_type": "code",
      "execution_count": null,
      "metadata": {
        "id": "Jy6q_uk2taAY",
        "outputId": "40eb8f16-a420-4191-98e9-688439591ad4",
        "colab": {
          "base_uri": "https://localhost:8080/"
        }
      },
      "outputs": [
        {
          "output_type": "stream",
          "name": "stdout",
          "text": [
            "Eric Smith\n"
          ]
        }
      ],
      "source": [
        "Eric_Smith = \"Eric Smith\"\n",
        "print(Eric_Smith)"
      ]
    },
    {
      "cell_type": "markdown",
      "metadata": {
        "id": "H_2kd2TptaAY"
      },
      "source": [
        "## Question 5\n",
        "**Famous Quote:** Find a quote from a famous person you admire. Print the quote and the name of its author. Your output should look something like the following, including the quotation marks:\n",
        "```\n",
        "Albert Einstein once said, “A person who never made a mistake never tried anything new.”\n",
        "```"
      ]
    },
    {
      "cell_type": "markdown",
      "source": [],
      "metadata": {
        "id": "LlFPVPwXvSRk"
      }
    },
    {
      "cell_type": "code",
      "execution_count": null,
      "metadata": {
        "id": "x_Tm7bBetaAY",
        "outputId": "e0538fd8-9c5d-4898-df73-be1903ada5fa",
        "colab": {
          "base_uri": "https://localhost:8080/"
        }
      },
      "outputs": [
        {
          "output_type": "stream",
          "name": "stdout",
          "text": [
            "Albert Einstein once said, “Life is like riding a bicycle. To keep your balance, you must keep moving.”\n"
          ]
        }
      ],
      "source": [
        "Albert_Einstein = \"Albert Einstein once said, “Life is like riding a bicycle. To keep your balance, you must keep moving.”\"\n",
        "print(Albert_Einstein)"
      ]
    },
    {
      "cell_type": "markdown",
      "metadata": {
        "id": "BZbUUpf4taAY"
      },
      "source": [
        "## Question 6\n",
        "**Famous Quote 2:** Repeat Exercise 2-5, but this time, represent the famous person’s name using a variable called famous_person. Then compose your message and represent it with a new variable called message. Print your\n",
        "message."
      ]
    },
    {
      "cell_type": "code",
      "execution_count": null,
      "metadata": {
        "id": "okWdys8staAY",
        "outputId": "2eb3cfd9-a8fb-42f3-b126-f08e0e351e24",
        "colab": {
          "base_uri": "https://localhost:8080/"
        }
      },
      "outputs": [
        {
          "output_type": "stream",
          "name": "stdout",
          "text": [
            "Albert Einstein once said, “Life is like riding a bicycle. To keep your balance, you must keep moving.”\n"
          ]
        }
      ],
      "source": [
        "Famous_person = \"Albert Einstein\"\n",
        "Message = f\"{Famous_person} once said, “Life is like riding a bicycle. To keep your balance, you must keep moving.”\"\n",
        "print(Message)"
      ]
    },
    {
      "cell_type": "markdown",
      "metadata": {
        "id": "-6iG4fEMtaAY"
      },
      "source": [
        "## Question 7\n",
        "**Stripping Names:** Use a variable to represent a person’s name, and include some whitespace characters at the beginning and end of the name. Make sure you use each character combination, \"\\t\" and \"\\n\", at least once.\n",
        "Print the name once, so the whitespace around the name is displayed. Then print the name using each of the three stripping functions, lstrip(), rstrip(), and strip()."
      ]
    },
    {
      "cell_type": "code",
      "execution_count": null,
      "metadata": {
        "id": "Wt1PsxIDtaAY",
        "colab": {
          "base_uri": "https://localhost:8080/"
        },
        "outputId": "ab9c7ae2-9ac0-4aca-a3c5-4e49b0650a37"
      },
      "outputs": [
        {
          "output_type": "stream",
          "name": "stdout",
          "text": [
            "\t Bill Smith \n",
            "\t Bill Smith\n",
            "Bill Smith \n",
            "Bill Smith\n"
          ]
        }
      ],
      "source": [
        "person_1='\\t Bill Smith '\n",
        "print(person_1)\n",
        "print(person_1.rstrip())\n",
        "print(person_1.lstrip())\n",
        "print(person_1.strip())"
      ]
    },
    {
      "cell_type": "markdown",
      "metadata": {
        "id": "qxfJL7mUtaAZ"
      },
      "source": [
        "## Question 8\n",
        "**Number Eight:** Write addition, subtraction, multiplication, and division operations that each result in the number 8. Be sure to enclose your operations in print() calls to see the results. You should create four lines that look like this:\n",
        "\n",
        "```\n",
        "print(5 + 3)\n",
        "```\n",
        "Your output should simply be four lines with the number 8 appearing once on each line."
      ]
    },
    {
      "cell_type": "code",
      "execution_count": null,
      "metadata": {
        "id": "u4fxOWNXtaAZ",
        "colab": {
          "base_uri": "https://localhost:8080/"
        },
        "outputId": "784f96fe-5dd9-4d04-9fc4-072f4f2dcd1d"
      },
      "outputs": [
        {
          "output_type": "stream",
          "name": "stdout",
          "text": [
            "8\n",
            "8\n",
            "8\n",
            "8.0\n"
          ]
        }
      ],
      "source": [
        "print(4+4)\n",
        "print(10-2)\n",
        "print(4*2)\n",
        "print(16/2)"
      ]
    },
    {
      "cell_type": "markdown",
      "metadata": {
        "id": "Br7YYlS0taAZ"
      },
      "source": [
        "## Question 9\n",
        "**Favorite Number:**  Use a variable to represent your favorite number. Then, using that variable, create a message that reveals your favorite number. Print that message."
      ]
    },
    {
      "cell_type": "code",
      "execution_count": null,
      "metadata": {
        "id": "I8c7kP8ftaAZ",
        "colab": {
          "base_uri": "https://localhost:8080/"
        },
        "outputId": "096885d3-6a01-4fe8-c4bd-f21bf2840dfd"
      },
      "outputs": [
        {
          "output_type": "stream",
          "name": "stdout",
          "text": [
            "My favorite number is 12\n"
          ]
        }
      ],
      "source": [
        "FAVORITE_NUM = \"12\"\n",
        "Message_1 = \"My favorite number is\"\n",
        "print(Message_1, FAVORITE_NUM)"
      ]
    },
    {
      "cell_type": "markdown",
      "metadata": {
        "id": "RxvBl2MltaAZ"
      },
      "source": [
        "## Question 10\n",
        "**Adding Comments:** Choose two of the programs you’ve written, and add at least one comment to each. If you don’t have anything specific to write because your programs are too simple at this point, just add your name and\n",
        "the current date at the top of each program file. Then write one sentence describing what the program does."
      ]
    },
    {
      "cell_type": "code",
      "execution_count": null,
      "metadata": {
        "id": "hC6HzDcGtaAZ",
        "colab": {
          "base_uri": "https://localhost:8080/"
        },
        "outputId": "702bfce2-dab8-4a8e-c84f-6ac065220af3"
      },
      "outputs": [
        {
          "output_type": "stream",
          "name": "stdout",
          "text": [
            "8\n",
            "8\n",
            "8\n",
            "8.0\n",
            "Albert Einstein once said, “Life is like riding a bicycle. To keep your balance, you must keep moving.”\n"
          ]
        }
      ],
      "source": [
        "# Casey Shea 9/6/2023\n",
        "print(4+4)\n",
        "print(10-2)\n",
        "print(4*2)\n",
        "print(16/2)\n",
        "# This shows how to print mathematical equations\n",
        "\n",
        "Albert_Einstein = \"Albert Einstein once said, “Life is like riding a bicycle. To keep your balance, you must keep moving.”\"\n",
        "print(Albert_Einstein)\n",
        "\n",
        "#This shows how to print a defined message\n"
      ]
    },
    {
      "cell_type": "code",
      "source": [],
      "metadata": {
        "id": "-AglhAgf9Tln"
      },
      "execution_count": null,
      "outputs": []
    }
  ],
  "metadata": {
    "hide_input": false,
    "kernelspec": {
      "display_name": "Python 3 (ipykernel)",
      "language": "python",
      "name": "python3"
    },
    "language_info": {
      "codemirror_mode": {
        "name": "ipython",
        "version": 3
      },
      "file_extension": ".py",
      "mimetype": "text/x-python",
      "name": "python",
      "nbconvert_exporter": "python",
      "pygments_lexer": "ipython3",
      "version": "3.8.10"
    },
    "toc": {
      "base_numbering": 1,
      "nav_menu": {},
      "number_sections": true,
      "sideBar": true,
      "skip_h1_title": false,
      "title_cell": "Table of Contents",
      "title_sidebar": "Contents",
      "toc_cell": false,
      "toc_position": {},
      "toc_section_display": true,
      "toc_window_display": false
    },
    "varInspector": {
      "cols": {
        "lenName": 16,
        "lenType": 16,
        "lenVar": 40
      },
      "kernels_config": {
        "python": {
          "delete_cmd_postfix": "",
          "delete_cmd_prefix": "del ",
          "library": "var_list.py",
          "varRefreshCmd": "print(var_dic_list())"
        },
        "r": {
          "delete_cmd_postfix": ") ",
          "delete_cmd_prefix": "rm(",
          "library": "var_list.r",
          "varRefreshCmd": "cat(var_dic_list()) "
        }
      },
      "types_to_exclude": [
        "module",
        "function",
        "builtin_function_or_method",
        "instance",
        "_Feature"
      ],
      "window_display": false
    },
    "colab": {
      "provenance": []
    }
  },
  "nbformat": 4,
  "nbformat_minor": 0
}