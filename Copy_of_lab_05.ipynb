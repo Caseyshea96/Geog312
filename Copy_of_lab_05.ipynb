{
  "cells": [
    {
      "cell_type": "markdown",
      "metadata": {
        "id": "view-in-github",
        "colab_type": "text"
      },
      "source": [
        "<a href=\"https://colab.research.google.com/github/Caseyshea96/Lab01CCS/blob/main/Copy_of_lab_05.ipynb\" target=\"_parent\"><img src=\"https://colab.research.google.com/assets/colab-badge.svg\" alt=\"Open In Colab\"/></a>"
      ]
    },
    {
      "cell_type": "markdown",
      "metadata": {
        "id": "upSkvqer3eGh"
      },
      "source": [
        "[![image](https://colab.research.google.com/assets/colab-badge.svg)](https://colab.research.google.com/github/giswqs/geog-312/blob/master/labs/lab_05.ipynb)\n",
        "[![image](https://binder.pangeo.io/badge_logo.svg)](https://gishub.org/geog312-pangeo)\n",
        "\n",
        "**Casey Shea**"
      ]
    },
    {
      "cell_type": "code",
      "execution_count": 47,
      "metadata": {
        "id": "eBTBX8Z93eGi",
        "colab": {
          "base_uri": "https://localhost:8080/"
        },
        "outputId": "90b1e847-8b7a-4179-abf5-abb13986712c"
      },
      "outputs": [
        {
          "output_type": "stream",
          "name": "stdout",
          "text": [
            "Submitted time: 2023-10-10 15:29:15.773288\n"
          ]
        }
      ],
      "source": [
        "from datetime import datetime\n",
        "\n",
        "now = datetime.now()\n",
        "print(f\"Submitted time: {now}\")"
      ]
    },
    {
      "cell_type": "markdown",
      "metadata": {
        "id": "PIeG89Jw3eGj"
      },
      "source": [
        "## Question 1\n",
        "**Person:** Use a dictionary to store information about a person you know. Store their first name, last name, age, and the city in which they live. You should have keys such as first_name, last_name, age, and city. Print each piece of information stored in your dictionary."
      ]
    },
    {
      "cell_type": "code",
      "execution_count": null,
      "metadata": {
        "id": "LW_ts_Hc3eGj",
        "outputId": "c33d5be7-26a4-4177-86a4-2e014124c3a2",
        "colab": {
          "base_uri": "https://localhost:8080/"
        }
      },
      "outputs": [
        {
          "output_type": "stream",
          "name": "stdout",
          "text": [
            "Zak\n",
            "Koch\n",
            "27\n",
            "Asheboro\n"
          ]
        }
      ],
      "source": [
        "person = {'first_name' : 'Zak', 'last_name' : 'Koch', 'age' : '27', 'city' : 'Asheboro'}\n",
        "\n",
        "print(person['first_name'])\n",
        "print(person['last_name'])\n",
        "print(person['age'])\n",
        "print(person['city'])"
      ]
    },
    {
      "cell_type": "markdown",
      "metadata": {
        "id": "gjXOmTQV3eGj"
      },
      "source": [
        "## Question 2\n",
        "**Favorite Numbers:** Use a dictionary to store people’s favorite numbers. Think of five names, and use them as keys in your dictionary. Think of a favorite number for each person, and store each as a value in your dictionary. Print each person’s name and their favorite number. For even more fun, poll a few friends and get some actual data for your program."
      ]
    },
    {
      "cell_type": "code",
      "execution_count": null,
      "metadata": {
        "id": "zJm5_JZG3eGj",
        "outputId": "0e717ff0-c489-4522-9f01-cca321fd2217",
        "colab": {
          "base_uri": "https://localhost:8080/"
        }
      },
      "outputs": [
        {
          "output_type": "stream",
          "name": "stdout",
          "text": [
            "Joe : 21\n",
            "Jim : 13\n",
            "Bill : 32\n",
            "Jill : 7\n",
            "Dan : 86\n"
          ]
        }
      ],
      "source": [
        "favorite_num = {'Joe' : '21', 'Jim' : '13', 'Bill' : '32' , 'Jill' : '7' , 'Dan' : '86'}\n",
        "\n",
        "print(f\"Joe : {favorite_num['Joe']}\")\n",
        "print(f\"Jim : {favorite_num['Jim']}\")\n",
        "print(f\"Bill : {favorite_num['Bill']}\")\n",
        "print(f\"Jill : {favorite_num['Jill']}\")\n",
        "print(f\"Dan : {favorite_num['Dan']}\")"
      ]
    },
    {
      "cell_type": "markdown",
      "metadata": {
        "id": "eIXwTEPL3eGj"
      },
      "source": [
        "## Question 3\n",
        "**Glossary:** A Python dictionary can be used to model an actual dictionary. However, to avoid confusion, let’s call it a glossary.\n",
        "\n",
        "* Think of five programming words you’ve learned about in the previous chapters. Use these words as the keys in your glossary, and store their meanings as values.\n",
        "* Print each word and its meaning as neatly formatted output. You might print the word followed by a colon and then its meaning, or print the word on one line and then print its meaning indented on a second line. Use the newline character (\\n) to insert a blank line between each word-meaning pair in your output."
      ]
    },
    {
      "cell_type": "code",
      "execution_count": null,
      "metadata": {
        "id": "k1kiavIW3eGj",
        "colab": {
          "base_uri": "https://localhost:8080/"
        },
        "outputId": "1d8eae7c-07c4-430f-a813-b4fd01807b6c"
      },
      "outputs": [
        {
          "output_type": "stream",
          "name": "stdout",
          "text": [
            "Python Definitions:\n",
            "\n",
            "Variable: \n",
            "Holds a value\n",
            "\n",
            "String: \n",
            "A series of characters\n",
            "\n",
            "List: \n",
            "A collection of items in order\n",
            "\n",
            "Comments: \n",
            "Notes for programs\n",
            "\n",
            "Dictionaries: \n",
            "Store information\n",
            "\n"
          ]
        }
      ],
      "source": [
        "glossary = {\"variable\" : \"Holds a value\",\"string\" : \"A series of characters\", \"list\" : \"A collection of items in order\", \"comments\" : \"Notes for programs\", \"dictionaries\" : \"Store information\" }\n",
        "print(f\"Python Definitions:\\n\")\n",
        "print(f\"Variable: \\n{glossary['variable']}\\n\")\n",
        "\n",
        "print(f\"String: \\n{glossary['string']}\\n\")\n",
        "\n",
        "print(f\"List: \\n{glossary['list']}\\n\")\n",
        "\n",
        "print(f\"Comments: \\n{glossary['comments']}\\n\")\n",
        "\n",
        "print(f\"Dictionaries: \\n{glossary['dictionaries']}\\n\")"
      ]
    },
    {
      "cell_type": "markdown",
      "metadata": {
        "id": "-RaCb6lG3eGk"
      },
      "source": [
        "## Question 4\n",
        "**Glossary 2:** Now that you know how to loop through a dictionary, clean up the code from Question 3 by replacing your series of print() calls with a loop that runs through the dictionary’s keys and values. When you’re sure that your loop works, add five more Python terms to your glossary. When you run your program again, these new words and meanings should automatically be included in the output."
      ]
    },
    {
      "cell_type": "code",
      "execution_count": null,
      "metadata": {
        "id": "BdVrfAUd3eGk"
      },
      "outputs": [],
      "source": [
        "glossary = {\"Variable\" : \"Holds a value\",\n",
        "            \"String\" : \"A series of characters\",\n",
        "            \"List\" : \"A collection of items in order\",\n",
        "            \"Comment\" : \"Notes for programs\",\n",
        "            \"Dictionary\" : \"Stores information\",\n",
        "            \"Numbers\" : \"Numerical data\",\n",
        "            \"Floats\" : \"Number with a decimal point\",\n",
        "            \"Constants\" : \"A variable that stays the same through life of program\",\n",
        "            \"Boolean Expression\" : \"Conditional test\",\n",
        "            \"If statements\" : \"Runs if condition is met\"}\n",
        "for term, definition in glossary.items():\n",
        "  print(f\"\\nTerm: {term}\")\n",
        "  print(f\"Definition: {definition}\")"
      ]
    },
    {
      "cell_type": "markdown",
      "metadata": {
        "id": "9eG0SXkx3eGk"
      },
      "source": [
        "## Question 5\n",
        "**Rivers:** Make a dictionary containing three major rivers and the country each river runs through. One key-value pair might be 'nile': 'egypt'.\n",
        "\n",
        "* Use a loop to print a sentence about each river, such as *The Nile runs through Egypt.*\n",
        "* Use a loop to print the name of each river included in the dictionary.\n",
        "* Use a loop to print the name of each country included in the dictionary."
      ]
    },
    {
      "cell_type": "code",
      "execution_count": null,
      "metadata": {
        "id": "ST1_TaSz3eGk"
      },
      "outputs": [],
      "source": [
        "Rivers = {\"Nile\" : \"Ethiopia\", \"Amazon\" : \"Brazil\", \"Yangtze\" : \"China\"}\n"
      ]
    },
    {
      "cell_type": "markdown",
      "metadata": {
        "id": "UrXQUl2-3eGk"
      },
      "source": [
        "## Question 6\n",
        "**Polling:** Based on the dictionary below (i.e., favorite_languages):\n",
        "\n",
        "* Make a list of people who should take the favorite languages poll. Include some names that are already in the dictionary and some that are not.\n",
        "* Loop through the list of people who should take the poll. If they have already taken the poll, print a message thanking them for responding. If they have not yet taken the poll, print a message inviting them to take the poll."
      ]
    },
    {
      "cell_type": "code",
      "execution_count": null,
      "metadata": {
        "id": "axiKVodX3eGk",
        "colab": {
          "base_uri": "https://localhost:8080/"
        },
        "outputId": "8b7f88eb-f143-4bf1-d074-0565b3921e39"
      },
      "outputs": [
        {
          "output_type": "stream",
          "name": "stdout",
          "text": [
            "Thank you Jen, for responding to the poll.\n",
            "Thank you Sarah, for responding to the poll.\n",
            "Jim, we invite you to take our poll.\n",
            "Bob, we invite you to take our poll.\n"
          ]
        }
      ],
      "source": [
        "favorite_languages = {\n",
        "    'jen': 'python',\n",
        "    'sarah': 'c',\n",
        "    'edward': 'ruby',\n",
        "    'phil': 'python',\n",
        "    }\n",
        "\n",
        "to_poll = ['jen', 'sarah', 'jim', 'bob']\n",
        "\n",
        "for person in to_poll:\n",
        "  if person in favorite_languages:\n",
        "    print(f\"Thank you {person.title()}, for responding to the poll.\")\n",
        "  else:\n",
        "    print(f\"{person.title()}, we invite you to take our poll.\")"
      ]
    },
    {
      "cell_type": "markdown",
      "metadata": {
        "id": "B_pI11xr3eGk"
      },
      "source": []
    },
    {
      "cell_type": "markdown",
      "metadata": {
        "id": "zuuXw8pU3eGk"
      },
      "source": [
        "## Question 7\n",
        "**People:** Start with the program you wrote for Question 1. Make two new dictionaries representing different people, and store all three dictionaries in a list called `people`. Loop through your list of people. As you loop through the list, print everything you know about each person."
      ]
    },
    {
      "cell_type": "code",
      "execution_count": null,
      "metadata": {
        "id": "5pGStIof3eGk",
        "colab": {
          "base_uri": "https://localhost:8080/"
        },
        "outputId": "287ee4b2-5b52-4834-b220-d54c64376d87"
      },
      "outputs": [
        {
          "output_type": "stream",
          "name": "stdout",
          "text": [
            "{'first_name': 'Zak', 'last_name': 'Koch', 'age': '27', 'city': 'Asheboro'}\n",
            "{'first_name': 'Sam', 'last_name': 'Kemp', 'age': '27', 'city': 'Raleigh'}\n",
            "{'first_name': 'Lucas', 'last_name': 'LoCascio', 'age': '27', 'city': 'Knoxville'}\n"
          ]
        }
      ],
      "source": [
        "person = {'first_name' : 'Zak', 'last_name' : 'Koch', 'age' : '27', 'city' : 'Asheboro'}\n",
        "person2 = {'first_name' : 'Sam', 'last_name' : 'Kemp', 'age' : '27', 'city' : 'Raleigh'}\n",
        "person3 = {'first_name' : 'Lucas', 'last_name' : 'LoCascio', 'age' : '27', 'city' : 'Knoxville'}\n",
        "\n",
        "peoples = [person, person2, person3]\n",
        "\n",
        "for people in peoples:\n",
        "  print(people)\n"
      ]
    },
    {
      "cell_type": "markdown",
      "metadata": {
        "id": "BqO_J0sq3eGl"
      },
      "source": [
        "## Question 8\n",
        "**Pets:** Make several dictionaries, where each dictionary represents a different pet. In each dictionary, include the kind of animal and the owner’s name. Store these dictionaries in a list called `pets`. Next, loop through your list and as you do, print everything you know about each pet."
      ]
    },
    {
      "cell_type": "code",
      "execution_count": null,
      "metadata": {
        "id": "BgcQPeEu3eGl",
        "colab": {
          "base_uri": "https://localhost:8080/"
        },
        "outputId": "52704cfa-df3f-41ee-9e0d-fd2b7419d900"
      },
      "outputs": [
        {
          "output_type": "stream",
          "name": "stdout",
          "text": [
            "Kind of pet: dog\n",
            "Owner's name: Jimmy\n",
            "\n",
            "Kind of pet: cat\n",
            "Owner's name: Sally\n",
            "\n",
            "Kind of pet: fish\n",
            "Owner's name: Dave\n",
            "\n",
            "Kind of pet: bird\n",
            "Owner's name: Pete\n",
            "\n"
          ]
        }
      ],
      "source": [
        "pets =[\n",
        "    {'kind': 'dog', 'owner' : 'Jimmy'},\n",
        "    {'kind': 'cat', 'owner' : 'Sally'},\n",
        "    {'kind': 'fish', 'owner' : 'Dave'},\n",
        "    {'kind': 'bird', 'owner' : 'Pete'},\n",
        "]\n",
        "\n",
        "for pet in pets:\n",
        "  print(f\"Kind of pet: {pet['kind']}\")\n",
        "  print(f\"Owner's name: {pet['owner']}\")\n",
        "  print()"
      ]
    },
    {
      "cell_type": "markdown",
      "metadata": {
        "id": "aO8Qyo_N3eGl"
      },
      "source": [
        "## Question 9\n",
        "**Favorite Places:** Make a dictionary called `favorite_places`. Think of three names to use as keys in the dictionary, and store one to three favorite places for each person. To make this exercise a bit more interesting, ask some friends to name a few of their favorite places. Loop through the dictionary, and print each person’s name and their favorite places."
      ]
    },
    {
      "cell_type": "code",
      "execution_count": null,
      "metadata": {
        "id": "rmL7Y-To3eGl",
        "colab": {
          "base_uri": "https://localhost:8080/"
        },
        "outputId": "0ea8bb2b-a17b-40eb-9999-b97dd70c318e"
      },
      "outputs": [
        {
          "output_type": "stream",
          "name": "stdout",
          "text": [
            "Jim's favorite places are:\n",
            "- Paris\n",
            "- New York\n",
            "- Tokyo\n",
            "\n",
            "Bob's favorite places are:\n",
            "- Rome\n",
            "- London\n",
            "\n",
            "Steve's favorite places are:\n",
            "- Los Angeles\n",
            "- Sydney\n",
            "- Cancun\n",
            "\n"
          ]
        }
      ],
      "source": [
        "favorite_places = {\n",
        "    'Jim' : ['Paris', 'New York', 'Tokyo'],\n",
        "    'Bob' : ['Rome', 'London'],\n",
        "    'Steve' : ['Los Angeles', 'Sydney', 'Cancun'],\n",
        "}\n",
        "\n",
        "for person, places in favorite_places.items():\n",
        "  print(f\"{person}'s favorite places are:\")\n",
        "  for place in places:\n",
        "    print(f\"- {place}\")\n",
        "  print()"
      ]
    },
    {
      "cell_type": "markdown",
      "metadata": {
        "id": "XLAqu5ww3eGl"
      },
      "source": [
        "## Question 10\n",
        "**Favorite Numbers:** Modify your program from Question 2 so each person can have more than one favorite number. Then print each person’s name along with their favorite numbers."
      ]
    },
    {
      "cell_type": "code",
      "execution_count": null,
      "metadata": {
        "id": "bqhgQmZ73eGl",
        "colab": {
          "base_uri": "https://localhost:8080/"
        },
        "outputId": "7ead6352-3035-4fb3-f734-92939e7ea570"
      },
      "outputs": [
        {
          "output_type": "stream",
          "name": "stdout",
          "text": [
            "Joe's favorite numbers are:\n",
            "- 21\n",
            "\n",
            "- 42\n",
            "\n",
            "Jim's favorite numbers are:\n",
            "- 13\n",
            "\n",
            "Bill's favorite numbers are:\n",
            "- 32\n",
            "\n",
            "- 4\n",
            "\n",
            "- 1\n",
            "\n",
            "Jill's favorite numbers are:\n",
            "- 7\n",
            "\n",
            "- 16\n",
            "\n",
            "Dan's favorite numbers are:\n",
            "- 86\n",
            "\n",
            "- 35\n",
            "\n"
          ]
        }
      ],
      "source": [
        "favorite_numbers = {\n",
        "    'Joe': [21,42],\n",
        "    'Jim': [13],\n",
        "    'Bill': [32,4,1],\n",
        "    'Jill': [7,16],\n",
        "    'Dan': [86, 35],\n",
        "}\n",
        "\n",
        "for person, numbers in favorite_numbers.items():\n",
        "  print(f\"{person}'s favorite numbers are:\")\n",
        "  for number in numbers:\n",
        "    print(f\"- {number}\")\n",
        "    print()\n"
      ]
    },
    {
      "cell_type": "markdown",
      "metadata": {
        "id": "biCXzO5r3eGl"
      },
      "source": [
        "## Question 11\n",
        "**Cities:** Make a dictionary called `cities`. Use the names of three cities as keys in your dictionary. Create a dictionary of information about each city and include the country that the city is in, its approximate population, and one fact about that city. The keys for each city’s dictionary should be something like `country`, `population`, and `fact`. Print the name of each city and all of the information you have stored about it."
      ]
    },
    {
      "cell_type": "code",
      "execution_count": 5,
      "metadata": {
        "id": "CAhHXkIy3eGl",
        "colab": {
          "base_uri": "https://localhost:8080/"
        },
        "outputId": "3ad386cd-08ef-40b3-be89-a7500cf1751f"
      },
      "outputs": [
        {
          "output_type": "stream",
          "name": "stdout",
          "text": [
            "City: New York\n",
            "Country: USA\n",
            "Population: 8468000\n",
            "Fact: New York City comprises 5 boroughs sitting where the Hudson River meets the Atlantic Ocean.\n",
            "\n",
            "City: Los Angeles\n",
            "Country: USA\n",
            "Population: 3849000\n",
            "Fact: Los Angeles is a sprawling Southern California city and the center of the nation’s film and television industry.\n",
            "\n",
            "City: London\n",
            "Country: England\n",
            "Population: 8982000\n",
            "Fact: London, the capital of England and the United Kingdom, is a 21st-century city with history stretching back to Roman times.\n",
            "\n"
          ]
        }
      ],
      "source": [
        "cities = {\n",
        "    'New York':{\n",
        "        'country': 'USA',\n",
        "        'population': 8468000,\n",
        "        'fact': 'New York City comprises 5 boroughs sitting where the Hudson River meets the Atlantic Ocean.'\n",
        "    },\n",
        "    'Los Angeles':{\n",
        "        'country': 'USA',\n",
        "        'population': 3849000,\n",
        "        'fact': 'Los Angeles is a sprawling Southern California city and the center of the nation’s film and television industry.'\n",
        "    },\n",
        "    'London':{\n",
        "        'country': 'England',\n",
        "        'population': 8982000,\n",
        "        'fact': 'London, the capital of England and the United Kingdom, is a 21st-century city with history stretching back to Roman times.'\n",
        "    }\n",
        "}\n",
        "\n",
        "for city, info in cities.items():\n",
        "  print(f\"City: {city}\")\n",
        "  print(f\"Country: {info['country']}\")\n",
        "  print(f\"Population: {info['population']}\")\n",
        "  print(f\"Fact: {info['fact']}\")\n",
        "  print()"
      ]
    },
    {
      "cell_type": "markdown",
      "metadata": {
        "id": "i6sy-GoA3eGl"
      },
      "source": [
        "## Question 12\n",
        "**Extensions:** We’re now working with examples that are complex enough that they can be extended in any number of ways. Use one of the example programs from this chapter, and extend it by adding new keys and values, changing the context of the program or improving the formatting of the output."
      ]
    },
    {
      "cell_type": "code",
      "execution_count": 6,
      "metadata": {
        "id": "j_VhyVKg3eGl",
        "colab": {
          "base_uri": "https://localhost:8080/"
        },
        "outputId": "ac5cc17d-6f92-48ec-c986-7ba49a66631b"
      },
      "outputs": [
        {
          "output_type": "stream",
          "name": "stdout",
          "text": [
            "Kind of pet: dog\n",
            "Owner's name: Jimmy\n",
            "\n",
            "Kind of pet: cat\n",
            "Owner's name: Sally\n",
            "\n",
            "Kind of pet: fish\n",
            "Owner's name: Dave\n",
            "\n",
            "Kind of pet: bird\n",
            "Owner's name: Pete\n",
            "\n",
            "Kind of pet: lizard\n",
            "Owner's name: Drew\n",
            "\n",
            "Kind of pet: turtle\n",
            "Owner's name: Joe\n",
            "\n"
          ]
        }
      ],
      "source": [
        "pets =[\n",
        "    {'kind': 'dog', 'owner' : 'Jimmy'},\n",
        "    {'kind': 'cat', 'owner' : 'Sally'},\n",
        "    {'kind': 'fish', 'owner' : 'Dave'},\n",
        "    {'kind': 'bird', 'owner' : 'Pete'},\n",
        "    {'kind': 'lizard', 'owner' : 'Drew'},\n",
        "    {'kind': 'turtle', 'owner' : 'Joe'}\n",
        "]\n",
        "\n",
        "for pet in pets:\n",
        "  print(f\"Kind of pet: {pet['kind']}\")\n",
        "  print(f\"Owner's name: {pet['owner']}\")\n",
        "  print()"
      ]
    },
    {
      "cell_type": "markdown",
      "metadata": {
        "id": "nyJEQqmL3eGl"
      },
      "source": [
        "## Question 13\n",
        "**Rental Car:** Write a program that asks the user what kind of rental car they would like. Print a message about that car, such as “Let me see if I can find you a Subaru.”"
      ]
    },
    {
      "cell_type": "code",
      "execution_count": 9,
      "metadata": {
        "id": "LO3bjfFl3eGm",
        "colab": {
          "base_uri": "https://localhost:8080/"
        },
        "outputId": "efe44c34-a081-49c0-c66a-b27bc514ddea"
      },
      "outputs": [
        {
          "output_type": "stream",
          "name": "stdout",
          "text": [
            "What kind of rental car would you like?saab\n",
            "I'm sorry, we don't have that car right now.\n"
          ]
        }
      ],
      "source": [
        "car = input(\"What kind of rental car would you like?\")\n",
        "\n",
        "if car.lower() == \"subaru\":\n",
        "  print(\"Let me see if I can find you a Subaru.\")\n",
        "elif car.lower() == \"toyota\":\n",
        "  print(\"Let me see if I can find you a Toyota\")\n",
        "elif car.lower() == \"honda\":\n",
        "  print(\"Let me see if I can find you a Honda\")\n",
        "else:\n",
        "  print(\"I'm sorry, we don't have that car right now.\")"
      ]
    },
    {
      "cell_type": "markdown",
      "metadata": {
        "id": "1-kaLCGC3eGm"
      },
      "source": [
        "## Question 14\n",
        "**Restaurant Seating:** Write a program that asks the user how many people are in their dinner group. If the answer is more than eight, print a message saying they’ll have to wait for a table. Otherwise, report that their table is ready."
      ]
    },
    {
      "cell_type": "code",
      "execution_count": 46,
      "metadata": {
        "id": "3AHGlzoC3eGm",
        "colab": {
          "base_uri": "https://localhost:8080/"
        },
        "outputId": "a27538e6-1ebb-4773-ae47-dab41d968c92"
      },
      "outputs": [
        {
          "output_type": "stream",
          "name": "stdout",
          "text": [
            "How many people are in your party?2\n",
            "Your table is right this way!\n"
          ]
        }
      ],
      "source": [
        "table = int(input(\"How many people are in your party?\"))\n",
        "\n",
        "if table >8:\n",
        "  print(\"I'm sorry, we'll have your table ready momentarily.\")\n",
        "else:\n",
        "  print(\"Your table is right this way!\")"
      ]
    },
    {
      "cell_type": "markdown",
      "metadata": {
        "id": "RCHviQ_e3eGm"
      },
      "source": [
        "## Question 15\n",
        "**Multiples of Ten:** Ask the user for a number, and then report whether the number is a multiple of 10 or not."
      ]
    },
    {
      "cell_type": "code",
      "execution_count": 14,
      "metadata": {
        "id": "8wucbt803eGm",
        "colab": {
          "base_uri": "https://localhost:8080/"
        },
        "outputId": "09c6e464-ca6b-487c-c6c2-fcb82949223a"
      },
      "outputs": [
        {
          "output_type": "stream",
          "name": "stdout",
          "text": [
            "Please enter a number:2\n",
            "2 is not a multiple of 10\n"
          ]
        }
      ],
      "source": [
        "user_number = int(input(\"Please enter a number:\"))\n",
        "\n",
        "if user_number % 10 == 0:\n",
        "  print(f\"{user_number} is a multiple of 10\")\n",
        "else:\n",
        "  print(f\"{user_number} is not a multiple of 10\")"
      ]
    },
    {
      "cell_type": "markdown",
      "metadata": {
        "id": "y_OEz-Is3eGm"
      },
      "source": [
        "## Question 16\n",
        "**Pizza Toppings:** Write a loop that prompts the user to enter a series of pizza toppings until they enter a 'quit' value. As they enter each topping, print a message saying you’ll add that topping to their pizza."
      ]
    },
    {
      "cell_type": "code",
      "execution_count": 16,
      "metadata": {
        "id": "l4qHNq7t3eGm",
        "colab": {
          "base_uri": "https://localhost:8080/"
        },
        "outputId": "65601816-f501-4654-d315-6856f2030ed0"
      },
      "outputs": [
        {
          "output_type": "stream",
          "name": "stdout",
          "text": [
            "Enter a pizza topping or quit to finish:pepperoni\n",
            "Adding pepperoni to your pizza.\n",
            "Enter a pizza topping or quit to finish:quit\n",
            "\n",
            "Your pizza will have the following toppings:\n",
            "- pepperoni\n"
          ]
        }
      ],
      "source": [
        "toppings =[]\n",
        "\n",
        "while True:\n",
        "  topping = input(\"Enter a pizza topping or quit to finish:\").lower()\n",
        "\n",
        "  if topping == 'quit':\n",
        "    break\n",
        "\n",
        "  toppings.append(topping)\n",
        "  print(f\"Adding {topping} to your pizza.\")\n",
        "\n",
        "if topping:\n",
        "  print(\"\\nYour pizza will have the following toppings:\")\n",
        "  for topping in toppings:\n",
        "    print(\"- \" + topping)\n",
        "\n",
        "else:\n",
        "  print(\"\\nYou didn't choose any toppings for your pizza\")"
      ]
    },
    {
      "cell_type": "markdown",
      "metadata": {
        "id": "okD_iJTg3eGn"
      },
      "source": [
        "## Question 17\n",
        "**Movie Tickets:** A movie theater charges different ticket prices depending on a person’s age. If a person is under the age of 3, the ticket is free; if they are between 3 and 12, the ticket is \\\\$10; and if they are over age 12, the ticket is $15. Write a loop in which you ask users their age, and then tell them the cost of their movie ticket."
      ]
    },
    {
      "cell_type": "code",
      "execution_count": 45,
      "metadata": {
        "id": "2HY9kPvn3eGn",
        "colab": {
          "base_uri": "https://localhost:8080/",
          "height": 460
        },
        "outputId": "a79c8846-4d50-4ebe-9959-64428c12ab84"
      },
      "outputs": [
        {
          "output_type": "stream",
          "name": "stdout",
          "text": [
            "Enter your age or quit to exit2\n",
            "Your movie ticket costs $0.\n",
            "\n",
            "Thanks for using our website.\n"
          ]
        },
        {
          "output_type": "error",
          "ename": "KeyboardInterrupt",
          "evalue": "ignored",
          "traceback": [
            "\u001b[0;31m---------------------------------------------------------------------------\u001b[0m",
            "\u001b[0;31mKeyboardInterrupt\u001b[0m                         Traceback (most recent call last)",
            "\u001b[0;32m<ipython-input-45-67cda829e639>\u001b[0m in \u001b[0;36m<cell line: 1>\u001b[0;34m()\u001b[0m\n\u001b[1;32m      1\u001b[0m \u001b[0;32mwhile\u001b[0m \u001b[0;32mTrue\u001b[0m\u001b[0;34m:\u001b[0m\u001b[0;34m\u001b[0m\u001b[0;34m\u001b[0m\u001b[0m\n\u001b[0;32m----> 2\u001b[0;31m   \u001b[0mage_input\u001b[0m \u001b[0;34m=\u001b[0m \u001b[0minput\u001b[0m\u001b[0;34m(\u001b[0m\u001b[0;34m\"Enter your age or quit to exit\"\u001b[0m\u001b[0;34m)\u001b[0m\u001b[0;34m\u001b[0m\u001b[0;34m\u001b[0m\u001b[0m\n\u001b[0m\u001b[1;32m      3\u001b[0m \u001b[0;34m\u001b[0m\u001b[0m\n\u001b[1;32m      4\u001b[0m   \u001b[0;32mif\u001b[0m \u001b[0mage_input\u001b[0m\u001b[0;34m.\u001b[0m\u001b[0mlower\u001b[0m \u001b[0;34m==\u001b[0m \u001b[0;34m\"quit\"\u001b[0m\u001b[0;34m:\u001b[0m\u001b[0;34m\u001b[0m\u001b[0;34m\u001b[0m\u001b[0m\n\u001b[1;32m      5\u001b[0m     \u001b[0;32mbreak\u001b[0m\u001b[0;34m\u001b[0m\u001b[0;34m\u001b[0m\u001b[0m\n",
            "\u001b[0;32m/usr/local/lib/python3.10/dist-packages/ipykernel/kernelbase.py\u001b[0m in \u001b[0;36mraw_input\u001b[0;34m(self, prompt)\u001b[0m\n\u001b[1;32m    849\u001b[0m                 \u001b[0;34m\"raw_input was called, but this frontend does not support input requests.\"\u001b[0m\u001b[0;34m\u001b[0m\u001b[0;34m\u001b[0m\u001b[0m\n\u001b[1;32m    850\u001b[0m             )\n\u001b[0;32m--> 851\u001b[0;31m         return self._input_request(str(prompt),\n\u001b[0m\u001b[1;32m    852\u001b[0m             \u001b[0mself\u001b[0m\u001b[0;34m.\u001b[0m\u001b[0m_parent_ident\u001b[0m\u001b[0;34m,\u001b[0m\u001b[0;34m\u001b[0m\u001b[0;34m\u001b[0m\u001b[0m\n\u001b[1;32m    853\u001b[0m             \u001b[0mself\u001b[0m\u001b[0;34m.\u001b[0m\u001b[0m_parent_header\u001b[0m\u001b[0;34m,\u001b[0m\u001b[0;34m\u001b[0m\u001b[0;34m\u001b[0m\u001b[0m\n",
            "\u001b[0;32m/usr/local/lib/python3.10/dist-packages/ipykernel/kernelbase.py\u001b[0m in \u001b[0;36m_input_request\u001b[0;34m(self, prompt, ident, parent, password)\u001b[0m\n\u001b[1;32m    893\u001b[0m             \u001b[0;32mexcept\u001b[0m \u001b[0mKeyboardInterrupt\u001b[0m\u001b[0;34m:\u001b[0m\u001b[0;34m\u001b[0m\u001b[0;34m\u001b[0m\u001b[0m\n\u001b[1;32m    894\u001b[0m                 \u001b[0;31m# re-raise KeyboardInterrupt, to truncate traceback\u001b[0m\u001b[0;34m\u001b[0m\u001b[0;34m\u001b[0m\u001b[0m\n\u001b[0;32m--> 895\u001b[0;31m                 \u001b[0;32mraise\u001b[0m \u001b[0mKeyboardInterrupt\u001b[0m\u001b[0;34m(\u001b[0m\u001b[0;34m\"Interrupted by user\"\u001b[0m\u001b[0;34m)\u001b[0m \u001b[0;32mfrom\u001b[0m \u001b[0;32mNone\u001b[0m\u001b[0;34m\u001b[0m\u001b[0;34m\u001b[0m\u001b[0m\n\u001b[0m\u001b[1;32m    896\u001b[0m             \u001b[0;32mexcept\u001b[0m \u001b[0mException\u001b[0m \u001b[0;32mas\u001b[0m \u001b[0me\u001b[0m\u001b[0;34m:\u001b[0m\u001b[0;34m\u001b[0m\u001b[0;34m\u001b[0m\u001b[0m\n\u001b[1;32m    897\u001b[0m                 \u001b[0mself\u001b[0m\u001b[0;34m.\u001b[0m\u001b[0mlog\u001b[0m\u001b[0;34m.\u001b[0m\u001b[0mwarning\u001b[0m\u001b[0;34m(\u001b[0m\u001b[0;34m\"Invalid Message:\"\u001b[0m\u001b[0;34m,\u001b[0m \u001b[0mexc_info\u001b[0m\u001b[0;34m=\u001b[0m\u001b[0;32mTrue\u001b[0m\u001b[0;34m)\u001b[0m\u001b[0;34m\u001b[0m\u001b[0;34m\u001b[0m\u001b[0m\n",
            "\u001b[0;31mKeyboardInterrupt\u001b[0m: Interrupted by user"
          ]
        }
      ],
      "source": [
        "while True:\n",
        "  age_input = input(\"Enter your age or quit to exit\")\n",
        "\n",
        "  if age_input.lower == \"quit\":\n",
        "    break\n",
        "\n",
        "  if age_input.isdigit():\n",
        "    age = int(age_input)\n",
        "\n",
        "    if age < 3:\n",
        "      ticket_price = 0\n",
        "\n",
        "    elif age <=12:\n",
        "      ticket_price = 10\n",
        "\n",
        "    else:\n",
        "      ticket_price = 15\n",
        "\n",
        "    print(f\"Your movie ticket costs ${ticket_price}.\\n\")\n",
        "\n",
        "  print(\"Thanks for using our website.\")"
      ]
    },
    {
      "cell_type": "markdown",
      "metadata": {
        "id": "92FX-yus3eGn"
      },
      "source": [
        "## Question 18\n",
        "**Three Exits:** Write different versions of either Question 16 or Question 17 that do each of the following at least once:\n",
        "\n",
        "* Use a conditional test in the while statement to stop the loop.\n",
        "* Use an active variable to control how long the loop runs.\n",
        "* Use a break statement to exit the loop when the user enters a 'quit' value."
      ]
    },
    {
      "cell_type": "markdown",
      "metadata": {
        "id": "36reiOsf3eGn"
      },
      "source": []
    },
    {
      "cell_type": "code",
      "source": [
        "toppings = []\n",
        "\n",
        "while input(\"Enter a pizza topping or quit to finish: \").lower() != 'quit':\n",
        "    topping = input(\"Enter a pizza topping: \").lower()\n",
        "    toppings.append(topping)\n",
        "    print(f\"Adding {topping} to your pizza.\")\n",
        "\n",
        "if toppings:\n",
        "    print(\"\\nYour pizza will have the following toppings:\")\n",
        "    for topping in toppings:\n",
        "        print(\"- \" + topping)\n",
        "else:\n",
        "    print(\"\\nYou didn't choose any toppings for your pizza.\")\n"
      ],
      "metadata": {
        "id": "QYqTZCwqHeLj"
      },
      "execution_count": null,
      "outputs": []
    },
    {
      "cell_type": "code",
      "source": [
        "toppings = []\n",
        "active = True\n",
        "\n",
        "while active:\n",
        "    topping = input(\"Enter a pizza topping or quit to finish: \").lower()\n",
        "\n",
        "    if topping == 'quit':\n",
        "        active = False\n",
        "    else:\n",
        "        toppings.append(topping)\n",
        "        print(f\"Adding {topping} to your pizza.\")\n",
        "\n",
        "if toppings:\n",
        "    print(\"\\nYour pizza will have the following toppings:\")\n",
        "    for topping in toppings:\n",
        "        print(\"- \" + topping)\n",
        "else:\n",
        "    print(\"\\nYou didn't choose any toppings for your pizza.\")"
      ],
      "metadata": {
        "colab": {
          "base_uri": "https://localhost:8080/"
        },
        "id": "BXKoNkESJbd9",
        "outputId": "aef3aa7d-2402-46ff-cd78-ec5977ab7bc2"
      },
      "execution_count": 35,
      "outputs": [
        {
          "output_type": "stream",
          "name": "stdout",
          "text": [
            "Enter a pizza topping or quit to finish: pep\n",
            "Adding pep to your pizza.\n",
            "Enter a pizza topping or quit to finish: sausage\n",
            "Adding sausage to your pizza.\n",
            "Enter a pizza topping or quit to finish: quitt\n",
            "Adding quitt to your pizza.\n",
            "Enter a pizza topping or quit to finish: quit\n",
            "\n",
            "Your pizza will have the following toppings:\n",
            "- pep\n",
            "- sausage\n",
            "- quitt\n"
          ]
        }
      ]
    },
    {
      "cell_type": "code",
      "source": [
        "toppings = []\n",
        "\n",
        "while True:\n",
        "    topping = input(\"Enter a pizza topping or quit to finish: \").lower()\n",
        "\n",
        "    if topping == 'quit':\n",
        "        break\n",
        "\n",
        "    toppings.append(topping)\n",
        "    print(f\"Adding {topping} to your pizza.\")\n",
        "\n",
        "if toppings:\n",
        "    print(\"\\nYour pizza will have the following toppings:\")\n",
        "    for topping in toppings:\n",
        "        print(\"- \" + topping)\n",
        "else:\n",
        "    print(\"\\nYou didn't choose any toppings for your pizza.\")"
      ],
      "metadata": {
        "colab": {
          "base_uri": "https://localhost:8080/"
        },
        "id": "jfIuRm8nJg2v",
        "outputId": "5ae46fe4-04e7-4785-efd4-329235268f02"
      },
      "execution_count": 36,
      "outputs": [
        {
          "output_type": "stream",
          "name": "stdout",
          "text": [
            "Enter a pizza topping or quit to finish: pep\n",
            "Adding pep to your pizza.\n",
            "Enter a pizza topping or quit to finish: sasus\n",
            "Adding sasus to your pizza.\n",
            "Enter a pizza topping or quit to finish: quit\n",
            "\n",
            "Your pizza will have the following toppings:\n",
            "- pep\n",
            "- sasus\n"
          ]
        }
      ]
    },
    {
      "cell_type": "markdown",
      "metadata": {
        "id": "wWTbXW5Q3eGq"
      },
      "source": [
        "## Question 19\n",
        "**Deli:** Make a list called `sandwich_orders` and fill it with the names of various sandwiches. Then make an empty list called `finished_sandwiches`. Loop through the list of sandwich orders and print a message for each order, such as `I made your tuna sandwich`. As each sandwich is made, move it to the list of finished sandwiches. After all the sandwiches have been made, print a message listing each sandwich that was made."
      ]
    },
    {
      "cell_type": "code",
      "execution_count": 39,
      "metadata": {
        "id": "uLB6sFdx3eGq",
        "colab": {
          "base_uri": "https://localhost:8080/"
        },
        "outputId": "51905b1f-7635-46f4-cb8e-c1d1e3c6b28d"
      },
      "outputs": [
        {
          "output_type": "stream",
          "name": "stdout",
          "text": [
            "I made your Salami sandwich.\n",
            "I made your Roast Beef sandwich.\n",
            "I made your Italian sandwich.\n",
            "\n",
            "List of finished sandwiches:\n",
            "- Salami\n",
            "- Roast Beef\n",
            "- Italian\n"
          ]
        }
      ],
      "source": [
        "sandwich_orders = [\"Italian\", \"Roast Beef\", \"Salami\"]\n",
        "\n",
        "finished_sandwiches = []\n",
        "\n",
        "while sandwich_orders:\n",
        "  current_order = sandwich_orders.pop()\n",
        "\n",
        "  print(f\"I made your {current_order} sandwich.\")\n",
        "  finished_sandwiches.append(current_order)\n",
        "\n",
        "print(\"\\nList of finished sandwiches:\")\n",
        "for sandwich in finished_sandwiches:\n",
        "  print(\"- \" + sandwich)"
      ]
    },
    {
      "cell_type": "markdown",
      "metadata": {
        "id": "p5qVaiDH3eGq"
      },
      "source": [
        "## Question 20\n",
        "**No Pastrami:** Using the list `sandwich_orders` from Question 19, make sure the sandwich `pastrami` appears in the list at least three times. Add code near the beginning of your program to print a message saying the deli has run out of pastrami, and then use a `while` loop to remove all occurrences of `pastrami` from `sandwich_orders`. Make sure no pastrami sandwiches end up in `finished_sandwiches`."
      ]
    },
    {
      "cell_type": "code",
      "execution_count": 41,
      "metadata": {
        "id": "yqYBVp3p3eGq",
        "colab": {
          "base_uri": "https://localhost:8080/"
        },
        "outputId": "e42c1dbd-2ab4-46a8-c17f-ffaa0507efef"
      },
      "outputs": [
        {
          "output_type": "stream",
          "name": "stdout",
          "text": [
            "Sorry, we've run out of pastrami.\n",
            "I made your salami sandwich.\n",
            "I made your roast beef sandwich.\n",
            "I made your italian sandwich.\n",
            "\n",
            "List of finished sandwiches:\n",
            "- salami\n",
            "- roast beef\n",
            "- italian\n"
          ]
        }
      ],
      "source": [
        "sandwich_orders = [\"italian\", \"pastrami\", \"roast beef\", \"pastrami\",\"salami\", \"pastrami\"]\n",
        "\n",
        "finished_sandwiches = []\n",
        "\n",
        "if \"pastrami\" in sandwich_orders:\n",
        "  print(\"Sorry, we've run out of pastrami.\")\n",
        "\n",
        "  while \"pastrami\" in sandwich_orders:\n",
        "    sandwich_orders.remove(\"pastrami\")\n",
        "\n",
        "while sandwich_orders:\n",
        "  current_order = sandwich_orders.pop()\n",
        "\n",
        "  print(f\"I made your {current_order} sandwich.\")\n",
        "  finished_sandwiches.append(current_order)\n",
        "\n",
        "print(\"\\nList of finished sandwiches:\")\n",
        "for sandwich in finished_sandwiches:\n",
        "  print(\"- \" + sandwich)"
      ]
    },
    {
      "cell_type": "markdown",
      "metadata": {
        "id": "gYkj-6CL3eGq"
      },
      "source": [
        "## Question 21\n",
        "**Dream Vacation:** Write a program that polls users about their dream vacation. Write a prompt similar to *If you could visit one place in the world, where would you go?* Include a block of code that prints the results of the poll."
      ]
    },
    {
      "cell_type": "code",
      "execution_count": 44,
      "metadata": {
        "id": "-m20lsPj3eGq",
        "colab": {
          "base_uri": "https://localhost:8080/"
        },
        "outputId": "874f7750-df45-437a-9158-4bf69d3e0e52"
      },
      "outputs": [
        {
          "output_type": "stream",
          "name": "stdout",
          "text": [
            "What is your name?Casey\n",
            "If you could visit one place in the world, where would you go?Thailand\n",
            "Would you like to let another person respond? (yes/no) no\n",
            "\n",
            "--- Dream Vacation Poll Results ---\n",
            "Casey would like to visit Thailand.\n"
          ]
        }
      ],
      "source": [
        "dream_vacations = {}\n",
        "\n",
        "poll_active = True\n",
        "\n",
        "while poll_active:\n",
        "  name = input(\"What is your name?\")\n",
        "  destination = input(\"If you could visit one place in the world, where would you go?\")\n",
        "\n",
        "  dream_vacations[name] = destination\n",
        "\n",
        "  another_response = input(\"Would you like to let another person respond? (yes/no) \").lower()\n",
        "  if another_response != 'yes':\n",
        "      poll_active = False\n",
        "\n",
        "print(\"\\n--- Dream Vacation Poll Results ---\")\n",
        "for name, destination in dream_vacations.items():\n",
        "  print(f\"{name.title()} would like to visit {destination.title()}.\")"
      ]
    }
  ],
  "metadata": {
    "kernelspec": {
      "display_name": "Python 3 (ipykernel)",
      "language": "python",
      "name": "python3"
    },
    "language_info": {
      "codemirror_mode": {
        "name": "ipython",
        "version": 3
      },
      "file_extension": ".py",
      "mimetype": "text/x-python",
      "name": "python",
      "nbconvert_exporter": "python",
      "pygments_lexer": "ipython3",
      "version": "3.8.10"
    },
    "colab": {
      "provenance": [],
      "include_colab_link": true
    }
  },
  "nbformat": 4,
  "nbformat_minor": 0
}