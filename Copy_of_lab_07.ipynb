{
  "cells": [
    {
      "cell_type": "markdown",
      "metadata": {
        "id": "view-in-github",
        "colab_type": "text"
      },
      "source": [
        "<a href=\"https://colab.research.google.com/github/Caseyshea96/Geog312/blob/main/Copy_of_lab_07.ipynb\" target=\"_parent\"><img src=\"https://colab.research.google.com/assets/colab-badge.svg\" alt=\"Open In Colab\"/></a>"
      ]
    },
    {
      "cell_type": "code",
      "source": [],
      "metadata": {
        "id": "8gFHzlAb7ofk"
      },
      "execution_count": null,
      "outputs": []
    },
    {
      "cell_type": "markdown",
      "metadata": {
        "id": "650GZRX_wabs"
      },
      "source": [
        "[![image](https://colab.research.google.com/assets/colab-badge.svg)](https://colab.research.google.com/github/giswqs/geog-312/blob/master/labs/lab_07.ipynb)\n",
        "[![image](https://binder.pangeo.io/badge_logo.svg)](https://gishub.org/geog312-pangeo)\n",
        "\n",
        "*Casey Shea**"
      ]
    },
    {
      "cell_type": "code",
      "execution_count": 21,
      "metadata": {
        "id": "wSak9qvGwabu",
        "colab": {
          "base_uri": "https://localhost:8080/"
        },
        "outputId": "6ec3f166-8b10-4d7e-d083-665bc9ab61e6"
      },
      "outputs": [
        {
          "output_type": "stream",
          "name": "stdout",
          "text": [
            "Submitted time: 2023-11-20 13:32:31.335187\n"
          ]
        }
      ],
      "source": [
        "from datetime import datetime\n",
        "\n",
        "now = datetime.now()\n",
        "print(f\"Submitted time: {now}\")"
      ]
    },
    {
      "cell_type": "markdown",
      "metadata": {
        "id": "6R-1jCP4wabv"
      },
      "source": [
        "## Question 1\n",
        "**Learning Python:** Open a blank file in your text editor and write a few lines summarizing what you’ve learned about Python so far. Start each line with the phrase *In Python you can. . ..* Save the file as *learning_python.txt* in the same directory as your exercises from this chapter. Write a program that reads the file and prints what you wrote three times. Print the contents once by reading in the entire file, once by looping over the file object, and once by storing the lines in a list and then working with them outside the *with* block."
      ]
    },
    {
      "cell_type": "code",
      "execution_count": 5,
      "metadata": {
        "id": "Y6DTQBtMwabw",
        "colab": {
          "base_uri": "https://localhost:8080/"
        },
        "outputId": "6aedd726-b6ae-43f2-fc5f-3e34622613a5"
      },
      "outputs": [
        {
          "output_type": "stream",
          "name": "stdout",
          "text": [
            "Printing the entire file: \n",
            "\n",
            "In python you can store dictionaries\n",
            "In python you can create variables\n",
            "In python you can print lists\n",
            "\n",
            "Printing by looping over the file object:\n",
            "\n",
            "In python you can store dictionaries\n",
            "In python you can create variables\n",
            "In python you can print lists\n",
            "\n",
            "Printing by storing lines in a list:\n",
            "\n",
            "In python you can store dictionaries\n",
            "In python you can create variables\n",
            "In python you can print lists\n"
          ]
        }
      ],
      "source": [
        "with open(\"learning_python.txt\", 'r') as file:\n",
        "  contents = file.read()\n",
        "  print(\"Printing the entire file: \\n\")\n",
        "  print(contents)\n",
        "\n",
        "with open(\"learning_python.txt\", 'r') as file:\n",
        "  print(\"\\nPrinting by looping over the file object:\\n\")\n",
        "  for line in file:\n",
        "    print(line.strip())\n",
        "\n",
        "with open(\"learning_python.txt\", 'r') as file:\n",
        "    lines = file.readlines()\n",
        "    print(\"\\nPrinting by storing lines in a list:\\n\")\n",
        "    for line in lines:\n",
        "        print(line.strip())"
      ]
    },
    {
      "cell_type": "markdown",
      "metadata": {
        "id": "SXx1yIhdwabw"
      },
      "source": [
        "## Question 2\n",
        "**Learning C:** You can use the replace() method to replace any word in a string with a different word. Here’s a quick example showing how to replace 'dog' with 'cat' in a sentence:\n",
        "```\n",
        "message = \"I really like dogs.\"\n",
        "message.replace('dog', 'cat')\n",
        "'I really like cats.'\n",
        "```\n",
        "Read in each line from the file you just created, *learning_python.txt*, and replace the word *Python* with the name of another language, such as *C*. Print each modified line to the screen."
      ]
    },
    {
      "cell_type": "code",
      "execution_count": 4,
      "metadata": {
        "id": "J83pDsdZwabw",
        "colab": {
          "base_uri": "https://localhost:8080/"
        },
        "outputId": "60bfbd60-a7da-473c-ce10-d01e1cf572fb"
      },
      "outputs": [
        {
          "output_type": "stream",
          "name": "stdout",
          "text": [
            "In C you can store dictionaries\n",
            "In C you can create variables\n",
            "In C you can print lists"
          ]
        }
      ],
      "source": [
        "filepath = \"learning_python.txt\"\n",
        "\n",
        "new_language = \"C\"\n",
        "\n",
        "with open(filepath, 'r') as file:\n",
        "    for line in file:\n",
        "      modified_line = line.replace(\"python\", new_language)\n",
        "      print(modified_line, end='')"
      ]
    },
    {
      "cell_type": "markdown",
      "metadata": {
        "id": "aicqvmrbwabx"
      },
      "source": [
        "## Question 3\n",
        "**Guest:** Write a program that prompts the user for their name. When they respond, write their name to a file called guest.txt."
      ]
    },
    {
      "cell_type": "code",
      "execution_count": 3,
      "metadata": {
        "id": "yfE0jdodwabx",
        "colab": {
          "base_uri": "https://localhost:8080/"
        },
        "outputId": "4c9ba9f5-c414-4661-c7cc-5bfd3ac1acf7"
      },
      "outputs": [
        {
          "output_type": "stream",
          "name": "stdout",
          "text": [
            "Please enter your name: Casey\n",
            "Hello, Casey! Your name has been written to guest.txt\n"
          ]
        }
      ],
      "source": [
        "user = input(\"Please enter your name: \")\n",
        "\n",
        "with open(\"guest.txt\", 'w') as file:\n",
        "  file.write(user)\n",
        "\n",
        "print(f\"Hello, {user}! Your name has been written to guest.txt\")"
      ]
    },
    {
      "cell_type": "code",
      "source": [],
      "metadata": {
        "id": "pyhTawlT0cHb"
      },
      "execution_count": null,
      "outputs": []
    },
    {
      "cell_type": "markdown",
      "metadata": {
        "id": "TUG8NzLZwabx"
      },
      "source": [
        "## Question 4\n",
        "**Guest Book:** Write a while loop that prompts users for their name. When they enter their name, print a greeting to the screen and add a line recording their visit in a file called guest_book.txt. Make sure each entry appears on a new line in the file."
      ]
    },
    {
      "cell_type": "code",
      "execution_count": 6,
      "metadata": {
        "id": "oiR6uj6dwabx",
        "colab": {
          "base_uri": "https://localhost:8080/"
        },
        "outputId": "fc77d1b0-5fb7-4beb-9224-4acb3015e040"
      },
      "outputs": [
        {
          "output_type": "stream",
          "name": "stdout",
          "text": [
            "Please enter your name(or type quit to exit): quit\n",
            "Thank you for visiting our guest book!\n"
          ]
        }
      ],
      "source": [
        "while True:\n",
        "  user_name = input(\"Please enter your name(or type quit to exit): \")\n",
        "\n",
        "  if user_name.lower() == 'quit':\n",
        "    break\n",
        "\n",
        "  greeting = f\"Hello, {user_name}! Welcome to our guest book.\"\n",
        "\n",
        "  print(greeting)\n",
        "\n",
        "  with open(\"guest_book.txt\", 'a') as file:\n",
        "    file.write(f\"{user_name}\\n\")\n",
        "\n",
        "print(\"Thank you for visiting our guest book!\")"
      ]
    },
    {
      "cell_type": "markdown",
      "metadata": {
        "id": "A7Ur2KPCwabx"
      },
      "source": [
        "## Question 5\n",
        "**Programming Poll:** Write a while loop that asks people why they like programming. Each time someone enters a reason, add their reason to a file that stores all the responses."
      ]
    },
    {
      "cell_type": "code",
      "execution_count": null,
      "metadata": {
        "id": "hic6FUMBwabx",
        "colab": {
          "base_uri": "https://localhost:8080/"
        },
        "outputId": "cad0a3f2-e229-497e-c471-e41bbd82905f"
      },
      "outputs": [
        {
          "output_type": "stream",
          "name": "stdout",
          "text": [
            "Why do you like programming? (Enter 'exit' to finish): because\n",
            "Your reason has been recorded to programming_responses.txt\n",
            "Why do you like programming? (Enter 'exit' to finish): exit\n",
            "Thank you for sharing why you like programming.\n"
          ]
        }
      ],
      "source": [
        "response_file = \"programming_responses.txt\"\n",
        "\n",
        "while True:\n",
        "  reason = input(\"Why do you like programming? (Enter 'exit' to finish): \")\n",
        "\n",
        "  if reason.lower() == 'exit':\n",
        "    break\n",
        "\n",
        "  if reason.lower() != 'exit':\n",
        "    print(\"Your response has been recorded to programming_responses.txt\")\n",
        "\n",
        "  with open(response_file, 'a') as file:\n",
        "    file.write(reason + '\\n')\n",
        "\n",
        "print(\"Thank you for sharing why you like programming.\")"
      ]
    },
    {
      "cell_type": "markdown",
      "metadata": {
        "id": "jHbg-sT3waby"
      },
      "source": [
        "## Question 6\n",
        "**Addition:** One common problem when prompting for numerical input occurs when people provide text instead of numbers. When you try to convert the input to an int, you’ll get a ValueError. Write a program that prompts for two numbers. Add them together and print the result. Catch the ValueError if either input value is not a number, and print a friendly error message. Test your program by entering two numbers and then by entering some text instead of a number."
      ]
    },
    {
      "cell_type": "code",
      "execution_count": null,
      "metadata": {
        "id": "ZCGp2yjHwaby",
        "colab": {
          "base_uri": "https://localhost:8080/"
        },
        "outputId": "97fa06c2-12a6-4fcb-8864-6d5d4daaa663"
      },
      "outputs": [
        {
          "output_type": "stream",
          "name": "stdout",
          "text": [
            "Enter the first number: 21\n",
            "Enter the second number: 23\n",
            "The sum of 21 and 23 is 44\n",
            "Program finished.\n"
          ]
        }
      ],
      "source": [
        "while True:\n",
        "  try:\n",
        "    num1 = int(input(\"Enter the first number: \"))\n",
        "    num2 = int(input(\"Enter the second number: \"))\n",
        "    result = num1 + num2\n",
        "    print(f\"The sum of {num1} and {num2} is {result}\")\n",
        "    break\n",
        "  except ValueError:\n",
        "    print(\"Error: Please enter valid numbers.\")\n",
        "\n",
        "print(\"Program finished.\")"
      ]
    },
    {
      "cell_type": "markdown",
      "metadata": {
        "id": "vKZPUUCdwaby"
      },
      "source": [
        "## Question 7\n",
        "**Addition Calculator:** Wrap your code from Question 6 in a while loop so the user can continue entering numbers even if they make a mistake and enter text instead of a number."
      ]
    },
    {
      "cell_type": "code",
      "execution_count": null,
      "metadata": {
        "id": "-YniucmNwaby"
      },
      "outputs": [],
      "source": [
        "while True:\n",
        "  try:\n",
        "    num1 = int(input(\"Enter the first number: \"))\n",
        "    num2 = int(input(\"Enter the second number: \"))\n",
        "    result = num1 + num2\n",
        "    print(f\"The sum of {num1} and {num2} is {result}\")\n",
        "  except ValueError:\n",
        "    print(\"Error: Please enter valid numbers.\")\n",
        "  else:\n",
        "    another = input(\"Do you want to calculate another sum? (yes/no): \")\n",
        "    if another.lower() != 'yes':\n",
        "      break\n",
        "\\\n",
        "print(\"Program finished.\")"
      ]
    },
    {
      "cell_type": "markdown",
      "metadata": {
        "id": "16KMmkcOwaby"
      },
      "source": [
        "## Question 8\n",
        "**Cats and Dogs:** Make two files, *cats.txt* and *dogs.txt*. Store at least three names of cats in the first file and three names of dogs in the second file. Write a program that tries to read these files and print the contents of the file to the screen. Wrap your code in a `try-except` block to catch the `FileNotFound` error, and print a friendly message if a file is missing. Move one of the files to a different location on your system, and make sure the code in the `except` block executes properly."
      ]
    },
    {
      "cell_type": "code",
      "execution_count": null,
      "metadata": {
        "id": "Vn2C1AqCwaby",
        "colab": {
          "base_uri": "https://localhost:8080/"
        },
        "outputId": "29a30055-7b0b-4eb5-8932-ab95822dcd8c"
      },
      "outputs": [
        {
          "output_type": "stream",
          "name": "stdout",
          "text": [
            "Names of Cats:\n",
            "Charlie\n",
            "Oliver\n",
            "Max\n",
            "\n",
            "Names of Dogs:\n",
            "Buddy\n",
            "Lucy\n",
            "Duke\n"
          ]
        }
      ],
      "source": [
        "try:\n",
        "    with open('cats.txt', 'r') as cats_file:\n",
        "        cats_names = cats_file.read().splitlines()\n",
        "        print(\"Names of Cats:\")\n",
        "        for name in cats_names:\n",
        "            print(name)\n",
        "\n",
        "    with open('dogs.txt', 'r') as dogs_file:\n",
        "        dogs_names = dogs_file.read().splitlines()\n",
        "        print(\"\\nNames of Dogs:\")\n",
        "        for name in dogs_names:\n",
        "            print(name)\n",
        "\n",
        "except FileNotFoundError as e:\n",
        "    print(f\"Oops! {e.filename} is missing. Please check the file location.\")\n",
        "except Exception as e:\n",
        "    print(f\"An error occurred: {e}\")\n"
      ]
    },
    {
      "cell_type": "markdown",
      "metadata": {
        "id": "vIJP4_zUwaby"
      },
      "source": [
        "## Question 9\n",
        "**Silent Cats and Dogs:** Modify your except block in Question 8 to fail silently if either file is missing."
      ]
    },
    {
      "cell_type": "code",
      "execution_count": null,
      "metadata": {
        "id": "2qd2UHdVwabz",
        "colab": {
          "base_uri": "https://localhost:8080/"
        },
        "outputId": "e22fd478-10e9-40ff-804e-09c396d75434"
      },
      "outputs": [
        {
          "output_type": "stream",
          "name": "stdout",
          "text": [
            "Names of Cats:\n",
            "Charlie\n",
            "Oliver\n",
            "Max\n",
            "\n",
            "Names of Dogs:\n",
            "Buddy\n",
            "Lucy\n",
            "Duke\n"
          ]
        }
      ],
      "source": [
        "try:\n",
        "    with open('cats.txt', 'r') as cats_file:\n",
        "        cats_names = cats_file.read().splitlines()\n",
        "        print(\"Names of Cats:\")\n",
        "        for name in cats_names:\n",
        "            print(name)\n",
        "\n",
        "    with open('dogs.txt', 'r') as dogs_file:\n",
        "        dogs_names = dogs_file.read().splitlines()\n",
        "        print(\"\\nNames of Dogs:\")\n",
        "        for name in dogs_names:\n",
        "            print(name)\n",
        "\n",
        "except Exception as e:\n",
        "    print(f\"An error occurred: {e}\")\n"
      ]
    },
    {
      "cell_type": "markdown",
      "metadata": {
        "id": "AP33ort4wabz"
      },
      "source": [
        "## Question 10\n",
        "**Common Words:** Visit Project Gutenberg (https://gutenberg.org/) and find a few texts you’d like to analyze. Download the text files for these works, or copy the raw text from your browser into a text file on your computer. You can use the `count()` method to find out how many times a word or phrase appears in a string. For example, the following code counts the number of times 'row' appears in a string:"
      ]
    },
    {
      "cell_type": "code",
      "execution_count": null,
      "metadata": {
        "id": "KN-A8fUzwabz",
        "outputId": "acef766d-2396-4af5-e690-70930ec56d87"
      },
      "outputs": [
        {
          "data": {
            "text/plain": [
              "2"
            ]
          },
          "execution_count": 1,
          "metadata": {},
          "output_type": "execute_result"
        }
      ],
      "source": [
        "line = \"Row, row, row your boat\"\n",
        "line.count('row')"
      ]
    },
    {
      "cell_type": "code",
      "execution_count": null,
      "metadata": {
        "id": "H3UDY7oCwab0",
        "outputId": "80f718a4-109a-4b92-b0cc-d3335c8f0660"
      },
      "outputs": [
        {
          "data": {
            "text/plain": [
              "3"
            ]
          },
          "execution_count": 2,
          "metadata": {},
          "output_type": "execute_result"
        }
      ],
      "source": [
        "line.lower().count('row')"
      ]
    },
    {
      "cell_type": "markdown",
      "metadata": {
        "id": "pHfI6J0Dwab0"
      },
      "source": [
        "Notice that converting the string to lowercase using lower() catches all appearances of the word you’re looking for, regardless of how it’s formatted.\n",
        "\n",
        "Write a program that reads the files you found at Project Gutenberg and determines how many times the word `the` appears in each text. This will be an approximation because it will also count words such as `then` and `there`. Try counting `the`, with a space in the string, and see how much lower your count is."
      ]
    },
    {
      "cell_type": "code",
      "execution_count": 8,
      "metadata": {
        "id": "x5qG26BFwab0",
        "colab": {
          "base_uri": "https://localhost:8080/"
        },
        "outputId": "9cd97aeb-1aae-4116-9f0e-b7e2e2957a63"
      },
      "outputs": [
        {
          "output_type": "stream",
          "name": "stdout",
          "text": [
            "Occurrences of 'the' (with space): 0\n",
            "Occurrences of 'the' (without space): 1\n"
          ]
        }
      ],
      "source": [
        "def count_word_occurrences(file_path, target_word):\n",
        "    with open(file_path, encoding='utf-8') as file:\n",
        "        content = file.read().lower()\n",
        "        word_count = content.count(target_word.lower())\n",
        "        return word_count\n",
        "\n",
        "def main():\n",
        "    file_path = 'exampletext.txt'\n",
        "\n",
        "    target_word_with_space = ' the '\n",
        "    occurrences_with_space = count_word_occurrences(file_path, target_word_with_space)\n",
        "\n",
        "    target_word_without_space = 'the'\n",
        "    occurrences_without_space = count_word_occurrences(file_path, target_word_without_space)\n",
        "\n",
        "    print(f\"Occurrences of '{target_word_with_space.strip()}' (with space): {occurrences_with_space}\")\n",
        "    print(f\"Occurrences of '{target_word_without_space}' (without space): {occurrences_without_space}\")\n",
        "\n",
        "if __name__ == \"__main__\":\n",
        "    main()\n"
      ]
    },
    {
      "cell_type": "markdown",
      "metadata": {
        "id": "ZKMh8V28wab0"
      },
      "source": [
        "## Question 11\n",
        "**Favorite Number:** Write a program that prompts for the user’s favorite number. Use `json.dump()` to store this number in a file. Write a separate program that reads in this value and prints the message, `I know your favorite number! It’s _____.`"
      ]
    },
    {
      "cell_type": "code",
      "execution_count": 10,
      "metadata": {
        "id": "J5f5LsLtwab0",
        "colab": {
          "base_uri": "https://localhost:8080/"
        },
        "outputId": "628a4f3e-b986-4cdd-a7e9-202690102d1b"
      },
      "outputs": [
        {
          "name": "stdout",
          "output_type": "stream",
          "text": [
            "What is your favorite number? 12\n"
          ]
        }
      ],
      "source": [
        "import json\n",
        "\n",
        "def save_favorite_number():\n",
        "  favorite_number = input(\"What is your favorite number? \")\n",
        "\n",
        "  with open('favorite_number.json', 'w') as file:\n",
        "    json.dump({\"favorite_number\": favorite_number}, file)\n",
        "\n",
        "if __name__ == \"__main__\":\n",
        "  save_favorite_number()"
      ]
    },
    {
      "cell_type": "code",
      "source": [
        "import json\n",
        "def read_favorite_number():\n",
        "  with open('favorite_number.json', 'r') as file:\n",
        "    data = json.load(file)\n",
        "\n",
        "  print(f\"I know your favorite number! It's {data['favorite_number']}.\")\n",
        "\n",
        "if __name__ == \"__main__\":\n",
        "  read_favorite_number()"
      ],
      "metadata": {
        "colab": {
          "base_uri": "https://localhost:8080/"
        },
        "id": "9jiIa5qy4Oaq",
        "outputId": "2073b42d-4bc9-4ec7-c479-2d7dd0c9c4c4"
      },
      "execution_count": 11,
      "outputs": [
        {
          "output_type": "stream",
          "name": "stdout",
          "text": [
            "I know your favorite number! It's 12.\n"
          ]
        }
      ]
    },
    {
      "cell_type": "markdown",
      "metadata": {
        "id": "tusRTCVVwab0"
      },
      "source": [
        "## Question 12\n",
        "**Favorite Number Remembered:** Combine the two programs from Question 10 into one file. If the number is already stored, report the favorite number to the user. If not, prompt for the user’s favorite number and store it in a file. Run the program twice to see that it works."
      ]
    },
    {
      "cell_type": "code",
      "source": [
        "import json\n",
        "\n",
        "def get_favorite_number():\n",
        "  try:\n",
        "    with open('favorite_number.json', 'r') as file:\n",
        "      data = json.load(file)\n",
        "      return data['favorite_number']\n",
        "  except (FileNotFoundError, json.JSONDecodeError):\n",
        "      return None\n",
        "\n",
        "def save_favorite_number(favorite_number):\n",
        "  with open('favorite_number.json', 'w') as file:\n",
        "    json.dump ({\"favorite_number\": favorite_number}, file)\n",
        "\n",
        "def main():\n",
        "  stored_favorite_number = get_favorite_number()\n",
        "\n",
        "  if stored_favorite_number:\n",
        "      print(f\"I know your favorite number! It's {stored_favorite_number}.\")\n",
        "  else:\n",
        "      favorite_number = input(\"What is your favorite number? \")\n",
        "\n",
        "      save_favorite_number(favorite_number)\n",
        "      print(\"Your favorite number has been saved!\")\n",
        "\n",
        "if __name__ == \"__main__\":\n",
        "            main()"
      ],
      "metadata": {
        "colab": {
          "base_uri": "https://localhost:8080/"
        },
        "id": "I7MHOG9j4KMw",
        "outputId": "de3a0060-e392-40cd-e6ce-26931ae62c31"
      },
      "execution_count": 20,
      "outputs": [
        {
          "output_type": "stream",
          "name": "stdout",
          "text": [
            "What is your favorite number? 13\n",
            "Your favorite number has been saved!\n"
          ]
        }
      ]
    }
  ],
  "metadata": {
    "kernelspec": {
      "display_name": "Python 3",
      "language": "python",
      "name": "python3"
    },
    "language_info": {
      "codemirror_mode": {
        "name": "ipython",
        "version": 3
      },
      "file_extension": ".py",
      "mimetype": "text/x-python",
      "name": "python",
      "nbconvert_exporter": "python",
      "pygments_lexer": "ipython3",
      "version": "3.8.5"
    },
    "colab": {
      "provenance": [],
      "include_colab_link": true
    }
  },
  "nbformat": 4,
  "nbformat_minor": 0
}