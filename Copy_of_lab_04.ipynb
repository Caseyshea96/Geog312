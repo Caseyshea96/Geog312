{
  "cells": [
    {
      "cell_type": "markdown",
      "metadata": {
        "id": "view-in-github",
        "colab_type": "text"
      },
      "source": [
        "<a href=\"https://colab.research.google.com/github/Caseyshea96/Lab01CCS/blob/main/Copy_of_lab_04.ipynb\" target=\"_parent\"><img src=\"https://colab.research.google.com/assets/colab-badge.svg\" alt=\"Open In Colab\"/></a>"
      ]
    },
    {
      "cell_type": "markdown",
      "metadata": {
        "id": "46nH9XIx6QAb"
      },
      "source": [
        "[![image](https://colab.research.google.com/assets/colab-badge.svg)](https://colab.research.google.com/github/giswqs/geog-312/blob/master/labs/lab_04.ipynb)\n",
        "[![image](https://binder.pangeo.io/badge_logo.svg)](https://gishub.org/geog312-pangeo)\n",
        "\n",
        "**Firstname Lastname**"
      ]
    },
    {
      "cell_type": "code",
      "execution_count": 2,
      "metadata": {
        "id": "T97giVeG6QAf",
        "colab": {
          "base_uri": "https://localhost:8080/"
        },
        "outputId": "44bdccf8-4e8a-463c-cd29-28fbf2f473b9"
      },
      "outputs": [
        {
          "output_type": "stream",
          "name": "stdout",
          "text": [
            "Submitted time: 2023-10-04 17:43:02.889824\n"
          ]
        }
      ],
      "source": [
        "from datetime import datetime\n",
        "\n",
        "now = datetime.now()\n",
        "print(f\"Submitted time: {now}\")"
      ]
    },
    {
      "cell_type": "markdown",
      "metadata": {
        "id": "ebRnx-v96QAg"
      },
      "source": [
        "## Question 1\n",
        "**Alien Colors # 1:** Imagine an alien was just shot down in a game. Create a variable called `alien_color` and assign it a value of `green, yellow,` or `red`.\n",
        "\n",
        "* Write an if statement to test whether the alien’s color is green. If it is, print a message that the player just earned 5 points.\n",
        "* Write one version of this program that passes the if test and another that fails. (The version that fails will have no output.)"
      ]
    },
    {
      "cell_type": "code",
      "execution_count": null,
      "metadata": {
        "id": "lmBrc0Wb6QAh",
        "colab": {
          "base_uri": "https://localhost:8080/"
        },
        "outputId": "2b946863-feb7-4ae3-8d7b-a6ae0ad46fa9"
      },
      "outputs": [
        {
          "output_type": "stream",
          "name": "stdout",
          "text": [
            "5 points\n",
            "\n"
          ]
        }
      ],
      "source": [
        "alien_color = \"green\"\n",
        "\n",
        "\n",
        "if alien_color == \"green\":\n",
        "  print(\"5 points\")\n",
        "else:\n",
        "  print()\n",
        "\n",
        "alien_color = \"red\"\n",
        "\n",
        "\n",
        "if alien_color == \"green\":\n",
        "  print(\"5 points\")\n",
        "else:\n",
        "  print()\n"
      ]
    },
    {
      "cell_type": "markdown",
      "metadata": {
        "id": "Dyf4W0L96QAh"
      },
      "source": [
        "## Question 2\n",
        "**Alien Colors # 2:** Choose a color for an alien as you did in Question 1, and write an `if-else` chain.\n",
        "\n",
        "* If the alien’s color is green, print a statement that the player just earned 5 points for shooting the alien.\n",
        "* If the alien’s color isn’t green, print a statement that the player just earned 10 points.\n",
        "* Write one version of this program that runs the if block and another that runs the else block."
      ]
    },
    {
      "cell_type": "code",
      "execution_count": null,
      "metadata": {
        "id": "W4peeh4L6QAi",
        "colab": {
          "base_uri": "https://localhost:8080/"
        },
        "outputId": "5bce2276-dc1b-4b65-d70a-cf88e5fc2342"
      },
      "outputs": [
        {
          "output_type": "stream",
          "name": "stdout",
          "text": [
            "5 points\n",
            "10 points\n"
          ]
        }
      ],
      "source": [
        "alien_color = \"green\"\n",
        "\n",
        "if alien_color == \"green\":\n",
        "  print(\"5 points\")\n",
        "else:\n",
        "  print(\"10 points\")\n",
        "\n",
        "alien_color = \"red\"\n",
        "if alien_color == \"green\":\n",
        "  print(\"5 points\")\n",
        "else:\n",
        "  print(\"10 points\")"
      ]
    },
    {
      "cell_type": "markdown",
      "metadata": {
        "id": "7Ew10VAo6QAi"
      },
      "source": [
        "## Question 3\n",
        "**Alien Colors # 3:** Turn your `if-else` chain from Question 2 into an `if-elif-else` chain.\n",
        "\n",
        "* If the alien is green, print a message that the player earned 5 points.\n",
        "* If the alien is yellow, print a message that the player earned 10 points.\n",
        "* If the alien is red, print a message that the player earned 15 points.\n",
        "* Write three versions of this program, making sure each message is printed for the appropriate color alien."
      ]
    },
    {
      "cell_type": "code",
      "execution_count": null,
      "metadata": {
        "id": "XpzZofpb6QAi",
        "colab": {
          "base_uri": "https://localhost:8080/"
        },
        "outputId": "58ab19a5-ed68-4526-f2f6-4344a0c48a36"
      },
      "outputs": [
        {
          "output_type": "stream",
          "name": "stdout",
          "text": [
            "5 points\n",
            "10 points\n",
            "15 points\n"
          ]
        }
      ],
      "source": [
        "alien_color = 'green'\n",
        "if alien_color == 'green':\n",
        "  print(\"5 points\")\n",
        "elif alien_color == \"yellow\":\n",
        "  print(\"10 points\")\n",
        "else:\n",
        "  print(\"15 points\")\n",
        "\n",
        "alien_color = 'yellow'\n",
        "if alien_color == 'green':\n",
        "  print(\"5 points\")\n",
        "elif alien_color == \"yellow\":\n",
        "  print(\"10 points\")\n",
        "else:\n",
        "  print(\"15 points\")\n",
        "\n",
        "alien_color = 'red'\n",
        "if alien_color == 'green':\n",
        "  print(\"5 points\")\n",
        "elif alien_color == \"yellow\":\n",
        "  print(\"10 points\")\n",
        "else:\n",
        "  print(\"15 points\")"
      ]
    },
    {
      "cell_type": "markdown",
      "metadata": {
        "id": "s7VASFa26QAj"
      },
      "source": [
        "## Question 4\n",
        "**Stages of Life:** Write an `if-elif-else` chain that determines a person’s stage of life. Set a value for the variable `age`, and then:\n",
        "\n",
        "* If the person is less than 2 years old, print a message that the person is a baby.\n",
        "* If the person is at least 2 years old but less than 4, print a message that the person is a toddler.\n",
        "* If the person is at least 4 years old but less than 13, print a message that the person is a kid.\n",
        "* If the person is at least 13 years old but less than 20, print a message that the person is a teenager.\n",
        "* If the person is at least 20 years old but less than 65, print a message that the person is an adult."
      ]
    },
    {
      "cell_type": "code",
      "execution_count": null,
      "metadata": {
        "id": "t79mumTY6QAj",
        "colab": {
          "base_uri": "https://localhost:8080/"
        },
        "outputId": "14db8c50-8cbd-4af3-d434-fd384c4d82a0"
      },
      "outputs": [
        {
          "output_type": "stream",
          "name": "stdout",
          "text": [
            "You are a teenager\n"
          ]
        }
      ],
      "source": [
        "age = 15\n",
        "if age < 2:\n",
        "  print('You are a baby')\n",
        "elif age < 4:\n",
        "  print('You are a toddler')\n",
        "elif age < 13:\n",
        "  print('You are a kid')\n",
        "elif age < 20:\n",
        "  print('You are a teenager')\n",
        "elif age < 65:\n",
        "  print('You are an adult')"
      ]
    },
    {
      "cell_type": "markdown",
      "metadata": {
        "id": "pBnWKNSq6QAj"
      },
      "source": [
        "## Question 5\n",
        "**Favorite Fruit:** Make a list of your favorite fruits, and then write a series of independent `if` statements that check for certain fruits in your list.\n",
        "\n",
        "* Make a list of your three favorite fruits and call it favorite_fruits.\n",
        "* Write five if statements. Each should check whether a certain kind of fruit is in your list. If the fruit is in your list, the if block should print a statement, such as You really like bananas!"
      ]
    },
    {
      "cell_type": "code",
      "execution_count": null,
      "metadata": {
        "id": "xWKJvmIB6QAj",
        "colab": {
          "base_uri": "https://localhost:8080/"
        },
        "outputId": "7234683e-b2fc-4095-fc36-fd8a28432fb1"
      },
      "outputs": [
        {
          "output_type": "stream",
          "name": "stdout",
          "text": [
            "You really like bananas!\n",
            "You really like kiwi!\n",
            "You really like watermelon!\n"
          ]
        }
      ],
      "source": [
        "favorite_fruits = ['bananas', 'kiwi', 'watermelon']\n",
        "\n",
        "if 'apples' in favorite_fruits:\n",
        "  print(\"You really like apples!\")\n",
        "if 'grapes' in favorite_fruits:\n",
        "  print(\"You really like grapes!\")\n",
        "if 'bananas' in favorite_fruits:\n",
        "  print(\"You really like bananas!\")\n",
        "if 'kiwi' in favorite_fruits:\n",
        "  print(\"You really like kiwi!\")\n",
        "if 'watermelon' in favorite_fruits:\n",
        "  print(\"You really like watermelon!\")"
      ]
    },
    {
      "cell_type": "markdown",
      "metadata": {
        "id": "vDWqcbnT6QAk"
      },
      "source": [
        "## Question 6\n",
        "**Hello Admin:** Make a list of five or more usernames, including the name `admin`. Imagine you are writing code that will print a greeting to each user after they log in to a website. Loop through the list, and print a greeting to each user:\n",
        "\n",
        "* If the username is 'admin', print a special greeting, such as *Hello admin, would you like to see a status report?*\n",
        "* Otherwise, print a generic greeting, such as *Hello Jaden, thank you for logging in again*."
      ]
    },
    {
      "cell_type": "code",
      "execution_count": null,
      "metadata": {
        "id": "G9DiENV66QAk",
        "colab": {
          "base_uri": "https://localhost:8080/"
        },
        "outputId": "e5766989-2001-449e-9cd6-735abad24b48"
      },
      "outputs": [
        {
          "output_type": "stream",
          "name": "stdout",
          "text": [
            "Hello admin, would you like to see a status report?\n",
            "Hello Bob, thank you for logging in.\n",
            "Hello Jim, thank you for logging in.\n",
            "Hello Sally, thank you for logging in.\n",
            "Hello Jane, thank you for logging in.\n"
          ]
        }
      ],
      "source": [
        "usernames = ['admin','bob','jim','sally','jane']\n",
        "\n",
        "if 'admin' in usernames:\n",
        "  print('Hello admin, would you like to see a status report?')\n",
        "if 'bob' in usernames:\n",
        "  print ('Hello Bob, thank you for logging in.')\n",
        "if 'jim' in usernames:\n",
        "  print ('Hello Jim, thank you for logging in.')\n",
        "if 'sally' in usernames:\n",
        "  print ('Hello Sally, thank you for logging in.')\n",
        "if 'jane' in usernames:\n",
        "  print ('Hello Jane, thank you for logging in.')"
      ]
    },
    {
      "cell_type": "markdown",
      "metadata": {
        "id": "Pjqbqoee6QAk"
      },
      "source": [
        "## Question 7\n",
        "**No Users:** Based on Question 6, add an `if` test to make sure the list of users is not empty.\n",
        "\n",
        "* If the list is empty, print the message *We need to find some users!*\n",
        "* Remove all of the usernames from your list, and make sure the correct message is printed."
      ]
    },
    {
      "cell_type": "code",
      "execution_count": null,
      "metadata": {
        "id": "Xfqreee-6QAk",
        "colab": {
          "base_uri": "https://localhost:8080/"
        },
        "outputId": "9303c7c3-bb07-4381-cd64-cb597feed207"
      },
      "outputs": [
        {
          "output_type": "stream",
          "name": "stdout",
          "text": [
            "Hello admin, would you like to see a status report?\n",
            "Hello Bob, thank you for logging in.\n",
            "Hello Jim, thank you for logging in.\n",
            "Hello Sally, thank you for logging in.\n",
            "Hello Jane, thank you for logging in.\n",
            "We need to find some users!\n"
          ]
        }
      ],
      "source": [
        "usernames = ['admin','bob','jim','sally','jane']\n",
        "\n",
        "if 'admin' in usernames:\n",
        "  print('Hello admin, would you like to see a status report?')\n",
        "if 'bob' in usernames:\n",
        "  print ('Hello Bob, thank you for logging in.')\n",
        "if 'jim' in usernames:\n",
        "  print ('Hello Jim, thank you for logging in.')\n",
        "if 'sally' in usernames:\n",
        "  print ('Hello Sally, thank you for logging in.')\n",
        "if 'jane' in usernames:\n",
        "  print ('Hello Jane, thank you for logging in.')\n",
        "else:\n",
        "  print('We need to find some users!')\n",
        "\n",
        "usernames = []\n",
        "\n",
        "if 'admin' in usernames:\n",
        "  print('Hello admin, would you like to see a status report?')\n",
        "if 'bob' in usernames:\n",
        "  print ('Hello Bob, thank you for logging in.')\n",
        "if 'jim' in usernames:\n",
        "  print ('Hello Jim, thank you for logging in.')\n",
        "if 'sally' in usernames:\n",
        "  print ('Hello Sally, thank you for logging in.')\n",
        "if 'jane' in usernames:\n",
        "  print ('Hello Jane, thank you for logging in.')\n",
        "else:\n",
        "  print('We need to find some users!')"
      ]
    },
    {
      "cell_type": "markdown",
      "metadata": {
        "id": "zIERiUXu6QAk"
      },
      "source": [
        "## Question 8\n",
        "**Checking Usernames:** Do the following to create a program that simulates how websites ensure that everyone has a unique username.\n",
        "\n",
        "* Make a list of five or more usernames called `current_users`.\n",
        "*  Make another list of five usernames called `new_users`. Make sure one or two of the new usernames are also in the `current_users` list.\n",
        "* Loop through the `new_users` list to see if each new username has already been used. If it has, print a message that the person will need to enter a new username. If a username has not been used, print a message saying that the username is available.\n",
        "* Make sure your comparison is case insensitive. If 'John' has been used, 'JOHN' should not be accepted. (To do this, you’ll need to make a copy of `current_users` containing the lowercase versions of all existing users.)"
      ]
    },
    {
      "cell_type": "code",
      "execution_count": null,
      "metadata": {
        "id": "yKyRzGvU6QAk",
        "colab": {
          "base_uri": "https://localhost:8080/"
        },
        "outputId": "80653ffe-c853-43ad-f27e-b5b3baecf2d1"
      },
      "outputs": [
        {
          "output_type": "stream",
          "name": "stdout",
          "text": [
            "steve is available\n",
            "connor is available\n",
            "tim is available\n",
            "tyler is unavailable\n",
            "jennifer is unavailable\n"
          ]
        }
      ],
      "source": [
        "current_users = ['Joe','Bill','John','Tyler','Jennifer']\n",
        "current_users = ['joe','bill','john','tyler','jennifer']\n",
        "\n",
        "new_users = ['steve','connor','tim','tyler','jennifer']\n",
        "\n",
        "for user in new_users:\n",
        "  if user in current_users:\n",
        "    print(f\"{user} is unavailable\")\n",
        "  else:\n",
        "    print(f\"{user} is available\")"
      ]
    },
    {
      "cell_type": "markdown",
      "metadata": {
        "id": "N5HWHJLi6QAl"
      },
      "source": [
        "## Question 9\n",
        "**Ordinal Numbers:** Ordinal numbers indicate their position in a list, such as *1st* or *2nd*. Most ordinal numbers end in *th*, except 1, 2, and 3.\n",
        "\n",
        "* Store the numbers 1 through 9 in a list.\n",
        "* Loop through the list.\n",
        "* Use an `if-elif-else` chain inside the loop to print the proper ordinal ending for each number. Your output should read \"1st 2nd 3rd 4th 5th 6th 7th 8th 9th\", and each result should be on a separate line."
      ]
    },
    {
      "cell_type": "code",
      "execution_count": 1,
      "metadata": {
        "id": "kGAbN6_s6QAl",
        "colab": {
          "base_uri": "https://localhost:8080/"
        },
        "outputId": "a2b0c799-33f3-47f9-e182-c19c98707d96"
      },
      "outputs": [
        {
          "output_type": "stream",
          "name": "stdout",
          "text": [
            "1st\n",
            "2nd\n",
            "3rd\n",
            "4th\n",
            "5th\n",
            "6th\n",
            "7th\n",
            "8th\n",
            "9th\n"
          ]
        }
      ],
      "source": [
        "numbers = [1,2,3,4,5,6,7,8,9]\n",
        "\n",
        "for num in numbers:\n",
        "  if num == 1:\n",
        "    print(f\"{num}st\")\n",
        "  elif num == 2:\n",
        "    print(f\"{num}nd\")\n",
        "  elif num == 3:\n",
        "    print(f\"{num}rd\")\n",
        "  else:\n",
        "    print(f\"{num}th\")"
      ]
    }
  ],
  "metadata": {
    "kernelspec": {
      "display_name": "Python 3 (ipykernel)",
      "language": "python",
      "name": "python3"
    },
    "language_info": {
      "codemirror_mode": {
        "name": "ipython",
        "version": 3
      },
      "file_extension": ".py",
      "mimetype": "text/x-python",
      "name": "python",
      "nbconvert_exporter": "python",
      "pygments_lexer": "ipython3",
      "version": "3.8.10"
    },
    "colab": {
      "provenance": [],
      "include_colab_link": true
    }
  },
  "nbformat": 4,
  "nbformat_minor": 0
}