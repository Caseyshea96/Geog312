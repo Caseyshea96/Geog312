{
  "cells": [
    {
      "cell_type": "markdown",
      "metadata": {
        "id": "view-in-github",
        "colab_type": "text"
      },
      "source": [
        "<a href=\"https://colab.research.google.com/github/Caseyshea96/Lab01CCS/blob/main/Lab3CCS.ipynb\" target=\"_parent\"><img src=\"https://colab.research.google.com/assets/colab-badge.svg\" alt=\"Open In Colab\"/></a>"
      ]
    },
    {
      "cell_type": "markdown",
      "metadata": {
        "id": "fMlRUwKPh27q"
      },
      "source": [
        "[![image](https://colab.research.google.com/assets/colab-badge.svg)](https://colab.research.google.com/github/giswqs/geog-312/blob/master/labs/lab_03.ipynb)\n",
        "[![image](https://binder.pangeo.io/badge_logo.svg)](https://gishub.org/geog312-pangeo)"
      ]
    },
    {
      "cell_type": "code",
      "source": [
        "print(\"Casey Shea\")"
      ],
      "metadata": {
        "colab": {
          "base_uri": "https://localhost:8080/"
        },
        "id": "V7kjtPKgsW3a",
        "outputId": "fff804aa-cf76-470f-f934-a1827aa8370e"
      },
      "execution_count": 104,
      "outputs": [
        {
          "output_type": "stream",
          "name": "stdout",
          "text": [
            "Casey Shea\n"
          ]
        }
      ]
    },
    {
      "cell_type": "markdown",
      "metadata": {
        "id": "ltF467dqh27u"
      },
      "source": [
        "**Firstname Lastname**"
      ]
    },
    {
      "cell_type": "code",
      "execution_count": 103,
      "metadata": {
        "id": "5pXkwXkSh27v",
        "colab": {
          "base_uri": "https://localhost:8080/"
        },
        "outputId": "16dc01d9-44db-499e-db0c-84c00be23722"
      },
      "outputs": [
        {
          "output_type": "stream",
          "name": "stdout",
          "text": [
            "Submitted time: 2023-09-27 17:29:52.236229\n"
          ]
        }
      ],
      "source": [
        "from datetime import datetime\n",
        "\n",
        "now = datetime.now()\n",
        "print(f\"Submitted time: {now}\")"
      ]
    },
    {
      "cell_type": "code",
      "source": [],
      "metadata": {
        "id": "Syuy82BIsMDF"
      },
      "execution_count": 103,
      "outputs": []
    },
    {
      "cell_type": "markdown",
      "metadata": {
        "id": "ANpJP53-h27w"
      },
      "source": [
        "## Question 1\n",
        "**Pizzas:** Think of at least three kinds of your favorite pizza. Store these pizza names in a list, and then use a for loop to print the name of each pizza.\n",
        "\n",
        "Modify your for loop to print a sentence using the name of the pizza instead of printing just the name of the pizza. For each pizza you should have one line of output containing a simple statement like *I like pepperoni pizza.*"
      ]
    },
    {
      "cell_type": "code",
      "execution_count": 105,
      "metadata": {
        "id": "NHMc6AVqh27w",
        "colab": {
          "base_uri": "https://localhost:8080/"
        },
        "outputId": "ae488109-01f2-40a8-c4f5-391b374590e8"
      },
      "outputs": [
        {
          "output_type": "stream",
          "name": "stdout",
          "text": [
            "I love pepperoni pizza\n",
            "I love Sausage pizza\n",
            "I love Cheese pizza\n"
          ]
        }
      ],
      "source": [
        "pizza = ['pepperoni', 'Sausage', 'Cheese']\n",
        "for pizza in pizza:\n",
        "  print(f\"I love {pizza} pizza\")\n"
      ]
    },
    {
      "cell_type": "markdown",
      "metadata": {
        "id": "rdCrl9_lh27w"
      },
      "source": [
        "Add a line at the end of your program, outside the for loop, that states how much you like pizza. The output should consist of three or more lines about the kinds of pizza you like and then an additional sentence, such as *I really love pizza!*"
      ]
    },
    {
      "cell_type": "code",
      "execution_count": 1,
      "metadata": {
        "id": "GYU-g63xh27x",
        "colab": {
          "base_uri": "https://localhost:8080/"
        },
        "outputId": "370c028c-47f0-417e-fb26-cd3a6129304a"
      },
      "outputs": [
        {
          "output_type": "stream",
          "name": "stdout",
          "text": [
            "I love pepperoni pizza\n",
            "\n",
            "I love Sausage pizza\n",
            "\n",
            "I love Cheese pizza\n",
            "\n",
            "I really love pizza\n"
          ]
        }
      ],
      "source": [
        "pizza = ['pepperoni', 'Sausage', 'Cheese']\n",
        "for pizza in pizza:\n",
        "  print(f\"I love {pizza} pizza\\n\")\n",
        "\n",
        "print(\"I really love pizza\")"
      ]
    },
    {
      "cell_type": "markdown",
      "metadata": {
        "id": "kaRDFnYOh27x"
      },
      "source": [
        "## Question 2\n",
        "**Animals:** Think of at least three different animals that have a common characteristic. Store the names of these animals in a list, and then use a for loop to print out the name of each animal.\n",
        "\n",
        "Modify your program to print a statement about each animal, such as *A dog would make a great pet.*"
      ]
    },
    {
      "cell_type": "code",
      "execution_count": 3,
      "metadata": {
        "id": "LbhosXeTh27y",
        "colab": {
          "base_uri": "https://localhost:8080/"
        },
        "outputId": "3f5a358d-33c9-4f02-8c5a-288558ac653f"
      },
      "outputs": [
        {
          "output_type": "stream",
          "name": "stdout",
          "text": [
            "A dog would make a great pet!\n",
            "A cat would make a great pet!\n",
            "A fish would make a great pet!\n"
          ]
        }
      ],
      "source": [
        "pets = ['dog','cat','fish']\n",
        "for pets in pets:\n",
        "  print(f\"A {pets} would make a great pet!\")"
      ]
    },
    {
      "cell_type": "markdown",
      "metadata": {
        "id": "cWWaXit0h27y"
      },
      "source": [
        "Add a line at the end of your program stating what these animals have in common. You could print a sentence such as *Any of these animals would make a great pet!*"
      ]
    },
    {
      "cell_type": "code",
      "execution_count": 4,
      "metadata": {
        "id": "lL49Pr7Ch27y",
        "colab": {
          "base_uri": "https://localhost:8080/"
        },
        "outputId": "a132b91c-1586-463f-cf13-066ec941ad68"
      },
      "outputs": [
        {
          "output_type": "stream",
          "name": "stdout",
          "text": [
            "A dog would make a great pet!\n",
            "A cat would make a great pet!\n",
            "A fish would make a great pet!\n",
            "These animals are all great pets!\n"
          ]
        }
      ],
      "source": [
        "pets = ['dog','cat','fish']\n",
        "for pets in pets:\n",
        "  print(f\"A {pets} would make a great pet!\")\n",
        "\n",
        "print(\"These animals are all great pets!\")"
      ]
    },
    {
      "cell_type": "markdown",
      "metadata": {
        "id": "-zIJDmFnh27y"
      },
      "source": [
        "## Question 3\n",
        "**Counting to Twenty:** Use a for loop to print the numbers from 1 to 20, inclusive."
      ]
    },
    {
      "cell_type": "code",
      "execution_count": 7,
      "metadata": {
        "id": "yVoHC9BZh27z",
        "colab": {
          "base_uri": "https://localhost:8080/"
        },
        "outputId": "3bc0b688-8a03-4068-8822-7c262b380fb6"
      },
      "outputs": [
        {
          "output_type": "stream",
          "name": "stdout",
          "text": [
            "1\n",
            "2\n",
            "3\n",
            "4\n",
            "5\n",
            "6\n",
            "7\n",
            "8\n",
            "9\n",
            "10\n",
            "11\n",
            "12\n",
            "13\n",
            "14\n",
            "15\n",
            "16\n",
            "17\n",
            "18\n",
            "19\n",
            "20\n"
          ]
        }
      ],
      "source": [
        "for value in range(1,21):\n",
        "  print(value)"
      ]
    },
    {
      "cell_type": "markdown",
      "metadata": {
        "id": "f4CaJXSah27z"
      },
      "source": [
        "## Question 4\n",
        "**One Hundred:** Make a list of the numbers from one to one hundred, and then use a for loop to print the numbers."
      ]
    },
    {
      "cell_type": "code",
      "execution_count": 8,
      "metadata": {
        "id": "6t_1HADmh27z",
        "colab": {
          "base_uri": "https://localhost:8080/"
        },
        "outputId": "99bc796c-db8d-45c6-ae27-1022a48cd9ca"
      },
      "outputs": [
        {
          "output_type": "stream",
          "name": "stdout",
          "text": [
            "1\n",
            "2\n",
            "3\n",
            "4\n",
            "5\n",
            "6\n",
            "7\n",
            "8\n",
            "9\n",
            "10\n",
            "11\n",
            "12\n",
            "13\n",
            "14\n",
            "15\n",
            "16\n",
            "17\n",
            "18\n",
            "19\n",
            "20\n",
            "21\n",
            "22\n",
            "23\n",
            "24\n",
            "25\n",
            "26\n",
            "27\n",
            "28\n",
            "29\n",
            "30\n",
            "31\n",
            "32\n",
            "33\n",
            "34\n",
            "35\n",
            "36\n",
            "37\n",
            "38\n",
            "39\n",
            "40\n",
            "41\n",
            "42\n",
            "43\n",
            "44\n",
            "45\n",
            "46\n",
            "47\n",
            "48\n",
            "49\n",
            "50\n",
            "51\n",
            "52\n",
            "53\n",
            "54\n",
            "55\n",
            "56\n",
            "57\n",
            "58\n",
            "59\n",
            "60\n",
            "61\n",
            "62\n",
            "63\n",
            "64\n",
            "65\n",
            "66\n",
            "67\n",
            "68\n",
            "69\n",
            "70\n",
            "71\n",
            "72\n",
            "73\n",
            "74\n",
            "75\n",
            "76\n",
            "77\n",
            "78\n",
            "79\n",
            "80\n",
            "81\n",
            "82\n",
            "83\n",
            "84\n",
            "85\n",
            "86\n",
            "87\n",
            "88\n",
            "89\n",
            "90\n",
            "91\n",
            "92\n",
            "93\n",
            "94\n",
            "95\n",
            "96\n",
            "97\n",
            "98\n",
            "99\n",
            "100\n"
          ]
        }
      ],
      "source": [
        "for value in range(1,101):\n",
        "  print(value)"
      ]
    },
    {
      "cell_type": "markdown",
      "metadata": {
        "id": "Cbnlpg_Eh27z"
      },
      "source": [
        "## Question 5\n",
        "**Summing a Hundred:** Make a list of the numbers from one to one million, and then use `min()` and `max()` to make sure your list actually starts at one and ends at one hundred. Also, use the sum() function to see how quickly Python can add a hundred numbers."
      ]
    },
    {
      "cell_type": "code",
      "execution_count": 32,
      "metadata": {
        "id": "woYPDHGwh27z",
        "colab": {
          "base_uri": "https://localhost:8080/"
        },
        "outputId": "c8a63a5a-d03b-44be-a28b-56c8dc7cac27"
      },
      "outputs": [
        {
          "output_type": "stream",
          "name": "stdout",
          "text": [
            "5000000050000000\n",
            "100000000\n",
            "1\n"
          ]
        }
      ],
      "source": [
        "digits = list(range(1,100000001))\n",
        "print(sum(digits))\n",
        "\n",
        "print(max(digits))\n",
        "\n",
        "print(min(digits))"
      ]
    },
    {
      "cell_type": "markdown",
      "metadata": {
        "id": "M7kbuKmZh27z"
      },
      "source": [
        "## Question 6\n",
        "**Odd Numbers:** Use the third argument of the `range()` function to make a list of the odd numbers from 1 to 20. Use a `for` loop to print each number."
      ]
    },
    {
      "cell_type": "code",
      "execution_count": 37,
      "metadata": {
        "id": "CL3xgLiKh27z",
        "colab": {
          "base_uri": "https://localhost:8080/"
        },
        "outputId": "fd470ce2-5913-4461-a895-bbf7b9f52148"
      },
      "outputs": [
        {
          "output_type": "stream",
          "name": "stdout",
          "text": [
            "[1, 3, 5, 7, 9, 11, 13, 15, 17, 19]\n"
          ]
        }
      ],
      "source": [
        "odd_numbers = list(range(1, 21, 2))\n",
        "print(odd_numbers)"
      ]
    },
    {
      "cell_type": "markdown",
      "metadata": {
        "id": "gvXTr5Hrh270"
      },
      "source": [
        "## Question 7\n",
        "**Threes:** Make a list of the multiples of 3 from 3 to 30. Use a `for` loop to print the numbers in your list."
      ]
    },
    {
      "cell_type": "code",
      "execution_count": 57,
      "metadata": {
        "id": "XS99giF-h270",
        "colab": {
          "base_uri": "https://localhost:8080/"
        },
        "outputId": "20a9b222-e17d-4f08-b1d5-c104a573d83a"
      },
      "outputs": [
        {
          "output_type": "stream",
          "name": "stdout",
          "text": [
            "3\n",
            "6\n",
            "9\n",
            "12\n",
            "15\n",
            "18\n",
            "21\n",
            "24\n",
            "27\n",
            "30\n"
          ]
        }
      ],
      "source": [
        "multiples_of_3 = []\n",
        "for num in range(3, 31, 3):\n",
        "    multiples_of_3.append(num)\n",
        "for multiple in multiples_of_3:\n",
        "    print(multiple)"
      ]
    },
    {
      "cell_type": "markdown",
      "metadata": {
        "id": "dsA9tk-rh270"
      },
      "source": [
        "## Question 8\n",
        "**Cubes:** A number raised to the third power is called a cube. For example, the cube of 2 is written as 2 ** 3 in Python. Make a list of the first 10 cubes (that is, the cube of each integer from 1 through 10), and use a for loop to print out the value of each cube."
      ]
    },
    {
      "cell_type": "code",
      "execution_count": 61,
      "metadata": {
        "id": "FFqIsMsWh270",
        "colab": {
          "base_uri": "https://localhost:8080/"
        },
        "outputId": "36f9ff65-7e7c-4d61-a629-d49e959a0ef8"
      },
      "outputs": [
        {
          "output_type": "stream",
          "name": "stdout",
          "text": [
            "1\n",
            "8\n",
            "27\n",
            "64\n",
            "125\n",
            "216\n",
            "343\n",
            "512\n",
            "729\n",
            "1000\n"
          ]
        }
      ],
      "source": [
        "cubes = []\n",
        "for num in range(1, 11):\n",
        "    cube = num ** 3\n",
        "    cubes.append(cube)\n",
        "for cube in cubes:\n",
        "    print(cube)"
      ]
    },
    {
      "cell_type": "markdown",
      "metadata": {
        "id": "8KcAjPNIh270"
      },
      "source": [
        "## Question 9\n",
        "**Cube Comprehension:** Use a list comprehension to generate a list of the first 10 cubes."
      ]
    },
    {
      "cell_type": "code",
      "execution_count": 62,
      "metadata": {
        "id": "I3PDNOZqh270",
        "colab": {
          "base_uri": "https://localhost:8080/"
        },
        "outputId": "505d2fd0-5d7c-4ad3-fade-c89d20867987"
      },
      "outputs": [
        {
          "output_type": "stream",
          "name": "stdout",
          "text": [
            "[1, 8, 27, 64, 125, 216, 343, 512, 729, 1000]\n"
          ]
        }
      ],
      "source": [
        "cubes = [num ** 3 for num in range(1, 11)]\n",
        "print(cubes)"
      ]
    },
    {
      "cell_type": "markdown",
      "metadata": {
        "id": "OUhEdCLSh270"
      },
      "source": [
        "## Question 10\n",
        "**Slices:** Using one of the programs you wrote in this lab, add several lines to the end of the program that do the following:\n",
        "\n",
        "Print the message *The first three items in the list are:*. Then use a slice to print the first three items from that program’s list."
      ]
    },
    {
      "cell_type": "code",
      "execution_count": 67,
      "metadata": {
        "id": "U8LTVuoah271",
        "colab": {
          "base_uri": "https://localhost:8080/"
        },
        "outputId": "d47a8b68-3dd4-4a03-93fe-c294522fdf1e"
      },
      "outputs": [
        {
          "output_type": "stream",
          "name": "stdout",
          "text": [
            "The first three items from this list are['dog', 'cat', 'fish']\n"
          ]
        }
      ],
      "source": [
        "pets = [\"dog\",\"cat\",\"fish\",\"turtle\",\"hampster\",\"bird\"]\n",
        "\n",
        "print(f'The first three items from this list are{pets[0:3]}')"
      ]
    },
    {
      "cell_type": "markdown",
      "metadata": {
        "id": "hTuOtHJJh271"
      },
      "source": [
        "Print the message *Three items from the middle of the list are:*. Use a slice to print three items from the middle of the list."
      ]
    },
    {
      "cell_type": "code",
      "execution_count": 69,
      "metadata": {
        "id": "WsPDqJClh271",
        "colab": {
          "base_uri": "https://localhost:8080/"
        },
        "outputId": "2f99b582-0ec1-4b5b-96a8-8e4801e5b567"
      },
      "outputs": [
        {
          "output_type": "stream",
          "name": "stdout",
          "text": [
            "The middle three items from this list are['fish', 'turtle', 'hampster']\n"
          ]
        }
      ],
      "source": [
        "pets = [\"dog\",\"cat\",\"fish\",\"turtle\",\"hampster\",\"bird\"]\n",
        "\n",
        "print(f'The middle three items from this list are{pets[2:5]}')"
      ]
    },
    {
      "cell_type": "markdown",
      "metadata": {
        "id": "M2Vfa6tKh271"
      },
      "source": [
        "Print the message *The last three items in the list are:*. Use a slice to print the last three items in the list."
      ]
    },
    {
      "cell_type": "code",
      "execution_count": 70,
      "metadata": {
        "id": "fjzsjSDvh271",
        "colab": {
          "base_uri": "https://localhost:8080/"
        },
        "outputId": "141c19c3-0c97-4214-dc13-20a5e7dfdb8a"
      },
      "outputs": [
        {
          "output_type": "stream",
          "name": "stdout",
          "text": [
            "The last three items from this list are['turtle', 'hampster', 'bird']\n"
          ]
        }
      ],
      "source": [
        "pets = [\"dog\",\"cat\",\"fish\",\"turtle\",\"hampster\",\"bird\"]\n",
        "\n",
        "print(f'The last three items from this list are{pets[3:6]}')"
      ]
    },
    {
      "cell_type": "markdown",
      "metadata": {
        "id": "szCTCzseh271"
      },
      "source": [
        "## Question 11\n",
        "**My Pizzas, Your Pizzas:** Start with your program from Question 1. Make a copy of the list of pizzas, and call it friend_pizzas. Then, do the following:\n",
        "\n",
        "Add a new pizza to the original list."
      ]
    },
    {
      "cell_type": "code",
      "execution_count": 81,
      "metadata": {
        "id": "6zzD0J0-h271",
        "colab": {
          "base_uri": "https://localhost:8080/"
        },
        "outputId": "deb4505b-2b82-4c36-fe10-871ed0cb6357"
      },
      "outputs": [
        {
          "output_type": "stream",
          "name": "stdout",
          "text": [
            "I love pepperoni pizza\n",
            "I love Sausage pizza\n",
            "I love Cheese pizza\n",
            "I love Veggie pizza\n"
          ]
        }
      ],
      "source": [
        "pizza = ['pepperoni', 'Sausage', 'Cheese',]\n",
        "pizza.append('Veggie')\n",
        "for pizza in pizza:\n",
        "  print(f\"I love {pizza} pizza\")\n"
      ]
    },
    {
      "cell_type": "markdown",
      "metadata": {
        "id": "Q3CFhuySh271"
      },
      "source": [
        "Add a different pizza to the list `friend_pizzas`."
      ]
    },
    {
      "cell_type": "code",
      "execution_count": 83,
      "metadata": {
        "id": "UkhOpajMh271",
        "colab": {
          "base_uri": "https://localhost:8080/"
        },
        "outputId": "c6d8c627-1c40-4639-b015-e93a268b45a6"
      },
      "outputs": [
        {
          "output_type": "stream",
          "name": "stdout",
          "text": [
            "I love pepperoni pizza\n",
            "I love Sausage pizza\n",
            "I love Cheese pizza\n",
            "I love Veggie pizza\n"
          ]
        }
      ],
      "source": [
        "pizza = ['pepperoni', 'Sausage', 'Cheese']\n",
        "pizza.append('Veggie')\n",
        "friend_pizzas = pizza[:]\n",
        "friend_pizzas.append('supreme')\n",
        "for pizza in pizza:\n",
        "  print(f\"I love {pizza} pizza\")\n",
        "\n"
      ]
    },
    {
      "cell_type": "markdown",
      "metadata": {
        "id": "RKPM5B1hh271"
      },
      "source": [
        "Prove that you have two separate lists. Print the message *My favorite pizzas are:*, and then use a for loop to print the first list. Print the message *My friend’s favorite pizzas are:*, and then use a for loop to print the second list. Make sure each new pizza is stored in the appropriate list."
      ]
    },
    {
      "cell_type": "code",
      "execution_count": 90,
      "metadata": {
        "id": "wrlmZ_uph272",
        "colab": {
          "base_uri": "https://localhost:8080/"
        },
        "outputId": "61687657-d820-423e-e8e6-81559201bf0e"
      },
      "outputs": [
        {
          "output_type": "stream",
          "name": "stdout",
          "text": [
            "My favorite pizzas are\n",
            "['Pepperoni', 'Sausage', 'Cheese', 'Veggie']\n",
            "My friend's favorites pizzas are\n",
            "['Pepperoni', 'Sausage', 'Cheese', 'Supreme']\n"
          ]
        }
      ],
      "source": [
        "pizza = ['Pepperoni', 'Sausage', 'Cheese']\n",
        "friend_pizzas = pizza[:]\n",
        "pizza.append('Veggie')\n",
        "friend_pizzas.append('Supreme')\n",
        "print(\"My favorite pizzas are\")\n",
        "print(pizza)\n",
        "print(\"My friend's favorites pizzas are\")\n",
        "print(friend_pizzas)\n",
        ""
      ]
    },
    {
      "cell_type": "markdown",
      "metadata": {
        "id": "RORHn1phh272"
      },
      "source": [
        "## Question 12\n",
        "**Buffet:** A buffet-style restaurant offers only five basic foods. Think of five simple foods, and store them in a tuple.\n",
        "\n",
        "Use a for loop to print each food the restaurant offers."
      ]
    },
    {
      "cell_type": "code",
      "execution_count": 93,
      "metadata": {
        "id": "bDq1Mog5h272",
        "colab": {
          "base_uri": "https://localhost:8080/"
        },
        "outputId": "cdfb646c-9402-4379-ed79-a75f9c2c698e"
      },
      "outputs": [
        {
          "output_type": "stream",
          "name": "stdout",
          "text": [
            "Pizza\n",
            "Burger\n",
            "Hot dog\n",
            "Chicken\n",
            "Rice\n"
          ]
        }
      ],
      "source": [
        "tuple = (\"Pizza\",\"Burger\",\"Hot dog\",\"Chicken\",\"Rice\")\n",
        "for tuple in tuple:\n",
        "  print(tuple)"
      ]
    },
    {
      "cell_type": "markdown",
      "metadata": {
        "id": "7jYuDfK7h276"
      },
      "source": [
        "Try to modify one of the items, and make sure that Python rejects the change."
      ]
    },
    {
      "cell_type": "code",
      "execution_count": 96,
      "metadata": {
        "id": "yBUQRdM-h276",
        "colab": {
          "base_uri": "https://localhost:8080/",
          "height": 227
        },
        "outputId": "85738229-f20e-4066-b254-c14afa7e0366"
      },
      "outputs": [
        {
          "output_type": "error",
          "ename": "TypeError",
          "evalue": "ignored",
          "traceback": [
            "\u001b[0;31m---------------------------------------------------------------------------\u001b[0m",
            "\u001b[0;31mTypeError\u001b[0m                                 Traceback (most recent call last)",
            "\u001b[0;32m<ipython-input-96-35cf8319d8a5>\u001b[0m in \u001b[0;36m<cell line: 2>\u001b[0;34m()\u001b[0m\n\u001b[1;32m      1\u001b[0m \u001b[0mtuple\u001b[0m \u001b[0;34m=\u001b[0m \u001b[0;34m(\u001b[0m\u001b[0;34m\"Pizza\"\u001b[0m\u001b[0;34m,\u001b[0m\u001b[0;34m\"Burger\"\u001b[0m\u001b[0;34m,\u001b[0m\u001b[0;34m\"Hot dog\"\u001b[0m\u001b[0;34m,\u001b[0m\u001b[0;34m\"Chicken\"\u001b[0m\u001b[0;34m,\u001b[0m\u001b[0;34m\"Rice\"\u001b[0m\u001b[0;34m)\u001b[0m\u001b[0;34m\u001b[0m\u001b[0;34m\u001b[0m\u001b[0m\n\u001b[1;32m      2\u001b[0m \u001b[0;32mfor\u001b[0m \u001b[0mtuple\u001b[0m \u001b[0;32min\u001b[0m \u001b[0mtuple\u001b[0m\u001b[0;34m:\u001b[0m\u001b[0;34m\u001b[0m\u001b[0;34m\u001b[0m\u001b[0m\n\u001b[0;32m----> 3\u001b[0;31m   \u001b[0mtuple\u001b[0m\u001b[0;34m[\u001b[0m\u001b[0;36m0\u001b[0m\u001b[0;34m]\u001b[0m \u001b[0;34m=\u001b[0m \u001b[0;34m\"Steak\"\u001b[0m\u001b[0;34m\u001b[0m\u001b[0;34m\u001b[0m\u001b[0m\n\u001b[0m\u001b[1;32m      4\u001b[0m \u001b[0mprint\u001b[0m\u001b[0;34m(\u001b[0m\u001b[0mtuple\u001b[0m\u001b[0;34m)\u001b[0m\u001b[0;34m\u001b[0m\u001b[0;34m\u001b[0m\u001b[0m\n",
            "\u001b[0;31mTypeError\u001b[0m: 'str' object does not support item assignment"
          ]
        }
      ],
      "source": [
        "tuple = (\"Pizza\",\"Burger\",\"Hot dog\",\"Chicken\",\"Rice\")\n",
        "for tuple in tuple:\n",
        "  tuple[0] = \"Steak\"\n",
        "print(tuple)"
      ]
    },
    {
      "cell_type": "markdown",
      "metadata": {
        "id": "8fIZ-J2mh276"
      },
      "source": [
        "The restaurant changes its menu, replacing two of the items with different foods. Add a line that rewrites the tuple, and then use a for loop to print each of the items on the revised menu."
      ]
    },
    {
      "cell_type": "code",
      "execution_count": 102,
      "metadata": {
        "id": "I3jArNVZh276",
        "colab": {
          "base_uri": "https://localhost:8080/"
        },
        "outputId": "f8d51ea2-3309-4c07-9d6e-6de6d417c106"
      },
      "outputs": [
        {
          "output_type": "stream",
          "name": "stdout",
          "text": [
            "Original Menu:\n",
            "Pizza\n",
            "Burger\n",
            "Hot dog\n",
            "Chicken\n",
            "Rice\n",
            "\n",
            "Updated Menu:\n",
            "Steak\n",
            "Salmon\n",
            "Hot dog\n",
            "Chicken\n",
            "Rice\n"
          ]
        }
      ],
      "source": [
        "tuple = (\"Pizza\",\"Burger\",\"Hot dog\",\"Chicken\",\"Rice\")\n",
        "print(\"Original Menu:\")\n",
        "for tuple in tuple:\n",
        "  print(tuple)\n",
        "\n",
        "print()\n",
        "tuple = (\"Steak\",\"Salmon\",\"Hot dog\",\"Chicken\",\"Rice\")\n",
        "print(\"Updated Menu:\")\n",
        "for tuple in tuple:\n",
        "  print(tuple)"
      ]
    }
  ],
  "metadata": {
    "kernelspec": {
      "display_name": "Python 3 (ipykernel)",
      "language": "python",
      "name": "python3"
    },
    "language_info": {
      "codemirror_mode": {
        "name": "ipython",
        "version": 3
      },
      "file_extension": ".py",
      "mimetype": "text/x-python",
      "name": "python",
      "nbconvert_exporter": "python",
      "pygments_lexer": "ipython3",
      "version": "3.8.10"
    },
    "colab": {
      "provenance": [],
      "include_colab_link": true
    }
  },
  "nbformat": 4,
  "nbformat_minor": 0
}