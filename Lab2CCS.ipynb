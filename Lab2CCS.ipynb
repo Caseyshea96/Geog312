{
  "cells": [
    {
      "cell_type": "markdown",
      "metadata": {
        "id": "view-in-github",
        "colab_type": "text"
      },
      "source": [
        "<a href=\"https://colab.research.google.com/github/Caseyshea96/Lab01CCS/blob/main/Lab2CCS.ipynb\" target=\"_parent\"><img src=\"https://colab.research.google.com/assets/colab-badge.svg\" alt=\"Open In Colab\"/></a>"
      ]
    },
    {
      "cell_type": "markdown",
      "metadata": {
        "id": "0Xpvk7Y-RW1g"
      },
      "source": [
        "[![image](https://colab.research.google.com/assets/colab-badge.svg)](https://colab.research.google.com/github/giswqs/geog-312/blob/master/labs/lab_02.ipynb)\n",
        "[![image](https://binder.pangeo.io/badge_logo.svg)](https://gishub.org/geog312-pangeo)"
      ]
    },
    {
      "cell_type": "markdown",
      "metadata": {
        "id": "G4e5LSKSRW1k"
      },
      "source": [
        "**Firstname Lastname**"
      ]
    },
    {
      "cell_type": "code",
      "execution_count": 198,
      "metadata": {
        "id": "K-UxnOMCRW1l",
        "colab": {
          "base_uri": "https://localhost:8080/"
        },
        "outputId": "1cb5b10f-786b-4c7d-d5a8-68148177c2f8"
      },
      "outputs": [
        {
          "output_type": "stream",
          "name": "stdout",
          "text": [
            "Casey Shea\n",
            "Submitted time: 2023-09-19 16:17:34.423475\n"
          ]
        }
      ],
      "source": [
        "print(f'{\"Casey\"} {\"Shea\"}')\n",
        "from datetime import datetime\n",
        "\n",
        "now = datetime.now()\n",
        "print(f\"Submitted time: {now}\")"
      ]
    },
    {
      "cell_type": "markdown",
      "metadata": {
        "id": "0ydVvRr9RW1w"
      },
      "source": [
        "## Question 1\n",
        "**Names:** Store the names of a few of your friends in a list called names. Print\n",
        "each person’s name by accessing each element in the list, one at a time."
      ]
    },
    {
      "cell_type": "code",
      "execution_count": 4,
      "metadata": {
        "id": "W6LzTPBdRW10",
        "colab": {
          "base_uri": "https://localhost:8080/"
        },
        "outputId": "f0e1b5bb-f504-42a5-fc62-857b876f8576"
      },
      "outputs": [
        {
          "output_type": "stream",
          "name": "stdout",
          "text": [
            "['Zak', 'Lucas', 'Anthony']\n"
          ]
        }
      ],
      "source": [
        "names = ['Zak', 'Lucas', 'Anthony']\n",
        "print(names)"
      ]
    },
    {
      "cell_type": "markdown",
      "metadata": {
        "id": "9TW4YgWrRW12"
      },
      "source": [
        "## Question 2\n",
        "**Greetings:** Start with the list you used in Question 1, but instead of just printing each person’s name, print a message to them. The text of each message should be the same, but each message should be personalized with the person’s name."
      ]
    },
    {
      "cell_type": "code",
      "execution_count": 10,
      "metadata": {
        "id": "oilDpVMARW12",
        "colab": {
          "base_uri": "https://localhost:8080/"
        },
        "outputId": "61230092-05d1-467f-8dea-f893d2eae58d"
      },
      "outputs": [
        {
          "output_type": "stream",
          "name": "stdout",
          "text": [
            "Hello Zak\n",
            "Hello Lucas\n",
            "Hello Anthony\n"
          ]
        }
      ],
      "source": [
        "Message = 'Hello'\n",
        "print(Message, names[0])\n",
        "print(Message, names[1])\n",
        "print(Message, names[2])"
      ]
    },
    {
      "cell_type": "markdown",
      "metadata": {
        "id": "MT94E6csRW13"
      },
      "source": [
        "## Question 3\n",
        "**Your Own List:** Think of your favorite mode of transportation, such as a motorcycle or a car, and make a list that stores several examples. Use your list to print a series of statements about these items, such as “I would like to own a Honda motorcycle.”"
      ]
    },
    {
      "cell_type": "code",
      "execution_count": 190,
      "metadata": {
        "id": "vgsbQ1x_RW13",
        "colab": {
          "base_uri": "https://localhost:8080/"
        },
        "outputId": "ac3d61c3-e104-477f-b0e8-b2e443c98097"
      },
      "outputs": [
        {
          "output_type": "stream",
          "name": "stdout",
          "text": [
            "My last car was an Acura.\n",
            "My first car was a Ford.\n"
          ]
        }
      ],
      "source": [
        "Cars = ('Ford', 'Acura')\n",
        "Message1 = ('My last car was an')\n",
        "Message2 = ('My first car was a')\n",
        "print(f\"{Message1} {Cars[1]}{'.'}\")\n",
        "print(f\"{Message2} {Cars[0]}{'.'}\")\n"
      ]
    },
    {
      "cell_type": "markdown",
      "metadata": {
        "id": "xikY3jLcRW13"
      },
      "source": [
        "## Question 4\n",
        "**Guest List:** If you could invite anyone, living or deceased, to dinner, who would you invite? Make a list that includes at least three people you’d like to invite to dinner. Then use your list to print a message to each person, inviting them to dinner."
      ]
    },
    {
      "cell_type": "code",
      "execution_count": 191,
      "metadata": {
        "id": "WrZn2B5RRW14",
        "colab": {
          "base_uri": "https://localhost:8080/"
        },
        "outputId": "ef990fb3-3a47-45d3-aedf-71062a11a363"
      },
      "outputs": [
        {
          "output_type": "stream",
          "name": "stdout",
          "text": [
            "Would you like to join me for dinner Jimi Hendrix?\n",
            "Would you like to join me for dinner Kurt Cobain?\n",
            "Would you like to join me for dinner Elvis Presley?\n"
          ]
        }
      ],
      "source": [
        "guests = ['Jimi Hendrix', 'Kurt Cobain', 'Elvis Presley']\n",
        "Invite = 'Would you like to join me for dinner'\n",
        "Question = '?'\n",
        "print (f\"{Invite} {guests[0]}{Question}\")\n",
        "print (f\"{Invite} {guests[1]}{Question}\")\n",
        "print (f\"{Invite} {guests[2]}{Question}\")"
      ]
    },
    {
      "cell_type": "markdown",
      "metadata": {
        "id": "q6VGv8faRW14"
      },
      "source": [
        "## Question 5\n",
        "**Changing Guest List:** You just heard that one of your guests can’t make the dinner, so you need to send out a new set of invitations. You’ll have to think of someone else to invite."
      ]
    },
    {
      "cell_type": "markdown",
      "metadata": {
        "id": "WE5ZNqMTRW14"
      },
      "source": [
        "Start with your program from Question 4. Add a print() call at the end of your program stating the name of the guest who can’t make it."
      ]
    },
    {
      "cell_type": "code",
      "execution_count": 192,
      "metadata": {
        "id": "KkeVDrM-RW14",
        "colab": {
          "base_uri": "https://localhost:8080/"
        },
        "outputId": "4c7ae2bc-1471-4d60-98ef-71db246ffb6e"
      },
      "outputs": [
        {
          "output_type": "stream",
          "name": "stdout",
          "text": [
            "Would you like to join me for dinner Jimi Hendrix?\n",
            "Would you like to join me for dinner Kurt Cobain?\n",
            "Would you like to join me for dinner Elvis Presley?\n",
            "I'm sorry you aren't able to make it, Elvis Presley.\n"
          ]
        }
      ],
      "source": [
        "guests = ['Jimi Hendrix', 'Kurt Cobain', 'Elvis Presley']\n",
        "Invite = 'Would you like to join me for dinner'\n",
        "Cancel = \"I'm sorry you aren't able to make it,\"\n",
        "Question = '?'\n",
        "print (f\"{Invite} {guests[0]}{Question}\")\n",
        "print (f\"{Invite} {guests[1]}{Question}\")\n",
        "print (f\"{Invite} {guests[2]}{Question}\")\n",
        "print (f\"{Cancel} {guests[2]}{'.'}\")"
      ]
    },
    {
      "cell_type": "markdown",
      "metadata": {
        "id": "B5Zx2dPKRW14"
      },
      "source": [
        "Modify your list, replacing the name of the guest who can’t make it with the name of the new person you are inviting."
      ]
    },
    {
      "cell_type": "code",
      "execution_count": 195,
      "metadata": {
        "id": "_fE07umhRW15",
        "colab": {
          "base_uri": "https://localhost:8080/"
        },
        "outputId": "ceff4f58-ff36-475f-89c8-61c592908f4d"
      },
      "outputs": [
        {
          "output_type": "stream",
          "name": "stdout",
          "text": [
            "['Jimi Hendrix', 'Kurt Cobain', 'Freddie Mercury']\n"
          ]
        }
      ],
      "source": [
        "guests[-1]= ('Freddie Mercury')\n",
        "print(guests)"
      ]
    },
    {
      "cell_type": "markdown",
      "metadata": {
        "id": "sLZwrXBBRW15"
      },
      "source": [
        "Print a second set of invitation messages, one for each person who is still in your list."
      ]
    },
    {
      "cell_type": "code",
      "execution_count": 193,
      "metadata": {
        "id": "GDSGECdDRW15",
        "colab": {
          "base_uri": "https://localhost:8080/"
        },
        "outputId": "b3b82cfd-11f7-41fd-ebbf-b36c809342f2"
      },
      "outputs": [
        {
          "output_type": "stream",
          "name": "stdout",
          "text": [
            "Would you like to join me for dinner Jimi Hendrix?\n",
            "Would you like to join me for dinner Kurt Cobain?\n",
            "Would you like to join me for dinner Freddie Mercury?\n"
          ]
        }
      ],
      "source": [
        "guests = ['Jimi Hendrix', 'Kurt Cobain', 'Elvis Presley']\n",
        "Invite = 'Would you like to join me for dinner'\n",
        "Cancel = \"I'm sorry you aren't able to make it,\"\n",
        "Question = '?'\n",
        "guests[2] = ('Freddie Mercury')\n",
        "print (f\"{Invite} {guests[0]}{Question}\")\n",
        "print (f\"{Invite} {guests[1]}{Question}\")\n",
        "print (f\"{Invite} {guests[2]}{Question}\")"
      ]
    },
    {
      "cell_type": "markdown",
      "metadata": {
        "id": "Myysj-6YRW15"
      },
      "source": [
        "## Question 6\n",
        "**More Guests:** You just found a bigger dinner table, so now more space is available. Think of three more guests to invite to dinner."
      ]
    },
    {
      "cell_type": "markdown",
      "metadata": {
        "id": "ptLEF1bKRW15"
      },
      "source": [
        "Start with your program from Question 4 or Question 5. Add a print() call to the end of your program informing people that you found a bigger dinner table."
      ]
    },
    {
      "cell_type": "code",
      "execution_count": 59,
      "metadata": {
        "id": "uyb6U6kYRW15",
        "colab": {
          "base_uri": "https://localhost:8080/"
        },
        "outputId": "b62889fc-5cbf-4b18-96c6-d195902800bb"
      },
      "outputs": [
        {
          "output_type": "stream",
          "name": "stdout",
          "text": [
            "Would you like to join me for dinner, Jimi Hendrix?\n",
            "Would you like to join me for dinner, Kurt Cobain?\n",
            "Would you like to join me for dinner, Freddie Mercury?\n",
            "Guys, I found a bigger table!\n"
          ]
        }
      ],
      "source": [
        "guests = ['Jimi Hendrix', 'Kurt Cobain', 'Elvis Presley']\n",
        "Invite = 'Would you like to join me for dinner'\n",
        "Cancel = \"I'm sorry you aren't able to make it,\"\n",
        "Question = '?'\n",
        "guests[2] = ('Freddie Mercury')\n",
        "biggertable = \"Guys, I found a bigger table!\"\n",
        "print (f\"{Invite}, {guests[0]}{Question}\")\n",
        "print (f\"{Invite}, {guests[1]}{Question}\")\n",
        "print (f\"{Invite}, {guests[2]}{Question}\")\n",
        "print (biggertable)"
      ]
    },
    {
      "cell_type": "markdown",
      "metadata": {
        "id": "tIzTKZBORW15"
      },
      "source": [
        "Use insert() to add one new guest to the beginning of your list."
      ]
    },
    {
      "cell_type": "code",
      "execution_count": 22,
      "metadata": {
        "id": "ZoXWo45QRW16",
        "colab": {
          "base_uri": "https://localhost:8080/"
        },
        "outputId": "18817038-d36d-4dbd-9ade-963468d35db8"
      },
      "outputs": [
        {
          "output_type": "stream",
          "name": "stdout",
          "text": [
            "['John Lennon', 'Jimi Hendrix', 'Kurt Cobain', 'Freddie Mercury']\n"
          ]
        }
      ],
      "source": [
        "guests = ['Jimi Hendrix', 'Kurt Cobain', 'Elvis Presley']\n",
        "Invite = 'Would you like to join me for dinner'\n",
        "Cancel = \"I'm sorry you aren't able to make it,\"\n",
        "Question = '?'\n",
        "guests[2] = ('Freddie Mercury')\n",
        "biggertable = \"Guys, I found a bigger table!\"\n",
        "guests.insert(0,'John Lennon')\n",
        "print(guests)"
      ]
    },
    {
      "cell_type": "markdown",
      "metadata": {
        "id": "fdRzl7tVRW16"
      },
      "source": [
        "Use insert() to add one new guest to the middle of your list."
      ]
    },
    {
      "cell_type": "code",
      "execution_count": 29,
      "metadata": {
        "id": "I9XsIQdURW16",
        "colab": {
          "base_uri": "https://localhost:8080/"
        },
        "outputId": "4e65f7d9-df08-47e4-d6fc-46513983e040"
      },
      "outputs": [
        {
          "output_type": "stream",
          "name": "stdout",
          "text": [
            "['John Lennon', 'Jimi Hendrix', 'Jim Morrison', 'Kurt Cobain', 'Freddie Mercury']\n"
          ]
        }
      ],
      "source": [
        "guests = ['Jimi Hendrix', 'Kurt Cobain', 'Elvis Presley']\n",
        "Invite = 'Would you like to join me for dinner'\n",
        "Cancel = \"I'm sorry you aren't able to make it,\"\n",
        "Question = '?'\n",
        "guests[2] = ('Freddie Mercury')\n",
        "biggertable = \"Guys, I found a bigger table!\"\n",
        "guests.insert(0, 'John Lennon')\n",
        "guests.insert(2,'Jim Morrison')\n",
        "print(guests)"
      ]
    },
    {
      "cell_type": "markdown",
      "metadata": {
        "id": "NA6bRxOYRW16"
      },
      "source": [
        "Use append() to add one new guest to the end of your list."
      ]
    },
    {
      "cell_type": "code",
      "execution_count": 30,
      "metadata": {
        "id": "jdRNbbqWRW16",
        "colab": {
          "base_uri": "https://localhost:8080/"
        },
        "outputId": "d2f141cf-c0bc-4789-c617-ab884fc53c73"
      },
      "outputs": [
        {
          "output_type": "stream",
          "name": "stdout",
          "text": [
            "['John Lennon', 'Jimi Hendrix', 'Jim Morrison', 'Kurt Cobain', 'Freddie Mercury', 'David Bowie']\n"
          ]
        }
      ],
      "source": [
        "guests = ['Jimi Hendrix', 'Kurt Cobain', 'Elvis Presley']\n",
        "Invite = 'Would you like to join me for dinner'\n",
        "Cancel = \"I'm sorry you aren't able to make it,\"\n",
        "Question = '?'\n",
        "guests[2] = ('Freddie Mercury')\n",
        "biggertable = \"Guys, I found a bigger table!\"\n",
        "guests.insert(0, 'John Lennon')\n",
        "guests.insert(2,'Jim Morrison')\n",
        "guests.append('David Bowie')\n",
        "print(guests)"
      ]
    },
    {
      "cell_type": "markdown",
      "metadata": {
        "id": "12GN6gsURW16"
      },
      "source": [
        "Print a new set of invitation messages, one for each person in your list."
      ]
    },
    {
      "cell_type": "code",
      "execution_count": 50,
      "metadata": {
        "id": "e_ARMjBsRW16",
        "colab": {
          "base_uri": "https://localhost:8080/"
        },
        "outputId": "b8228276-5767-45d9-dae0-c898ad8eb555"
      },
      "outputs": [
        {
          "output_type": "stream",
          "name": "stdout",
          "text": [
            "Would you like to join me for dinner John Lennon?\n",
            "Would you like to join me for dinner Jimi Hendrix?\n",
            "Would you like to join me for dinner Jim Morrison?\n",
            "Would you like to join me for dinner Kurt Cobain?\n",
            "Would you like to join me for dinner Freddie Mercury?\n",
            "Would you like to join me for dinner David Bowie?\n"
          ]
        }
      ],
      "source": [
        "guests = ['Jimi Hendrix', 'Kurt Cobain', 'Elvis Presley']\n",
        "Invite = 'Would you like to join me for dinner'\n",
        "Cancel = \"I'm sorry you aren't able to make it,\"\n",
        "Question = '?'\n",
        "guests[2] = ('Freddie Mercury')\n",
        "biggertable = \"Guys, I found a bigger table!\"\n",
        "guests.insert(0, 'John Lennon')\n",
        "guests.insert(2,'Jim Morrison')\n",
        "guests.append('David Bowie')\n",
        "print (f\"{Invite} {guests[0]}{Question}\")\n",
        "print (f\"{Invite} {guests[1]}{Question}\")\n",
        "print (f\"{Invite} {guests[2]}{Question}\")\n",
        "print (f\"{Invite} {guests[3]}{Question}\")\n",
        "print (f\"{Invite} {guests[4]}{Question}\")\n",
        "print (f\"{Invite} {guests[5]}{Question}\")"
      ]
    },
    {
      "cell_type": "markdown",
      "metadata": {
        "id": "iETE04yxRW16"
      },
      "source": [
        "## Question 7\n",
        "**Shrinking Guest List:** You just found out that your new dinner table won’t arrive in time for the dinner, and you have space for only two guests.\n",
        "\n",
        "Start with your program from Question 6. Add a new line that prints a message saying that you can invite only two people for dinner."
      ]
    },
    {
      "cell_type": "code",
      "execution_count": 52,
      "metadata": {
        "id": "C9sVnF6ZRW16",
        "colab": {
          "base_uri": "https://localhost:8080/"
        },
        "outputId": "fe0e10be-47ba-4b77-8698-958c590833bf"
      },
      "outputs": [
        {
          "output_type": "stream",
          "name": "stdout",
          "text": [
            "Would you like to join me for dinner John Lennon?\n",
            "Would you like to join me for dinner Jimi Hendrix?\n",
            "Would you like to join me for dinner Jim Morrison?\n",
            "Would you like to join me for dinner Kurt Cobain?\n",
            "Would you like to join me for dinner Freddie Mercury?\n",
            "Would you like to join me for dinner David Bowie?\n"
          ]
        }
      ],
      "source": [
        "guests = ['Jimi Hendrix', 'Kurt Cobain', 'Elvis Presley']\n",
        "Invite = 'Would you like to join me for dinner'\n",
        "Cancel = \"I'm sorry you aren't able to make it,\"\n",
        "Question = '?'\n",
        "guests[2] = ('Freddie Mercury')\n",
        "biggertable = \"Guys, I found a bigger table!\"\n",
        "smalltable = \"Unfortunately, I can only invite two people for dinner, my new table has not arrived yet.\"\n",
        "guests.insert(0, 'John Lennon')\n",
        "guests.insert(2,'Jim Morrison')\n",
        "guests.append('David Bowie')\n",
        "print (f\"{Invite} {guests[0]}{Question}\")\n",
        "print (f\"{Invite} {guests[1]}{Question}\")\n",
        "print (f\"{Invite} {guests[2]}{Question}\")\n",
        "print (f\"{Invite} {guests[3]}{Question}\")\n",
        "print (f\"{Invite} {guests[4]}{Question}\")\n",
        "print (f\"{Invite} {guests[5]}{Question}\")"
      ]
    },
    {
      "cell_type": "markdown",
      "metadata": {
        "id": "otib9uOxRW16"
      },
      "source": [
        "Use pop() to remove guests from your list one at a time until only two names remain in your list. Each time you pop a name from your list, print a message to that person letting them know you’re sorry you can’t invite them to dinner."
      ]
    },
    {
      "cell_type": "code",
      "execution_count": 66,
      "metadata": {
        "id": "Qh8DbiqNRW16",
        "colab": {
          "base_uri": "https://localhost:8080/"
        },
        "outputId": "b1439721-9839-4074-d3a6-895ce972aa59"
      },
      "outputs": [
        {
          "output_type": "stream",
          "name": "stdout",
          "text": [
            "I'm sorry, but I am unable to invite you at this time, David Bowie.\n",
            "I'm sorry, but I am unable to invite you at this time, Freddie Mercury.\n",
            "I'm sorry, but I am unable to invite you at this time, Jim Morrison.\n",
            "I'm sorry, but I am unable to invite you at this time, John Lennon.\n"
          ]
        }
      ],
      "source": [
        "guests = ['Jimi Hendrix', 'Kurt Cobain', 'Elvis Presley']\n",
        "Invite = 'Would you like to join me for dinner'\n",
        "Cancel = \"I'm sorry you aren't able to make it,\"\n",
        "Question = '?'\n",
        "guests[2] = ('Freddie Mercury')\n",
        "biggertable = \"Guys, I found a bigger table!\"\n",
        "smalltable = \"Unfortunately, I can only invite two people for dinner, my new table has not arrived yet.\"\n",
        "unable = \"I'm sorry, but I am unable to invite you at this time,\"\n",
        "guests.insert(0, 'John Lennon')\n",
        "guests.insert(2,'Jim Morrison')\n",
        "guests.append('David Bowie')\n",
        "uninvite1 = guests.pop(-1)\n",
        "uninvite2 = guests.pop(-1)\n",
        "uninvite3 = guests.pop(-1)\n",
        "uninvite3 = guests.pop(-1)\n",
        "print (f\"{unable} {uninvite1}{'.'}\")\n",
        "print (f\"{unable} {uninvite2}{'.'}\")\n",
        "print (f\"{unable} {uninvite3}{'.'}\")\n",
        "print (f\"{unable} {uninvite4}{'.'}\")"
      ]
    },
    {
      "cell_type": "markdown",
      "metadata": {
        "id": "J_y2CvJeRW17"
      },
      "source": [
        "Print a message to each of the two people still on your list, letting them know they’re still invited."
      ]
    },
    {
      "cell_type": "code",
      "execution_count": 71,
      "metadata": {
        "id": "GlE-hR-9RW17",
        "colab": {
          "base_uri": "https://localhost:8080/"
        },
        "outputId": "059e1fcf-b6aa-47e8-989d-15d78ac6aee2"
      },
      "outputs": [
        {
          "output_type": "stream",
          "name": "stdout",
          "text": [
            "I will see you at dinner, John Lennon.\n",
            "I will see you at dinner, Jimi Hendrix.\n"
          ]
        }
      ],
      "source": [
        "guests = ['Jimi Hendrix', 'Kurt Cobain', 'Elvis Presley']\n",
        "Invite = 'Would you like to join me for dinner'\n",
        "Cancel = \"I'm sorry you aren't able to make it,\"\n",
        "Question = '?'\n",
        "guests[2] = ('Freddie Mercury')\n",
        "biggertable = \"Guys, I found a bigger table!\"\n",
        "smalltable = \"Unfortunately, I can only invite two people for dinner, my new table has not arrived yet.\"\n",
        "unable = \"I'm sorry, but I am unable to invite you at this time,\"\n",
        "guests.insert(0, 'John Lennon')\n",
        "guests.insert(2,'Jim Morrison')\n",
        "guests.append('David Bowie')\n",
        "uninvite1 = guests.pop(-1)\n",
        "uninvite2 = guests.pop(-1)\n",
        "uninvite3 = guests.pop(-1)\n",
        "uninvite3 = guests.pop(-1)\n",
        "seeyou = \"I will see you at dinner,\"\n",
        "print (f\"{seeyou} {guests[0]}{'.'}\")\n",
        "print (f\"{seeyou} {guests[1]}{'.'}\")"
      ]
    },
    {
      "cell_type": "markdown",
      "metadata": {
        "id": "dNDvOJ_iRW17"
      },
      "source": [
        "Use del to remove the last two names from your list, so you have an empty list. Print your list to make sure you actually have an empty list at the end of your program."
      ]
    },
    {
      "cell_type": "code",
      "execution_count": 74,
      "metadata": {
        "id": "YUlNAXr5RW17",
        "colab": {
          "base_uri": "https://localhost:8080/"
        },
        "outputId": "cf330dfb-8979-43d4-8d8e-89cbb2efa79b"
      },
      "outputs": [
        {
          "output_type": "stream",
          "name": "stdout",
          "text": [
            "[]\n"
          ]
        }
      ],
      "source": [
        "guests = ['Jimi Hendrix', 'Kurt Cobain', 'Elvis Presley']\n",
        "Invite = 'Would you like to join me for dinner'\n",
        "Cancel = \"I'm sorry you aren't able to make it,\"\n",
        "Question = '?'\n",
        "guests[2] = ('Freddie Mercury')\n",
        "biggertable = \"Guys, I found a bigger table!\"\n",
        "smalltable = \"Unfortunately, I can only invite two people for dinner, my new table has not arrived yet.\"\n",
        "unable = \"I'm sorry, but I am unable to invite you at this time,\"\n",
        "guests.insert(0, 'John Lennon')\n",
        "guests.insert(2,'Jim Morrison')\n",
        "guests.append('David Bowie')\n",
        "uninvite1 = guests.pop(-1)\n",
        "uninvite2 = guests.pop(-1)\n",
        "uninvite3 = guests.pop(-1)\n",
        "uninvite3 = guests.pop(-1)\n",
        "seeyou = \"I will see you at dinner,\"\n",
        "del guests[-1]\n",
        "del guests[-1]\n",
        "print(guests)"
      ]
    },
    {
      "cell_type": "markdown",
      "metadata": {
        "id": "7sxBbjdERW17"
      },
      "source": [
        "## Question 8\n",
        "**Seeing the World:** Think of at least five places in the world you’d like to visit.\n",
        "\n",
        "Store the locations in a list. Make sure the list is not in alphabetical order."
      ]
    },
    {
      "cell_type": "code",
      "execution_count": 75,
      "metadata": {
        "id": "USDdDo3TRW17"
      },
      "outputs": [],
      "source": [
        "locations = ['Italy','Switzerland','Australia','Japan','Irelandl"
      ]
    },
    {
      "cell_type": "markdown",
      "metadata": {
        "id": "rwxdSoVMRW1_"
      },
      "source": [
        "Print your list in its original order. Don’t worry about printing the list neatly, just print it as a raw Python list."
      ]
    },
    {
      "cell_type": "code",
      "execution_count": 77,
      "metadata": {
        "id": "eS0dQUzdRW2A",
        "colab": {
          "base_uri": "https://localhost:8080/"
        },
        "outputId": "c00d67ab-03d3-486b-86f0-52a8ac3d2c7f"
      },
      "outputs": [
        {
          "output_type": "stream",
          "name": "stdout",
          "text": [
            "['Italy', 'Switzerland', 'Australia', 'Japan', 'Ireland']\n"
          ]
        }
      ],
      "source": [
        "locations = ['Italy','Switzerland','Australia','Japan','Ireland']\n",
        "print(locations)"
      ]
    },
    {
      "cell_type": "markdown",
      "metadata": {
        "id": "1SQPi_ftRW2A"
      },
      "source": [
        "Use sorted() to print your list in alphabetical order without modifying the actual list."
      ]
    },
    {
      "cell_type": "code",
      "execution_count": 80,
      "metadata": {
        "id": "FhKH6nagRW2A",
        "colab": {
          "base_uri": "https://localhost:8080/"
        },
        "outputId": "d063d9b2-8a54-444d-df97-91bedb54755b"
      },
      "outputs": [
        {
          "output_type": "stream",
          "name": "stdout",
          "text": [
            "['Australia', 'Ireland', 'Italy', 'Japan', 'Switzerland']\n"
          ]
        }
      ],
      "source": [
        "locations = ['Italy','Switzerland','Australia','Japan','Ireland']\n",
        "print(sorted(locations))"
      ]
    },
    {
      "cell_type": "markdown",
      "metadata": {
        "id": "QTgUTaNBRW2A"
      },
      "source": [
        "Show that your list is still in its original order by printing it."
      ]
    },
    {
      "cell_type": "code",
      "execution_count": 154,
      "metadata": {
        "id": "QGbDwbLkRW2A",
        "colab": {
          "base_uri": "https://localhost:8080/"
        },
        "outputId": "063784ac-c814-4cf7-d190-3f6462cf49db"
      },
      "outputs": [
        {
          "output_type": "stream",
          "name": "stdout",
          "text": [
            "['Italy', 'Switzerland', 'Australia', 'Japan', 'Ireland']\n"
          ]
        }
      ],
      "source": [
        "locations = ['Italy','Switzerland','Australia','Japan','Ireland']\n",
        "print(locations)"
      ]
    },
    {
      "cell_type": "markdown",
      "metadata": {
        "id": "bB4tDW6tRW2A"
      },
      "source": [
        "Use sorted() to print your list in reverse alphabetical order without changing the order of the original list."
      ]
    },
    {
      "cell_type": "code",
      "execution_count": 152,
      "metadata": {
        "id": "qxzTUAtsRW2A",
        "colab": {
          "base_uri": "https://localhost:8080/"
        },
        "outputId": "7e818767-6734-462c-9243-385ad3d04df3"
      },
      "outputs": [
        {
          "output_type": "stream",
          "name": "stdout",
          "text": [
            "['Switzerland', 'Japan', 'Italy', 'Ireland', 'Australia']\n"
          ]
        }
      ],
      "source": [
        "print(sorted(locations,reverse=True))"
      ]
    },
    {
      "cell_type": "markdown",
      "metadata": {
        "id": "Fv_oyfeSRW2A"
      },
      "source": [
        "Show that your list is still in its original order by printing it again."
      ]
    },
    {
      "cell_type": "code",
      "execution_count": 155,
      "metadata": {
        "id": "PUd6ix4QRW2B",
        "colab": {
          "base_uri": "https://localhost:8080/"
        },
        "outputId": "74c3f982-104a-40eb-ed89-0f511196db57"
      },
      "outputs": [
        {
          "output_type": "stream",
          "name": "stdout",
          "text": [
            "['Italy', 'Switzerland', 'Australia', 'Japan', 'Ireland']\n"
          ]
        }
      ],
      "source": [
        "print(locations)"
      ]
    },
    {
      "cell_type": "markdown",
      "metadata": {
        "id": "nmH98tQGRW2B"
      },
      "source": [
        "Use reverse() to change the order of your list. Print the list to show that its order has changed."
      ]
    },
    {
      "cell_type": "code",
      "execution_count": 157,
      "metadata": {
        "id": "TcWRREIFRW2B",
        "colab": {
          "base_uri": "https://localhost:8080/"
        },
        "outputId": "0c964e50-09e9-48f1-9840-1a96cbbfa4d4"
      },
      "outputs": [
        {
          "output_type": "stream",
          "name": "stdout",
          "text": [
            "['Ireland', 'Japan', 'Australia', 'Switzerland', 'Italy']\n"
          ]
        }
      ],
      "source": [
        "locations.reverse()\n",
        "print(locations)"
      ]
    },
    {
      "cell_type": "markdown",
      "metadata": {
        "id": "roV-urCPRW2B"
      },
      "source": [
        "Use reverse() to change the order of your list again. Print the list to show it’s back to its original order."
      ]
    },
    {
      "cell_type": "code",
      "execution_count": 158,
      "metadata": {
        "id": "m3RAwzUfRW2B",
        "colab": {
          "base_uri": "https://localhost:8080/"
        },
        "outputId": "02307210-9585-4023-8947-f6fd8ee5032a"
      },
      "outputs": [
        {
          "output_type": "stream",
          "name": "stdout",
          "text": [
            "['Italy', 'Switzerland', 'Australia', 'Japan', 'Ireland']\n"
          ]
        }
      ],
      "source": [
        "locations.reverse()\n",
        "print(locations)"
      ]
    },
    {
      "cell_type": "markdown",
      "metadata": {
        "id": "NVLZbzzZRW2B"
      },
      "source": [
        "Use sort() to change your list so it’s stored in alphabetical order. Print the list to show that its order has been changed."
      ]
    },
    {
      "cell_type": "code",
      "execution_count": 160,
      "metadata": {
        "id": "e_782bKiRW2B",
        "colab": {
          "base_uri": "https://localhost:8080/"
        },
        "outputId": "78cc0a51-9b58-4b90-86bc-683ab1c8638f"
      },
      "outputs": [
        {
          "output_type": "stream",
          "name": "stdout",
          "text": [
            "['Australia', 'Ireland', 'Italy', 'Japan', 'Switzerland']\n"
          ]
        }
      ],
      "source": [
        "locations.sort()\n",
        "print(locations)"
      ]
    },
    {
      "cell_type": "markdown",
      "metadata": {
        "id": "RZpkAV8IRW2B"
      },
      "source": [
        "Use sort() to change your list so it’s stored in reverse alphabetical order. Print the list to show that its order has changed."
      ]
    },
    {
      "cell_type": "code",
      "execution_count": 162,
      "metadata": {
        "id": "XeMYCx8wRW2C",
        "colab": {
          "base_uri": "https://localhost:8080/"
        },
        "outputId": "71d12de0-65d6-4072-d179-100aa5594e16"
      },
      "outputs": [
        {
          "output_type": "stream",
          "name": "stdout",
          "text": [
            "['Switzerland', 'Japan', 'Italy', 'Ireland', 'Australia']\n"
          ]
        }
      ],
      "source": [
        "locations.sort(reverse=True)\n",
        "print(locations)"
      ]
    },
    {
      "cell_type": "markdown",
      "metadata": {
        "id": "jUnqqEX8RW2C"
      },
      "source": [
        "## Question 9\n",
        "**Dinner Guests:** Working with one of the programs from Question 4 through Question 7, use len() to print a message indicating the number of people you are inviting to dinner."
      ]
    },
    {
      "cell_type": "code",
      "execution_count": 165,
      "metadata": {
        "id": "mSIqplQjRW2C",
        "colab": {
          "base_uri": "https://localhost:8080/"
        },
        "outputId": "01ae5226-fbdf-4604-ee72-c261f6f79b17"
      },
      "outputs": [
        {
          "output_type": "stream",
          "name": "stdout",
          "text": [
            "I am inviting 6 guests to dinner.\n"
          ]
        }
      ],
      "source": [
        "guests = ['Jimi Hendrix', 'Kurt Cobain', 'Elvis Presley']\n",
        "Invite = 'Would you like to join me for dinner'\n",
        "Cancel = \"I'm sorry you aren't able to make it,\"\n",
        "Question = '?'\n",
        "guests[2] = ('Freddie Mercury')\n",
        "biggertable = \"Guys, I found a bigger table!\"\n",
        "smalltable = \"Unfortunately, I can only invite two people for dinner, my new table has not arrived yet.\"\n",
        "guests.insert(0, 'John Lennon')\n",
        "guests.insert(2,'Jim Morrison')\n",
        "guests.append('David Bowie')\n",
        "Msg1 = \"I am inviting\"\n",
        "Msg2 = \"guests to dinner\"\n",
        "print(f\"{Msg1} {len(guests)} {Msg2}{'.'}\")"
      ]
    },
    {
      "cell_type": "markdown",
      "metadata": {
        "id": "qk_aNpwERW2C"
      },
      "source": [
        "## Question 10\n",
        "**Every Function:** Think of something you could store in a list. For example, you could make a list of mountains, rivers, countries, cities, languages, or anything else you’d like. Write a program that creates a list containing these items and then uses each function introduced in this chapter at least once."
      ]
    },
    {
      "cell_type": "code",
      "execution_count": 188,
      "metadata": {
        "id": "JF-56vxxRW2C",
        "colab": {
          "base_uri": "https://localhost:8080/"
        },
        "outputId": "990d89eb-66bb-41e4-9401-d2f3f6606f0f"
      },
      "outputs": [
        {
          "output_type": "stream",
          "name": "stdout",
          "text": [
            "['Nike', 'Adidas', 'Reebok']\n",
            "I am wearing Nike shoes today.\n",
            "['Nike', 'Adidas', 'Converse']\n",
            "['Nike', 'Adidas', 'Converse', 'Vans']\n",
            "['New Balance', 'Nike', 'Adidas', 'Converse', 'Vans']\n",
            "['New Balance', 'Nike', 'Converse', 'Vans']\n",
            "['New Balance', 'Nike', 'Vans']\n",
            "['New Balance', 'Nike']\n",
            "['Converse', 'New Balance', 'Nike']\n",
            "['Nike', 'New Balance', 'Converse']\n",
            "['Converse', 'New Balance', 'Nike']\n",
            "['Nike', 'New Balance', 'Converse']\n"
          ]
        },
        {
          "output_type": "execute_result",
          "data": {
            "text/plain": [
              "3"
            ]
          },
          "metadata": {},
          "execution_count": 188
        }
      ],
      "source": [
        "shoes = ['Nike','Adidas','Reebok']\n",
        "Wearing = \"I am wearing\"\n",
        "Today = \"shoes today.\"\n",
        "\n",
        "print(shoes)\n",
        "print(f\"{Wearing} {shoes[0]} {Today}\")\n",
        "\n",
        "shoes[2] = 'Converse'\n",
        "print(shoes)\n",
        "\n",
        "shoes.append(\"Vans\")\n",
        "print(shoes)\n",
        "\n",
        "shoes.insert(0,'New Balance')\n",
        "print(shoes)\n",
        "\n",
        "del shoes[2]\n",
        "print(shoes)\n",
        "\n",
        "popshoes = shoes.pop(2)\n",
        "print(shoes)\n",
        "\n",
        "shoes.remove ('Vans')\n",
        "print(shoes)\n",
        "\n",
        "shoes.append (\"Converse\")\n",
        "shoes.sort()\n",
        "print(shoes)\n",
        "\n",
        "shoes.sort(reverse=True)\n",
        "print(shoes)\n",
        "\n",
        "print(sorted(shoes))\n",
        "\n",
        "shoes.reverse\n",
        "print(shoes)\n",
        "\n",
        "len(shoes)"
      ]
    }
  ],
  "metadata": {
    "kernelspec": {
      "display_name": "Python 3 (ipykernel)",
      "language": "python",
      "name": "python3"
    },
    "language_info": {
      "codemirror_mode": {
        "name": "ipython",
        "version": 3
      },
      "file_extension": ".py",
      "mimetype": "text/x-python",
      "name": "python",
      "nbconvert_exporter": "python",
      "pygments_lexer": "ipython3",
      "version": "3.8.10"
    },
    "colab": {
      "provenance": [],
      "include_colab_link": true
    }
  },
  "nbformat": 4,
  "nbformat_minor": 0
}