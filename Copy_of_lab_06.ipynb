{
  "cells": [
    {
      "cell_type": "markdown",
      "metadata": {
        "id": "view-in-github",
        "colab_type": "text"
      },
      "source": [
        "<a href=\"https://colab.research.google.com/github/Caseyshea96/Geog312/blob/main/Copy_of_lab_06.ipynb\" target=\"_parent\"><img src=\"https://colab.research.google.com/assets/colab-badge.svg\" alt=\"Open In Colab\"/></a>"
      ]
    },
    {
      "cell_type": "markdown",
      "metadata": {
        "id": "6STNkF6adrAm"
      },
      "source": [
        "[![image](https://colab.research.google.com/assets/colab-badge.svg)](https://colab.research.google.com/github/giswqs/geog-312/blob/master/labs/lab_06.ipynb)\n",
        "[![image](https://binder.pangeo.io/badge_logo.svg)](https://gishub.org/geog312-pangeo)\n",
        "\n",
        "**Casey Shea**"
      ]
    },
    {
      "cell_type": "code",
      "execution_count": 11,
      "metadata": {
        "id": "UudaR-ZQdrAp",
        "colab": {
          "base_uri": "https://localhost:8080/"
        },
        "outputId": "d195225e-9302-4099-a833-b62192e23ac0"
      },
      "outputs": [
        {
          "output_type": "stream",
          "name": "stdout",
          "text": [
            "Submitted time: 2023-11-07 12:24:32.754996\n"
          ]
        }
      ],
      "source": [
        "from datetime import datetime\n",
        "\n",
        "now = datetime.now()\n",
        "print(f\"Submitted time: {now}\")"
      ]
    },
    {
      "cell_type": "markdown",
      "metadata": {
        "id": "LBqFGry3drAq"
      },
      "source": [
        "## Question 1\n",
        "**Message:** Write a function called `display_message()` that prints one sentence telling everyone what you are learning about in this chapter. Call the function, and make sure the message displays correctly."
      ]
    },
    {
      "cell_type": "code",
      "execution_count": null,
      "metadata": {
        "id": "EEesOf8EdrAq",
        "colab": {
          "base_uri": "https://localhost:8080/"
        },
        "outputId": "ee3bc2b9-88e7-4fd6-8809-6d642394f37c"
      },
      "outputs": [
        {
          "output_type": "stream",
          "name": "stdout",
          "text": [
            "I am learning about functions and how they are defined.\n"
          ]
        }
      ],
      "source": [
        "def display_message():\n",
        "  message = (\"I am learning about functions and how they are defined.\")\n",
        "  print(message)\n",
        "\n",
        "display_message()"
      ]
    },
    {
      "cell_type": "markdown",
      "metadata": {
        "id": "qPNLEmN5drAq"
      },
      "source": [
        "## Question 2\n",
        "**Favorite Book:** Write a function called `favorite_book()` that accepts one parameter, title. The function should print a message, such as `One of my favorite books is Alice in Wonderland`. Call the function, making sure to include a book title as an argument in the function call."
      ]
    },
    {
      "cell_type": "code",
      "execution_count": null,
      "metadata": {
        "id": "3FqeJvmgdrAq",
        "colab": {
          "base_uri": "https://localhost:8080/"
        },
        "outputId": "b93971c3-ec35-4a26-b676-ce4978694e12"
      },
      "outputs": [
        {
          "output_type": "stream",
          "name": "stdout",
          "text": [
            "One of my favorite books is Alice in Wonderland.\n"
          ]
        }
      ],
      "source": [
        "def favorite_book(title):\n",
        "  message = f\"One of my favorite books is {title}.\"\n",
        "  print(message)\n",
        "\n",
        "favorite_book(\"Alice in Wonderland\")"
      ]
    },
    {
      "cell_type": "markdown",
      "metadata": {
        "id": "tbfXchBQdrAr"
      },
      "source": [
        "## Question 3\n",
        "**T-Shirt:** Write a function called `make_shirt()` that accepts a size and the text of a message that should be printed on the shirt. The function should print a sentence summarizing the size of the shirt and the message printed on it.\n",
        "\n",
        "Call the function once using positional arguments to make a shirt. Call the function a second time using keyword arguments."
      ]
    },
    {
      "cell_type": "code",
      "execution_count": null,
      "metadata": {
        "id": "bRtzUaO4drAr",
        "colab": {
          "base_uri": "https://localhost:8080/"
        },
        "outputId": "60f0db36-6a91-4e0b-e12e-9fa6e7282589"
      },
      "outputs": [
        {
          "output_type": "stream",
          "name": "stdout",
          "text": [
            "Creating a Large-sized T-shirt with the message: 'Hello'\n",
            "Creating a Small-sized T-shirt with the message: 'Goodbye'\n"
          ]
        }
      ],
      "source": [
        "def make_shirt(size, message):\n",
        "  print(f\"Creating a {size}-sized T-shirt with the message: '{message}'\")\n",
        "\n",
        "make_shirt('Large', 'Hello')\n",
        "\n",
        "make_shirt(size='Small', message='Goodbye')\n"
      ]
    },
    {
      "cell_type": "markdown",
      "metadata": {
        "id": "0N-WfBtrdrAr"
      },
      "source": [
        "## Question 4\n",
        "**Large Shirts:** Modify the `make_shirt()` function so that shirts are large by default with a message that reads *I love Python*. Make a large shirt and a medium shirt with the default message, and a shirt of any size with a different message."
      ]
    },
    {
      "cell_type": "code",
      "execution_count": null,
      "metadata": {
        "id": "I3PhWnZddrAs",
        "colab": {
          "base_uri": "https://localhost:8080/"
        },
        "outputId": "efd3df6a-d5f6-456c-d3e8-c5d36c329803"
      },
      "outputs": [
        {
          "output_type": "stream",
          "name": "stdout",
          "text": [
            "Creating a Large-sized T-shirt with the message: 'I love Python'\n",
            "Creating a Medium-sized T-shirt with the message: 'I love Python'\n",
            "Creating a Extra Small-sized T-shirt with the message: 'Blah blah'\n"
          ]
        }
      ],
      "source": [
        "def make_shirt(size='Large', message='I love Python'):\n",
        "  print(f\"Creating a {size}-sized T-shirt with the message: '{message}'\")\n",
        "\n",
        "make_shirt()\n",
        "make_shirt(size='Medium')\n",
        "make_shirt('Extra Small','Blah blah')"
      ]
    },
    {
      "cell_type": "markdown",
      "metadata": {
        "id": "L8wnw6PxdrAs"
      },
      "source": [
        "## Question 5\n",
        "**Cities:** Write a function called `describe_city()` that accepts the name of a city and its country. The function should print a simple sentence, such as `Reykjavik is in Iceland`. Give the parameter for the country a default value. Call your function for three different cities, at least one of which is not in the default country."
      ]
    },
    {
      "cell_type": "code",
      "execution_count": null,
      "metadata": {
        "id": "iK2KsLbQdrAs",
        "colab": {
          "base_uri": "https://localhost:8080/"
        },
        "outputId": "bbcb6c21-3e40-4094-be92-80436ef86bff"
      },
      "outputs": [
        {
          "output_type": "stream",
          "name": "stdout",
          "text": [
            "London is in England\n",
            "Las Vegas is in the United States\n",
            "Rome is in Italy\n"
          ]
        }
      ],
      "source": [
        "def describe_city(city,country='the United States'):\n",
        "  print(f\"{city} is in {country}\")\n",
        "\n",
        "describe_city('London','England')\n",
        "describe_city('Las Vegas',)\n",
        "describe_city('Rome','Italy')"
      ]
    },
    {
      "cell_type": "markdown",
      "metadata": {
        "id": "SUz9233BdrAs"
      },
      "source": [
        "## Question 6\n",
        "**City Names:** Write a function called `city_country()` that takes in the name of a city and its country. The function should return a string formatted like this:\n",
        "```\n",
        "Santiago, Chile\n",
        "```\n",
        "Call your function with at least three city-country pairs, and print the values that are returned."
      ]
    },
    {
      "cell_type": "code",
      "execution_count": null,
      "metadata": {
        "id": "Hrzv8yjCdrAs",
        "colab": {
          "base_uri": "https://localhost:8080/"
        },
        "outputId": "d08e725f-db4c-4522-8d5e-b9b2892a1e53"
      },
      "outputs": [
        {
          "output_type": "stream",
          "name": "stdout",
          "text": [
            "New York , United States\n",
            "Los Angeles , United States\n",
            "Toronto , Canada\n"
          ]
        }
      ],
      "source": [
        "\n",
        "def city_country(city,country):\n",
        "  print(city,\",\", country)\n",
        "\n",
        "city_country('New York','United States')\n",
        "city_country('Los Angeles', 'United States')\n",
        "city_country('Toronto','Canada')"
      ]
    },
    {
      "cell_type": "markdown",
      "metadata": {
        "id": "jK0y-jBJdrAs"
      },
      "source": [
        "## Question 7\n",
        "**Album:** Write a function called `make_album()` that builds a dictionary describing a music album. The function should take in an artist name and an album title, and it should return a dictionary containing these two pieces of information. Use the function to make three dictionaries representing different albums. Print each return value to show that the dictionaries are storing the album information correctly.\n",
        "\n",
        "Use None to add an optional parameter to make_album() that allows you to store the number of songs on an album. If the calling line includes a value for the number of songs, add that value to the album’s dictionary. Make at least one new function call that includes the number of songs on an album."
      ]
    },
    {
      "cell_type": "code",
      "execution_count": null,
      "metadata": {
        "id": "keiqbeaCdrAt",
        "colab": {
          "base_uri": "https://localhost:8080/"
        },
        "outputId": "e88516c8-b4a4-44a8-9529-97b95221ec41"
      },
      "outputs": [
        {
          "output_type": "stream",
          "name": "stdout",
          "text": [
            "{'Artist': 'Pink Floyd', 'Album title': 'Dark side of the moon', 'Number of songs': 10}\n",
            "{'Artist': 'The Beatles', 'Album title': 'Abbey Road', 'Number of songs': 17}\n",
            "{'Artist': 'Led Zeppelin', 'Album title': 'IV', 'Number of songs': 8}\n"
          ]
        }
      ],
      "source": [
        "def make_album(artist, albumtitle, number_of_songs=None):\n",
        "  album = {'Artist': artist, 'Album title': albumtitle}\n",
        "  if number_of_songs is not None:\n",
        "    album['Number of songs'] = number_of_songs\n",
        "  return album\n",
        "\n",
        "album1 = make_album('Pink Floyd','Dark side of the moon', 10)\n",
        "album2 = make_album('The Beatles','Abbey Road', 17)\n",
        "album3 = make_album('Led Zeppelin', 'IV', 8)\n",
        "\n",
        "print(album1)\n",
        "print(album2)\n",
        "print(album3)\n",
        "\n"
      ]
    },
    {
      "cell_type": "markdown",
      "metadata": {
        "id": "XMrUYibMdrAt"
      },
      "source": [
        "## Question 8\n",
        "**User Albums:** Start with your program from Question 7. Write a `while` loop that allows users to enter an album’s artist and title. Once you have that information, call `make_album()` with the user’s input and print the dictionary that’s created. Be sure to include a quit value in the `while` loop."
      ]
    },
    {
      "cell_type": "code",
      "execution_count": null,
      "metadata": {
        "id": "CrhZn0HkdrAt",
        "colab": {
          "base_uri": "https://localhost:8080/",
          "height": 390
        },
        "outputId": "96d187fa-7884-4e0e-8991-c07530e0fa4e"
      },
      "outputs": [
        {
          "output_type": "error",
          "ename": "KeyboardInterrupt",
          "evalue": "ignored",
          "traceback": [
            "\u001b[0;31m---------------------------------------------------------------------------\u001b[0m",
            "\u001b[0;31mKeyboardInterrupt\u001b[0m                         Traceback (most recent call last)",
            "\u001b[0;32m<ipython-input-69-3b22c1debdbb>\u001b[0m in \u001b[0;36m<cell line: 7>\u001b[0;34m()\u001b[0m\n\u001b[1;32m      6\u001b[0m \u001b[0;34m\u001b[0m\u001b[0m\n\u001b[1;32m      7\u001b[0m \u001b[0;32mwhile\u001b[0m \u001b[0;32mTrue\u001b[0m\u001b[0;34m:\u001b[0m\u001b[0;34m\u001b[0m\u001b[0;34m\u001b[0m\u001b[0m\n\u001b[0;32m----> 8\u001b[0;31m   \u001b[0martist\u001b[0m \u001b[0;34m=\u001b[0m \u001b[0minput\u001b[0m\u001b[0;34m(\u001b[0m\u001b[0;34m\"Enter the artist's name (or 'quit' to exit):\"\u001b[0m\u001b[0;34m)\u001b[0m\u001b[0;34m\u001b[0m\u001b[0;34m\u001b[0m\u001b[0m\n\u001b[0m\u001b[1;32m      9\u001b[0m   \u001b[0;32mif\u001b[0m \u001b[0martist\u001b[0m\u001b[0;34m.\u001b[0m\u001b[0mlower\u001b[0m\u001b[0;34m(\u001b[0m\u001b[0;34m)\u001b[0m \u001b[0;34m==\u001b[0m \u001b[0;34m'quit'\u001b[0m\u001b[0;34m:\u001b[0m\u001b[0;34m\u001b[0m\u001b[0;34m\u001b[0m\u001b[0m\n\u001b[1;32m     10\u001b[0m     \u001b[0;32mbreak\u001b[0m\u001b[0;34m\u001b[0m\u001b[0;34m\u001b[0m\u001b[0m\n",
            "\u001b[0;32m/usr/local/lib/python3.10/dist-packages/ipykernel/kernelbase.py\u001b[0m in \u001b[0;36mraw_input\u001b[0;34m(self, prompt)\u001b[0m\n\u001b[1;32m    849\u001b[0m                 \u001b[0;34m\"raw_input was called, but this frontend does not support input requests.\"\u001b[0m\u001b[0;34m\u001b[0m\u001b[0;34m\u001b[0m\u001b[0m\n\u001b[1;32m    850\u001b[0m             )\n\u001b[0;32m--> 851\u001b[0;31m         return self._input_request(str(prompt),\n\u001b[0m\u001b[1;32m    852\u001b[0m             \u001b[0mself\u001b[0m\u001b[0;34m.\u001b[0m\u001b[0m_parent_ident\u001b[0m\u001b[0;34m,\u001b[0m\u001b[0;34m\u001b[0m\u001b[0;34m\u001b[0m\u001b[0m\n\u001b[1;32m    853\u001b[0m             \u001b[0mself\u001b[0m\u001b[0;34m.\u001b[0m\u001b[0m_parent_header\u001b[0m\u001b[0;34m,\u001b[0m\u001b[0;34m\u001b[0m\u001b[0;34m\u001b[0m\u001b[0m\n",
            "\u001b[0;32m/usr/local/lib/python3.10/dist-packages/ipykernel/kernelbase.py\u001b[0m in \u001b[0;36m_input_request\u001b[0;34m(self, prompt, ident, parent, password)\u001b[0m\n\u001b[1;32m    893\u001b[0m             \u001b[0;32mexcept\u001b[0m \u001b[0mKeyboardInterrupt\u001b[0m\u001b[0;34m:\u001b[0m\u001b[0;34m\u001b[0m\u001b[0;34m\u001b[0m\u001b[0m\n\u001b[1;32m    894\u001b[0m                 \u001b[0;31m# re-raise KeyboardInterrupt, to truncate traceback\u001b[0m\u001b[0;34m\u001b[0m\u001b[0;34m\u001b[0m\u001b[0m\n\u001b[0;32m--> 895\u001b[0;31m                 \u001b[0;32mraise\u001b[0m \u001b[0mKeyboardInterrupt\u001b[0m\u001b[0;34m(\u001b[0m\u001b[0;34m\"Interrupted by user\"\u001b[0m\u001b[0;34m)\u001b[0m \u001b[0;32mfrom\u001b[0m \u001b[0;32mNone\u001b[0m\u001b[0;34m\u001b[0m\u001b[0;34m\u001b[0m\u001b[0m\n\u001b[0m\u001b[1;32m    896\u001b[0m             \u001b[0;32mexcept\u001b[0m \u001b[0mException\u001b[0m \u001b[0;32mas\u001b[0m \u001b[0me\u001b[0m\u001b[0;34m:\u001b[0m\u001b[0;34m\u001b[0m\u001b[0;34m\u001b[0m\u001b[0m\n\u001b[1;32m    897\u001b[0m                 \u001b[0mself\u001b[0m\u001b[0;34m.\u001b[0m\u001b[0mlog\u001b[0m\u001b[0;34m.\u001b[0m\u001b[0mwarning\u001b[0m\u001b[0;34m(\u001b[0m\u001b[0;34m\"Invalid Message:\"\u001b[0m\u001b[0;34m,\u001b[0m \u001b[0mexc_info\u001b[0m\u001b[0;34m=\u001b[0m\u001b[0;32mTrue\u001b[0m\u001b[0;34m)\u001b[0m\u001b[0;34m\u001b[0m\u001b[0;34m\u001b[0m\u001b[0m\n",
            "\u001b[0;31mKeyboardInterrupt\u001b[0m: Interrupted by user"
          ]
        }
      ],
      "source": [
        "def make_album(artist, albumtitle, number_of_songs=None):\n",
        "  album = {'Artist': artist, 'Album title': albumtitle}\n",
        "  if number_of_songs is not None:\n",
        "    album['Number of songs'] = number_of_songs\n",
        "  return album\n",
        "\n",
        "while True:\n",
        "  artist = input(\"Enter the artist's name (or 'quit' to exit):\")\n",
        "  if artist.lower() == 'quit':\n",
        "    break\n",
        "\n",
        "  album_title = input(\"Enter the album title: \")\n",
        "  number_of_songs = input(\"Enter the number of songs (or press Enter to skip):\")\n",
        "  if number_of_songs:\n",
        "    album = make_album(artist, album_title, int(number_of_songs))\n",
        "  else:\n",
        "    album = make_album(artist, album_title)\n",
        "\n",
        "  print(album)"
      ]
    },
    {
      "cell_type": "markdown",
      "metadata": {
        "id": "UMCeZvzxdrAt"
      },
      "source": [
        "## Question 9\n",
        "**Messages:** Make a list containing a series of short text messages. Pass the list to a function called `show_messages()`, which prints each text message."
      ]
    },
    {
      "cell_type": "code",
      "execution_count": null,
      "metadata": {
        "id": "p0fUQe6WdrAt",
        "colab": {
          "base_uri": "https://localhost:8080/"
        },
        "outputId": "0652e8ef-0fa3-4442-fffe-538e11017a8c"
      },
      "outputs": [
        {
          "output_type": "stream",
          "name": "stdout",
          "text": [
            "Good Morning\n",
            "How are you?\n",
            "Talk to you later\n"
          ]
        }
      ],
      "source": [
        "def show_messages(messages):\n",
        "  for message in messages:\n",
        "    print(message)\n",
        "\n",
        "text_messages = [\n",
        "    \"Good Morning\",\n",
        "    \"How are you?\",\n",
        "    \"Talk to you later\"\n",
        "]\n",
        "\n",
        "show_messages(text_messages)"
      ]
    },
    {
      "cell_type": "markdown",
      "metadata": {
        "id": "ZBfX9LCedrAt"
      },
      "source": [
        "## Question 10\n",
        "**Sending Messages:** Start with a copy of your program from Question 9. Write a function called `send_messages()` that prints each text message and moves each message to a new list called `sent_messages` as it’s printed. After calling the function, print both of your lists to make sure the messages were moved correctly."
      ]
    },
    {
      "cell_type": "code",
      "execution_count": null,
      "metadata": {
        "id": "FSsRaGohdrAu",
        "colab": {
          "base_uri": "https://localhost:8080/"
        },
        "outputId": "d76811a3-6dbb-4dd1-f16a-038d68620365"
      },
      "outputs": [
        {
          "output_type": "stream",
          "name": "stdout",
          "text": [
            "Sending message:  Good Morning\n",
            "Sending message:  How are you?\n",
            "Sending message:  Talk to you later\n",
            "Text Messages:\n",
            "\n",
            "Sent Messages:\n",
            "Good Morning\n",
            "How are you?\n",
            "Talk to you later\n"
          ]
        }
      ],
      "source": [
        "def show_messages(messages):\n",
        "  for message in messages:\n",
        "    print(message)\n",
        "\n",
        "def send_messages(messages, sent_messages):\n",
        "  while messages:\n",
        "    message = messages.pop(0)\n",
        "    print(\"Sending message: \", message)\n",
        "    sent_messages.append(message)\n",
        "\n",
        "text_messages = [\n",
        "    \"Good Morning\",\n",
        "    \"How are you?\",\n",
        "    \"Talk to you later\"\n",
        "]\n",
        "\n",
        "sent_messages = []\n",
        "\n",
        "send_messages(text_messages, sent_messages)\n",
        "\n",
        "print(\"Text Messages:\")\n",
        "show_messages(text_messages)\n",
        "print(\"\\nSent Messages:\")\n",
        "show_messages(sent_messages)"
      ]
    },
    {
      "cell_type": "markdown",
      "metadata": {
        "id": "UAAOjmFMdrAu"
      },
      "source": [
        "## Question 11\n",
        "**Archived Messages:** Start with your work from Question 10. Call the function `send_messages()` with a copy of the list of messages. After calling the function, print both of your lists to show that the original list has retained its messages."
      ]
    },
    {
      "cell_type": "code",
      "execution_count": null,
      "metadata": {
        "id": "tJhfQMZ_drAu",
        "colab": {
          "base_uri": "https://localhost:8080/"
        },
        "outputId": "be0e0994-c565-438f-afc4-7663be6c288a"
      },
      "outputs": [
        {
          "output_type": "stream",
          "name": "stdout",
          "text": [
            "Sending message:  Good Morning\n",
            "Sending message:  How are you?\n",
            "Sending message:  Talk to you later\n",
            "Original Text Messages:\n",
            "Good Morning\n",
            "How are you?\n",
            "Talk to you later\n",
            "\n",
            "Sent Messages:\n",
            "Good Morning\n",
            "How are you?\n",
            "Talk to you later\n"
          ]
        }
      ],
      "source": [
        "def show_messages(messages):\n",
        "  for message in messages:\n",
        "    print(message)\n",
        "\n",
        "def send_messages(messages, sent_messages):\n",
        "  while messages:\n",
        "    message = messages.pop(0)\n",
        "    print(\"Sending message: \", message)\n",
        "    sent_messages.append(message)\n",
        "\n",
        "text_messages = [\n",
        "    \"Good Morning\",\n",
        "    \"How are you?\",\n",
        "    \"Talk to you later\"\n",
        "]\n",
        "\n",
        "copy_of_text_messages = text_messages[:]\n",
        "\n",
        "sent_messages = []\n",
        "\n",
        "send_messages(copy_of_text_messages, sent_messages)\n",
        "\n",
        "print(\"Original Text Messages:\")\n",
        "show_messages(text_messages)\n",
        "print(\"\\nSent Messages:\")\n",
        "show_messages(sent_messages)"
      ]
    },
    {
      "cell_type": "markdown",
      "metadata": {
        "id": "hV9_iD1-drAu"
      },
      "source": [
        "## Question 12\n",
        "**Sandwiches:** Write a function that accepts a list of items a person wants on a sandwich. The function should have one parameter that collects as many items as the function call provides, and it should print a summary of the sandwich that’s being ordered. Call the function three times, using a different number of arguments each time."
      ]
    },
    {
      "cell_type": "code",
      "execution_count": null,
      "metadata": {
        "id": "G_yBclHUdrAu",
        "colab": {
          "base_uri": "https://localhost:8080/"
        },
        "outputId": "a6632d22-29ca-443f-e6c2-5d01d69f0795"
      },
      "outputs": [
        {
          "output_type": "stream",
          "name": "stdout",
          "text": [
            "Making a sandwich with the following items:\n",
            "\n",
            "-Turkey\n",
            "\n",
            "-Lettuce\n",
            "\n",
            "-Tomato\n",
            "\n",
            "Making a sandwich with the following items:\n",
            "\n",
            "-Pepperoni\n",
            "\n",
            "-Cheese\n",
            "\n",
            "Making a sandwich with the following items:\n",
            "\n",
            "-Ham\n",
            "\n",
            "-Lettuce\n",
            "\n"
          ]
        }
      ],
      "source": [
        "def make_sandwich(*items):\n",
        "  print(\"Making a sandwich with the following items:\\n\")\n",
        "  for item in items:\n",
        "    print(f\"-{item}\\n\")\n",
        "\n",
        "\n",
        "make_sandwich(\"Turkey\", \"Lettuce\", \"Tomato\")\n",
        "\n",
        "make_sandwich(\"Pepperoni\", \"Cheese\")\n",
        "\n",
        "make_sandwich(\"Ham\", \"Lettuce\")"
      ]
    },
    {
      "cell_type": "markdown",
      "metadata": {
        "id": "_1ff-GcidrAu"
      },
      "source": [
        "## Question 13\n",
        "**Cars:** Write a function that stores information about a car in a dictionary. The function should always receive a manufacturer and a model name. It should then accept an arbitrary number of keyword arguments. Call the function with the required information and two other name-value pairs, such as a color or an optional feature. Your function should work for a call like this one:\n",
        "```\n",
        "car = make_car('subaru', 'outback', color='blue', tow_package=True)\n",
        "```\n",
        "Print the dictionary that’s returned to make sure all the information was stored correctly."
      ]
    },
    {
      "cell_type": "code",
      "execution_count": null,
      "metadata": {
        "id": "aQ0jzbeYdrAu",
        "colab": {
          "base_uri": "https://localhost:8080/"
        },
        "outputId": "edf28022-60cc-4e26-fcdd-bdfc38767ce5"
      },
      "outputs": [
        {
          "output_type": "stream",
          "name": "stdout",
          "text": [
            "{'Manufacturer': 'Toyota', 'Model': 'Camry', 'Color': 'Silver', 'Year': 2020}\n",
            "{'Manufacturer': 'Honda', 'Model': 'Accord', 'Color': 'Blue', 'Features': 'Bluetooth'}\n",
            "{'Manufacturer': 'Subaru', 'Model': 'Outback', 'Color': 'Brown', 'Transmission': 'Automatic'}\n"
          ]
        }
      ],
      "source": [
        "def car_info(manufacturer, model, **bonus):\n",
        "  car_details = {'Manufacturer': manufacturer, 'Model': model}\n",
        "  car_details.update(bonus)\n",
        "  return car_details\n",
        "\n",
        "car1 = car_info(\"Toyota\", \"Camry\", Color=\"Silver\", Year=2020)\n",
        "car2 = car_info(\"Honda\", \"Accord\", Color=\"Blue\", Features=\"Bluetooth\")\n",
        "car3 = car_info(\"Subaru\", \"Outback\", Color=\"Brown\", Transmission=\"Automatic\")\n",
        "\n",
        "\n",
        "\n",
        "print(car1)\n",
        "print(car2)\n",
        "print(car3)"
      ]
    },
    {
      "cell_type": "markdown",
      "metadata": {
        "id": "OvlRDPt3drAu"
      },
      "source": [
        "## Question 14\n",
        "**Restaurant:** Make a class called `Restaurant`. The `__init__()` method for `Restaurant` should store two attributes: a `restaurant_name` and a `cuisine_type`. Make a method called `describe_restaurant()` that prints these two pieces of information, and a method called `open_restaurant()` that prints a message indicating that the restaurant is open.\n",
        "\n",
        "Make an instance called `restaurant` from your class. Print the two attributes individually, and then call both methods."
      ]
    },
    {
      "cell_type": "code",
      "execution_count": null,
      "metadata": {
        "id": "0tAyBFmhdrAu",
        "colab": {
          "base_uri": "https://localhost:8080/"
        },
        "outputId": "4e75bf8c-a7f5-4f7e-c5ff-7fcb1fcc1e07"
      },
      "outputs": [
        {
          "output_type": "stream",
          "name": "stdout",
          "text": [
            "Restaurant Name: The Pizzeria\n",
            "Cuisine Type: Italian\n"
          ]
        }
      ],
      "source": [
        "class Restaurant:\n",
        "  def __init__(self, restaurant_name, cuisine_type):\n",
        "    self.restaurant_name = restaurant_name\n",
        "    self.cuisine_type = cuisine_type\n",
        "\n",
        "  def describe_restaurant(self):\n",
        "    print(f\"Restaurant Name: {self.restaurant_name}\")\n",
        "    print(f\"Cuisine Type: {self.cuisine_type}\")\n",
        "\n",
        "  def open_restaurant(self):\n",
        "    print(f\"{self.restaurant_name} is now open!\")\n",
        "\n",
        "  restaurant = Restaurant(\"The Pizzeria\", \"Italian\")\n",
        "\n",
        "\n",
        "  restaurant.describe_restaurant()\n"
      ]
    },
    {
      "cell_type": "markdown",
      "metadata": {
        "id": "Ly1fUYKVdrAu"
      },
      "source": [
        "## Question 15\n",
        "**Three Restaurants:** Start with your class from Question 14. Create three different instances from the class, and call `describe_restaurant()` for each instance."
      ]
    },
    {
      "cell_type": "code",
      "execution_count": null,
      "metadata": {
        "id": "H3G2L1WMdrAv",
        "colab": {
          "base_uri": "https://localhost:8080/"
        },
        "outputId": "880ee1dc-257c-4e9e-a18a-fe0607a0b26c"
      },
      "outputs": [
        {
          "output_type": "stream",
          "name": "stdout",
          "text": [
            "Restaurant Name: Pizzeria\n",
            "Cuisine Type: Italian\n",
            "\n",
            "\n",
            "Restaurant Name: Bake shop\n",
            "Cuisine Type: Bakery\n",
            "\n",
            "\n",
            "Restaurant Name: Casa Bonita\n",
            "Cuisine Type: Mexican\n"
          ]
        }
      ],
      "source": [
        "class Restaurant:\n",
        "  def __init__(self, restaurant_name, cuisine_type):\n",
        "    self.restaurant_name = restaurant_name\n",
        "    self.cuisine_type = cuisine_type\n",
        "\n",
        "  def describe_restaurant(self):\n",
        "    print(f\"Restaurant Name: {self.restaurant_name}\")\n",
        "    print(f\"Cuisine Type: {self.cuisine_type}\")\n",
        "\n",
        "  def open_restaurant(self):\n",
        "    print(f\"{self.restaurant_name} is now open!\")\n",
        "\n",
        "  restaurant1 = Restaurant(\"Pizzeria\", \"Italian\")\n",
        "  restaurant2 = Restaurant(\"Bake shop\", \"Bakery\")\n",
        "  restaurant3 = Restaurant(\"Casa Bonita\", \"Mexican\")\n",
        "\n",
        "  restaurant1.describe_restaurant()\n",
        "  print(\"\\n\")\n",
        "  restaurant2.describe_restaurant()\n",
        "  print(\"\\n\")\n",
        "  restaurant3.describe_restaurant()\n"
      ]
    },
    {
      "cell_type": "markdown",
      "metadata": {
        "id": "So0PN-LmdrAv"
      },
      "source": [
        "## Question 16\n",
        "**Users:** Make a class called `User`. Create two attributes called `first_name` and `last_name`, and then create several other attributes that are typically stored in a user profile. Make a method called `describe_user()` that prints a summary of the user’s information. Make another method called `greet_user()` that prints a personalized greeting to the user.\n",
        "\n",
        "Create several instances representing different users, and call both methods for each user."
      ]
    },
    {
      "cell_type": "code",
      "execution_count": null,
      "metadata": {
        "id": "IvvFW8G7drAv",
        "colab": {
          "base_uri": "https://localhost:8080/"
        },
        "outputId": "311adada-bd54-42c3-a02e-e1cbfa6ba057"
      },
      "outputs": [
        {
          "output_type": "stream",
          "name": "stdout",
          "text": [
            "User Information\n",
            "First Name: Bob\n",
            "Last Name: Smith\n",
            "Username: Bobsmith123\n",
            "Email: bobsmith@gmail.com\n",
            "Hello, Bob Smith!\n",
            "\n",
            "\n",
            "User Information\n",
            "First Name: John\n",
            "Last Name: Miller\n",
            "Username: Johnmiller123\n",
            "Email: johnmiller@gmail.com\n",
            "Hello, John Miller!\n",
            "\n",
            "\n",
            "User Information\n",
            "First Name: Jen\n",
            "Last Name: Johnson\n",
            "Username: Jenjohnson123\n",
            "Email: jj123@gmail.com\n",
            "Hello, Jen Johnson!\n"
          ]
        }
      ],
      "source": [
        "class User:\n",
        "  def __init__(self, first_name, last_name, username, email):\n",
        "    self.first_name = first_name\n",
        "    self.last_name = last_name\n",
        "    self.username = username\n",
        "    self.email = email\n",
        "\n",
        "  def describe_user(self):\n",
        "    print(\"User Information\")\n",
        "    print(f\"First Name: {self.first_name}\")\n",
        "    print(f\"Last Name: {self.last_name}\")\n",
        "    print(f\"Username: {self.username}\")\n",
        "    print(f\"Email: {self.email}\")\n",
        "\n",
        "  def greet_user(self):\n",
        "    print(f\"Hello, {self.first_name} {self.last_name}!\")\n",
        "\n",
        "user1 = User(\"Bob\", \"Smith\", \"Bobsmith123\", \"bobsmith@gmail.com\")\n",
        "user2 = User(\"John\", \"Miller\", \"Johnmiller123\", \"johnmiller@gmail.com\")\n",
        "user3 = User(\"Jen\", \"Johnson\", \"Jenjohnson123\", \"jj123@gmail.com\")\n",
        "\n",
        "user1.describe_user()\n",
        "user1.greet_user()\n",
        "print(\"\\n\")\n",
        "\n",
        "user2.describe_user()\n",
        "user2.greet_user()\n",
        "print(\"\\n\")\n",
        "\n",
        "user3.describe_user()\n",
        "user3.greet_user()\n"
      ]
    },
    {
      "cell_type": "markdown",
      "metadata": {
        "id": "1nfaX30FdrAv"
      },
      "source": [
        "## Question 17\n",
        "**Number Served:** Start with your program from Question 14. Add an attribute called `number_served` with a default value of 0. Create an instance called `restaurant` from this class. Print the number of customers the restaurant has served, and then change this value and print it again.\n",
        "\n",
        "Add a method called `set_number_served()` that lets you set the number of customers that have been served. Call this method with a new number and print the value again.\n",
        "\n",
        "Add a method called `increment_number_served()` that lets you increment the number of customers who’ve been served.\n",
        "\n",
        "Call this method with any number you like that could represent how many customers were served in, say, a day of business."
      ]
    },
    {
      "cell_type": "code",
      "execution_count": 1,
      "metadata": {
        "id": "zRS6OvFGdrAv",
        "colab": {
          "base_uri": "https://localhost:8080/"
        },
        "outputId": "f1517a86-0edb-4c7e-ab3d-4c3775c252d9"
      },
      "outputs": [
        {
          "output_type": "stream",
          "name": "stdout",
          "text": [
            "Number of Customers Served: 50\n"
          ]
        }
      ],
      "source": [
        "class Restaurant:\n",
        "  def __init__(self, restaurant_name, cuisine_type):\n",
        "    self.restaurant_name = restaurant_name\n",
        "    self.cuisine_type = cuisine_type\n",
        "    self.number_served = 0\n",
        "\n",
        "  def describe_restaurant(self):\n",
        "    print(f\"Restaurant Name: {self.restaurant_name}\")\n",
        "    print(f\"Cuisine Type: {self.cuisine_type}\")\n",
        "    print(f\"Number of Customers Served: {self.number_served}\")\n",
        "\n",
        "  def open_restaurant(self):\n",
        "    print(f\"{self.restaurant_name} is now open!\")\n",
        "\n",
        "  def set_number_served(self, number):\n",
        "    self.number_served = number\n",
        "\n",
        "  def increment_number_served(self, increment):\n",
        "    self.number_served += increment\n",
        "\n",
        "restaurant = Restaurant(\"The Pizzeria\", \"Italian\")\n",
        "\n",
        "restaurant.number_served = 50\n",
        "print(\"Number of Customers Served:\", restaurant.number_served)\n",
        "\n"
      ]
    },
    {
      "cell_type": "markdown",
      "metadata": {
        "id": "mWuNhEUDdrAv"
      },
      "source": [
        "## Question 18\n",
        "**Login Attempts:** Add an attribute called login_attempts to your User class from Question 16. Write a method called `increment_login_attempts()` that increments the value of `login_attempts` by 1. Write another method called `reset_login_attempts()` that resets the value of login_attempts to 0.\n",
        "\n",
        "Make an instance of the `User` class and call `increment_login_attempts()` several times. Print the value of `login_attempts` to make sure it was incremented properly, and then call `reset_login_attempts()`. Print `login_attempts` again to make sure it was reset to 0."
      ]
    },
    {
      "cell_type": "code",
      "execution_count": 4,
      "metadata": {
        "id": "YaNpvSj-drAv",
        "colab": {
          "base_uri": "https://localhost:8080/"
        },
        "outputId": "07c221d1-fd6d-4e3f-fa53-30b55fd20a98"
      },
      "outputs": [
        {
          "output_type": "stream",
          "name": "stdout",
          "text": [
            "Login Attempts: 3\n"
          ]
        }
      ],
      "source": [
        "class User:\n",
        "  def __init__(self, first_name, last_name, username, email):\n",
        "    self.first_name = first_name\n",
        "    self.last_name = last_name\n",
        "    self.username = username\n",
        "    self.email = email\n",
        "    self.login_attempts = 0\n",
        "\n",
        "  def describe_user(self):\n",
        "    print(\"User Information\")\n",
        "    print(f\"First Name: {self.first_name}\")\n",
        "    print(f\"Last Name: {self.last_name}\")\n",
        "    print(f\"Username: {self.username}\")\n",
        "    print(f\"Email: {self.email}\")\n",
        "\n",
        "  def greet_user(self):\n",
        "    print(f\"Hello, {self.first_name} {self.last_name}!\")\n",
        "\n",
        "  def increment_login_attempts(self):\n",
        "    self.login_attempts += 1\n",
        "\n",
        "  def reset_login_attempts(self):\n",
        "    self.login_attempts = 0\n",
        "\n",
        "user1 =User(\"Bob\", \"Smith\", \"Bobsmith123\", \"bobsmith@gmail.com\")\n",
        "\n",
        "user1.increment_login_attempts()\n",
        "user1.increment_login_attempts()\n",
        "user1.increment_login_attempts()\n",
        "\n",
        "print(f\"Login Attempts: {user1.login_attempts}\")"
      ]
    },
    {
      "cell_type": "markdown",
      "metadata": {
        "id": "nagDs11edrAv"
      },
      "source": [
        "## Question 19\n",
        "**Dice:** Make a class `Die` with one attribute called `sides`, which has a default value of 6. Write a method called `roll_die()` that prints a random number between 1 and the number of sides the die has. Make a 6-sided die and roll it 10 times.\n",
        "\n",
        "Make a 10-sided die and a 20-sided die. Roll each die 10 times."
      ]
    },
    {
      "cell_type": "code",
      "execution_count": 5,
      "metadata": {
        "id": "OD6lkN91drAy",
        "colab": {
          "base_uri": "https://localhost:8080/"
        },
        "outputId": "feb0296b-6f78-44ef-d199-53ad08d6b863"
      },
      "outputs": [
        {
          "output_type": "stream",
          "name": "stdout",
          "text": [
            "Rolling 6 sided die 10 times:\n",
            "Result: 6\n",
            "Result: 4\n",
            "Result: 5\n",
            "Result: 2\n",
            "Result: 3\n",
            "Result: 3\n",
            "Result: 1\n",
            "Result: 2\n",
            "Result: 6\n",
            "Result: 2\n",
            "\n",
            "Rolling a 10-sided die 10 times:\n",
            "Result: 10\n",
            "Result: 9\n",
            "Result: 4\n",
            "Result: 6\n",
            "Result: 7\n",
            "Result: 8\n",
            "Result: 3\n",
            "Result: 9\n",
            "Result: 10\n",
            "Result: 3\n",
            "\n",
            "Rolling a 20-sided die 10 times:\n",
            "Result: 8\n",
            "Result: 11\n",
            "Result: 11\n",
            "Result: 5\n",
            "Result: 7\n",
            "Result: 12\n",
            "Result: 10\n",
            "Result: 9\n",
            "Result: 19\n",
            "Result: 2\n"
          ]
        }
      ],
      "source": [
        "import random\n",
        "\n",
        "class Die:\n",
        "  def __init__(self, sides=6):\n",
        "    self.sides = sides\n",
        "\n",
        "  def roll_die(self):\n",
        "    result = random.randint(1,self.sides)\n",
        "    return result\n",
        "\n",
        "six_sided_die = Die()\n",
        "\n",
        "print(\"Rolling 6 sided die 10 times:\")\n",
        "for _ in range(10):\n",
        "  result = six_sided_die.roll_die()\n",
        "  print(f\"Result: {result}\")\n",
        "\n",
        "ten_sided_die = Die(sides=10)\n",
        "\n",
        "print(\"\\nRolling a 10-sided die 10 times:\")\n",
        "for _ in range(10):\n",
        "    result = ten_sided_die.roll_die()\n",
        "    print(f\"Result: {result}\")\n",
        "\n",
        "twenty_sided_die = Die(sides=20)\n",
        "\n",
        "print(\"\\nRolling a 20-sided die 10 times:\")\n",
        "for _ in range(10):\n",
        "    result = twenty_sided_die.roll_die()\n",
        "    print(f\"Result: {result}\")"
      ]
    },
    {
      "cell_type": "markdown",
      "metadata": {
        "id": "oaGENgf7drAy"
      },
      "source": [
        "## Question 20\n",
        "**Lottery:** Make a list or tuple containing a series of 10 numbers and five letters. Randomly select four numbers or letters from the list and print a message saying that any ticket matching these four numbers or letters wins a prize.\n",
        "\n",
        "You can use a loop to see how hard it might be to win the kind of lottery you just modeled. Make a list or tuple called `my_ticket`. Write a loop that keeps pulling numbers until your ticket wins. Print a message reporting how many times the loop had to run to give you a winning ticket."
      ]
    },
    {
      "cell_type": "code",
      "execution_count": 10,
      "metadata": {
        "id": "Q4xYVJLmdrAz",
        "colab": {
          "base_uri": "https://localhost:8080/"
        },
        "outputId": "f3ef95f1-4a03-4ea6-f631-f0d3083daee7"
      },
      "outputs": [
        {
          "output_type": "stream",
          "name": "stdout",
          "text": [
            "Congratulations! You have a winning ticket.\n",
            "Your ticket: [3, 'A', 7, 9]\n",
            "Winning combination: [3, 'A', 7, 9]\n",
            "Number of attempts: 4754\n"
          ]
        }
      ],
      "source": [
        "import random\n",
        "\n",
        "lottery_numbers_and_letters = [1, 2, 3, 4, 5, 6, 7, 8, 9, 10, 'A', 'B', 'C', 'D', 'E']\n",
        "\n",
        "my_ticket = [3, 'A', 7, 9]\n",
        "\n",
        "attempts = 0\n",
        "\n",
        "while True:\n",
        "    random_selection = random.sample(lottery_numbers_and_letters, 4)\n",
        "    attempts += 1\n",
        "\n",
        "    if random_selection == my_ticket:\n",
        "        break\n",
        "\n",
        "print(\"Congratulations! You have a winning ticket.\")\n",
        "print(f\"Your ticket: {my_ticket}\")\n",
        "print(f\"Winning combination: {random_selection}\")\n",
        "print(f\"Number of attempts: {attempts}\")\n"
      ]
    }
  ],
  "metadata": {
    "kernelspec": {
      "display_name": "Python 3 (ipykernel)",
      "language": "python",
      "name": "python3"
    },
    "language_info": {
      "codemirror_mode": {
        "name": "ipython",
        "version": 3
      },
      "file_extension": ".py",
      "mimetype": "text/x-python",
      "name": "python",
      "nbconvert_exporter": "python",
      "pygments_lexer": "ipython3",
      "version": "3.8.10"
    },
    "colab": {
      "provenance": [],
      "include_colab_link": true
    }
  },
  "nbformat": 4,
  "nbformat_minor": 0
}